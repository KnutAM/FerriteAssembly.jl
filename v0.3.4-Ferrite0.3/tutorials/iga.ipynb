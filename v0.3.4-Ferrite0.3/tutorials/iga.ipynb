{
 "cells": [
  {
   "cell_type": "markdown",
   "source": [
    "# Isogeometric analysis with `IGA.jl`\n",
    "This tutorial shows how to integrate FerriteAssembly with the\n",
    "isogeometric analysis toolbox IGA.jl, directly based on `IGA.jl`'s\n",
    "[Infinite plate with hole](https://lijas.github.io/IGA.jl/dev/examples/plate_with_hole/)\n",
    "example. Hence, please see there for further documentation details and important remarks\n",
    "regarding IGA.\n",
    "\n",
    "The example considers solving a plate with a hole. A quater of a plate is considered via symmetry\n",
    "boundary conditions, and a tensile load is applied on one edge.\n",
    "The full script without intermediate comments is available at the\n",
    "bottom of this page."
   ],
   "metadata": {}
  },
  {
   "cell_type": "markdown",
   "source": [
    "Start by loading the necessary packages"
   ],
   "metadata": {}
  },
  {
   "outputs": [],
   "cell_type": "code",
   "source": [
    "using Ferrite, IGA, LinearAlgebra, FerriteAssembly\n",
    "import FerriteAssembly.ExampleElements: ElasticPlaneStrain"
   ],
   "metadata": {},
   "execution_count": 1
  },
  {
   "cell_type": "markdown",
   "source": [
    "## Setup\n",
    "We begin by generating the mesh by using `IGA.jl`'s built-in mesh generators\n",
    "In this example, we will generate the patch called \"plate with hole\".\n",
    "Note, currently this function can only generate the patch with second order basefunctions."
   ],
   "metadata": {}
  },
  {
   "outputs": [],
   "cell_type": "code",
   "source": [
    "function create_mesh(;nels=(20,10))\n",
    "    nurbsmesh = generate_nurbs_patch(:plate_with_hole, nels)\n",
    "    grid = BezierGrid(nurbsmesh)\n",
    "\n",
    "    addfaceset!(grid, \"left\", (x) -> x[1] ≈ -4.0)\n",
    "    addfaceset!(grid, \"bot\", (x) -> x[2] ≈ 0.0)\n",
    "    addfaceset!(grid, \"right\", (x) -> x[1] ≈ 0.0)\n",
    "\n",
    "    return grid\n",
    "end\n",
    "grid = create_mesh();"
   ],
   "metadata": {},
   "execution_count": 2
  },
  {
   "cell_type": "markdown",
   "source": [
    "Create the cellvalues storing the shape function values."
   ],
   "metadata": {}
  },
  {
   "outputs": [],
   "cell_type": "code",
   "source": [
    "orders=(2,2)\n",
    "ip = BernsteinBasis{2,orders}()\n",
    "qr_cell = QuadratureRule{2,RefCube}(4)\n",
    "qr_face = QuadratureRule{1,RefCube}(3)\n",
    "\n",
    "cv = BezierCellValues( CellVectorValues(qr_cell, ip) );\n",
    "fv = BezierFaceValues( FaceVectorValues(qr_face, ip) );"
   ],
   "metadata": {},
   "execution_count": 3
  },
  {
   "cell_type": "markdown",
   "source": [
    "Distribute dofs as normal"
   ],
   "metadata": {}
  },
  {
   "outputs": [],
   "cell_type": "code",
   "source": [
    "dh = MixedDofHandler(grid)\n",
    "push!(dh, :u, 2, ip)\n",
    "close!(dh);"
   ],
   "metadata": {},
   "execution_count": 4
  },
  {
   "cell_type": "markdown",
   "source": [
    "And allocate system matrices and vectors"
   ],
   "metadata": {}
  },
  {
   "outputs": [],
   "cell_type": "code",
   "source": [
    "a = zeros(ndofs(dh))\n",
    "r = zeros(ndofs(dh))\n",
    "K = create_sparsity_pattern(dh);"
   ],
   "metadata": {},
   "execution_count": 5
  },
  {
   "cell_type": "markdown",
   "source": [
    "Starting with Dirichlet conditions:\n",
    "1) Bottom face should only be able to move in x-direction\n",
    "2) Right boundary should only be able to move in y-direction"
   ],
   "metadata": {}
  },
  {
   "outputs": [],
   "cell_type": "code",
   "source": [
    "ch = ConstraintHandler(dh);\n",
    "add!(ch, Dirichlet(:u, getfaceset(grid, \"bot\"), Returns(0.0), 2))\n",
    "add!(ch, Dirichlet(:u, getfaceset(grid, \"right\"), Returns(0.0), 1))\n",
    "close!(ch)\n",
    "update!(ch, 0.0);"
   ],
   "metadata": {},
   "execution_count": 6
  },
  {
   "cell_type": "markdown",
   "source": [
    "Then Neumann conditions:\n",
    "Apply outwards traction on the left surface,\n",
    "taking the negative value since r = fint - fext."
   ],
   "metadata": {}
  },
  {
   "outputs": [],
   "cell_type": "code",
   "source": [
    "traction = Vec((-10.0, 0.0))\n",
    "lh = LoadHandler(dh)\n",
    "add!(lh, Neumann(:u, fv, getfaceset(grid, \"left\"), Returns(-traction)));"
   ],
   "metadata": {},
   "execution_count": 7
  },
  {
   "cell_type": "markdown",
   "source": [
    "FerriteAssembly setup"
   ],
   "metadata": {}
  },
  {
   "outputs": [],
   "cell_type": "code",
   "source": [
    "material = ElasticPlaneStrain(;E=100.0, ν=0.3)\n",
    "domain = DomainSpec(FerriteAssembly.SubDofHandler(dh, dh.fieldhandlers[1]), material, cv)\n",
    "buffer = setup_domainbuffer(domain);"
   ],
   "metadata": {},
   "execution_count": 8
  },
  {
   "cell_type": "markdown",
   "source": [
    "## Assemble"
   ],
   "metadata": {}
  },
  {
   "outputs": [],
   "cell_type": "code",
   "source": [
    "assembler = start_assemble(K, r)\n",
    "apply!(a, ch)\n",
    "work!(assembler, buffer; a=a)\n",
    "apply!(r, lh, 0.0);"
   ],
   "metadata": {},
   "execution_count": 9
  },
  {
   "cell_type": "markdown",
   "source": [
    "## Solve"
   ],
   "metadata": {}
  },
  {
   "outputs": [],
   "cell_type": "code",
   "source": [
    "apply_zero!(K, r, ch)\n",
    "a .-= K\\r\n",
    "apply!(a, ch);"
   ],
   "metadata": {},
   "execution_count": 10
  },
  {
   "cell_type": "markdown",
   "source": [
    "## Postprocessing\n",
    "First, the stresses in each integration point are calculated by using the Integrator."
   ],
   "metadata": {}
  },
  {
   "outputs": [],
   "cell_type": "code",
   "source": [
    "struct CellStress{TT}\n",
    "    s::Vector{Vector{TT}}\n",
    "end\n",
    "function CellStress(grid::Ferrite.AbstractGrid)\n",
    "    Tb = SymmetricTensor{2,Ferrite.getdim(grid)}\n",
    "    TT = Tb{Float64,Tensors.n_components(Tb)}\n",
    "    return CellStress([TT[] for _ in 1:getncells(grid)])\n",
    "end\n",
    "\n",
    "function FerriteAssembly.integrate_cell!(stress::CellStress, state, ae, material, cv, cb)\n",
    "    σ = stress.s[cellid(cb)]\n",
    "    for q_point in 1:getnquadpoints(cv)\n",
    "        ϵ = function_symmetric_gradient(cv, q_point, ae)\n",
    "        push!(σ, material.C⊡ϵ)\n",
    "    end\n",
    "end\n",
    "cellstresses = CellStress(grid)\n",
    "integrator = Integrator(cellstresses)\n",
    "work!(integrator, buffer; a=a);"
   ],
   "metadata": {},
   "execution_count": 11
  },
  {
   "cell_type": "markdown",
   "source": [
    "Now we want to export the results to VTK. So we project the stresses at\n",
    "the quadrature points to the nodes using the L2Projector from Ferrite."
   ],
   "metadata": {}
  },
  {
   "outputs": [],
   "cell_type": "code",
   "source": [
    "projector = L2Projector(ip, grid)\n",
    "σ_nodes = IGA.igaproject(projector, cellstresses.s, qr_cell; project_to_nodes=true);"
   ],
   "metadata": {},
   "execution_count": 12
  },
  {
   "cell_type": "markdown",
   "source": [
    "Output results to VTK"
   ],
   "metadata": {}
  },
  {
   "outputs": [],
   "cell_type": "code",
   "source": [
    "vtkgrid = vtk_grid(\"plate_with_hole.vtu\", grid)\n",
    "vtk_point_data(vtkgrid, dh, a)\n",
    "vtk_point_data(vtkgrid, σ_nodes, \"sigma\", grid)\n",
    "vtk_save(vtkgrid);"
   ],
   "metadata": {},
   "execution_count": 13
  },
  {
   "cell_type": "markdown",
   "source": [
    "---\n",
    "\n",
    "*This notebook was generated using [Literate.jl](https://github.com/fredrikekre/Literate.jl).*"
   ],
   "metadata": {}
  }
 ],
 "nbformat_minor": 3,
 "metadata": {
  "language_info": {
   "file_extension": ".jl",
   "mimetype": "application/julia",
   "name": "julia",
   "version": "1.9.3"
  },
  "kernelspec": {
   "name": "julia-1.9",
   "display_name": "Julia 1.9.3",
   "language": "julia"
  }
 },
 "nbformat": 4
}
