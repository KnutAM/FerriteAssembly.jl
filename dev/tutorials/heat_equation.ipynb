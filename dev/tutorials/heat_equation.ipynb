{
 "cells": [
  {
   "cell_type": "markdown",
   "source": [
    "# Heat Equation\n",
    "This tutorial solves the stationary heat flow example,\n",
    "equivalent to the first example in `Ferrite.jl`.\n",
    "\n",
    "The full script without intermediate comments is available at the\n",
    "bottom of this page.\n",
    "\n",
    "## Setup\n",
    "First we create the dofhandler, vectors and matrices, and cellvalues as in\n",
    "[`Ferrite.jl`'s heat equation example](https://ferrite-fem.github.io/Ferrite.jl/stable/examples/heat_equation/)"
   ],
   "metadata": {}
  },
  {
   "outputs": [],
   "cell_type": "code",
   "source": [
    "using Ferrite, FerriteAssembly\n",
    "grid = generate_grid(Quadrilateral, (20, 20))\n",
    "ip = Lagrange{RefQuadrilateral,1}()\n",
    "dh = DofHandler(grid); add!(dh, :u, ip); close!(dh)\n",
    "cellvalues = CellValues(QuadratureRule{RefQuadrilateral}(2), ip);\n",
    "K = create_sparsity_pattern(dh)\n",
    "r = zeros(ndofs(dh));"
   ],
   "metadata": {},
   "execution_count": 1
  },
  {
   "cell_type": "markdown",
   "source": [
    "## Define the physics\n",
    "We start by defining the material and create an instance of it"
   ],
   "metadata": {}
  },
  {
   "outputs": [],
   "cell_type": "code",
   "source": [
    "struct ThermalMaterial\n",
    "    k::Float64 # Thermal conductivity\n",
    "    f::Float64 # Volumetric heat source\n",
    "end\n",
    "material = ThermalMaterial(1.0, 1.0);"
   ],
   "metadata": {},
   "execution_count": 2
  },
  {
   "cell_type": "markdown",
   "source": [
    "and then define our `element_routine!` for that material as"
   ],
   "metadata": {}
  },
  {
   "outputs": [],
   "cell_type": "code",
   "source": [
    "function FerriteAssembly.element_routine!(Ke, re, state, ae,\n",
    "        material::ThermalMaterial, cellvalues, cellbuffer\n",
    "        )\n",
    "    n_basefuncs = getnbasefunctions(cellvalues)\n",
    "    # Loop over quadrature points\n",
    "    for q_point in 1:getnquadpoints(cellvalues)\n",
    "        dΩ = getdetJdV(cellvalues, q_point)\n",
    "        for i in 1:n_basefuncs\n",
    "            δN  = shape_value(cellvalues, q_point, i)\n",
    "            ∇δN = shape_gradient(cellvalues, q_point, i)\n",
    "            # Add body load contribution to re\n",
    "            re[i] += -material.f*δN * dΩ\n",
    "            # Loop over trial shape functions\n",
    "            for j in 1:n_basefuncs\n",
    "                ∇N = shape_gradient(cellvalues, q_point, j)\n",
    "                # Add contribution to Ke\n",
    "                Ke[i, j] += material.k*(∇δN ⋅ ∇N) * dΩ\n",
    "            end\n",
    "        end\n",
    "    end\n",
    "end;"
   ],
   "metadata": {},
   "execution_count": 3
  },
  {
   "cell_type": "markdown",
   "source": [
    "which is basically the same as in `Ferrite.jl`'s example."
   ],
   "metadata": {}
  },
  {
   "cell_type": "markdown",
   "source": [
    "## Assemble\n",
    "We first start by defining a domain and passing\n",
    "that to the `setup_domainbuffer` function."
   ],
   "metadata": {}
  },
  {
   "outputs": [],
   "cell_type": "code",
   "source": [
    "grid_domain = DomainSpec(dh, material, cellvalues)\n",
    "buffer = setup_domainbuffer(grid_domain);"
   ],
   "metadata": {},
   "execution_count": 4
  },
  {
   "cell_type": "markdown",
   "source": [
    "The `worker` in this case is the standard Ferrite assembler:"
   ],
   "metadata": {}
  },
  {
   "outputs": [],
   "cell_type": "code",
   "source": [
    "assembler = start_assemble(K, r);"
   ],
   "metadata": {},
   "execution_count": 5
  },
  {
   "cell_type": "markdown",
   "source": [
    "Given this worker, we can do the work to assemble `K` and `r`"
   ],
   "metadata": {}
  },
  {
   "outputs": [],
   "cell_type": "code",
   "source": [
    "work!(assembler, buffer);"
   ],
   "metadata": {},
   "execution_count": 6
  },
  {
   "cell_type": "markdown",
   "source": [
    "## Solve the problem.\n",
    "To actually solve the problem, we also need Dirichlet boundary conditions."
   ],
   "metadata": {}
  },
  {
   "outputs": [],
   "cell_type": "code",
   "source": [
    "ch = ConstraintHandler(dh)\n",
    "faceset = union((getfaceset(grid,k) for k in (\"left\", \"right\", \"bottom\", \"top\"))...)\n",
    "add!(ch, Dirichlet(:u, faceset, Returns(0.0)))\n",
    "close!(ch);\n",
    "apply_zero!(K, r, ch)"
   ],
   "metadata": {},
   "execution_count": 7
  },
  {
   "cell_type": "markdown",
   "source": [
    "where we use `apply_zero!` since we assembled assuming a zero temperature.\n",
    "We could have used `apply!(K,f,ch)`, but for non-zero dirichlet conditions,\n",
    "this relies on the correct sign for external loads, and we have r=-f."
   ],
   "metadata": {}
  },
  {
   "cell_type": "markdown",
   "source": [
    "Finally, we can solve the problem and save the results"
   ],
   "metadata": {}
  },
  {
   "outputs": [],
   "cell_type": "code",
   "source": [
    "a = -K\\r\n",
    "vtk_grid(\"heat_equation\", grid) do vtk\n",
    "    vtk_point_data(vtk, dh, a)\n",
    "end;"
   ],
   "metadata": {},
   "execution_count": 8
  },
  {
   "cell_type": "markdown",
   "source": [
    "---\n",
    "\n",
    "*This notebook was generated using [Literate.jl](https://github.com/fredrikekre/Literate.jl).*"
   ],
   "metadata": {}
  }
 ],
 "nbformat_minor": 3,
 "metadata": {
  "language_info": {
   "file_extension": ".jl",
   "mimetype": "application/julia",
   "name": "julia",
   "version": "1.10.2"
  },
  "kernelspec": {
   "name": "julia-1.10",
   "display_name": "Julia 1.10.2",
   "language": "julia"
  }
 },
 "nbformat": 4
}
