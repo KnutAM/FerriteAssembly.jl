{
 "cells": [
  {
   "cell_type": "markdown",
   "source": [
    "# Phase-field fracture\n",
    "This tutorial demonstrates how the phase-field fracture\n",
    "problem can be solved using FerriteAssembly with staggered iterations.\n",
    "Specifically, the ability to couple two simulations on the same grid, but\n",
    "with different dofhandlers, state variables, etc.\n",
    "This is useful for staggered schemes, but can also be used for cases with\n",
    "different number of time steps in the two cases.\n",
    "\n",
    "![animation](sent_animation.gif)\n",
    "\n",
    "**Figure 1**: Phase-field evolution during the SENT (Single Edge Notch Tension) test.\n",
    "\n",
    "In this tutorial, we will use the so-called AT2 fracture model, and\n",
    "we use the micromorphic formulation [1] to ensure irreversibility.\n",
    "The geometry and parameters are also taken from [1].\n",
    "\n",
    "1. [Bharali, R., Larsson, F., & Jänicke, R. (2023).\n",
    "   A micromorphic phase-field model for brittle and quasi-brittle fracture.\n",
    "   *Computational Mechanics*, 73, 579–598](https://doi.org/10.1007/s00466-023-02380-1)\n",
    "\n",
    "The full script without intermediate comments is available at the\n",
    "bottom of this page."
   ],
   "metadata": {}
  },
  {
   "outputs": [],
   "cell_type": "code",
   "source": [
    "using Ferrite, FerriteAssembly, FerriteMeshParser\n",
    "using AppleAccelerate\n",
    "using Downloads: download"
   ],
   "metadata": {},
   "execution_count": 1
  },
  {
   "cell_type": "markdown",
   "source": [
    "## Implementation of physics"
   ],
   "metadata": {}
  },
  {
   "outputs": [],
   "cell_type": "code",
   "source": [
    "struct PhaseFieldFracture{C, T}\n",
    "    G::T    # Elastic shear modulus\n",
    "    K::T    # Elastic bulk modulus\n",
    "    Gc::T   # Fracture energy\n",
    "    l::T    # Length parameter\n",
    "    α::T    # Micromorphic penalty factor\n",
    "    model::Symbol # Fracture model\n",
    "end\n",
    "function PhaseFieldFracture(;E, ν, Gc, l, β, model = :AT2)\n",
    "    G = E / (2 * (1 + ν))\n",
    "    K = E / (3 * (1 - 2ν))\n",
    "    α = β * Gc / l\n",
    "    T = promote_type(typeof(G), typeof(α))\n",
    "    return PhaseFieldFracture{Nothing, T}(G, K, Gc, l, α, model)\n",
    "end\n",
    "function PhaseFieldFracture{C}(m::PhaseFieldFracture{<:Any, T}) where {C, T}\n",
    "    return PhaseFieldFracture{C, T}(m.G, m.K, m.Gc, m.l, m.α, m.model)\n",
    "end;"
   ],
   "metadata": {},
   "execution_count": 2
  },
  {
   "cell_type": "markdown",
   "source": [
    "### Elastic (displacement) part (:u)"
   ],
   "metadata": {}
  },
  {
   "outputs": [],
   "cell_type": "code",
   "source": [
    "function FerriteAssembly.element_residual!(re, state, ae, m::PhaseFieldFracture{:u}, cv::CellValues, buffer)\n",
    "    # Fixed parameters\n",
    "    gϕ_min = 1e-10\n",
    "    # Values from phase-field problem\n",
    "    cb_d = FerriteAssembly.get_coupled_buffer(buffer, :d)\n",
    "    phasefields = FerriteAssembly.get_state(cb_d)\n",
    "\n",
    "    for q_point in 1:getnquadpoints(cv)\n",
    "        dΩ = getdetJdV(cv, q_point)\n",
    "        ϵ = function_symmetric_gradient(cv, q_point, ae)\n",
    "        ϕ = phasefields[q_point]\n",
    "        gϕ = (1 - ϕ)^2 # AT1 and AT2\n",
    "        gϕ_reg = (1 - gϕ_min)*gϕ + gϕ_min\n",
    "        σ = (gϕ_reg * 2 * m.G) * dev(ϵ) + (gϕ_reg * 3 * m.K) * vol(ϵ)\n",
    "        for i in 1:getnbasefunctions(cv)\n",
    "            ∇δNu = shape_symmetric_gradient(cv, q_point, i)\n",
    "            re[i] += (∇δNu ⊡ σ) * dΩ\n",
    "        end\n",
    "    end\n",
    "end;"
   ],
   "metadata": {},
   "execution_count": 3
  },
  {
   "cell_type": "markdown",
   "source": [
    "### Phase-Field (damage) part (:d)"
   ],
   "metadata": {}
  },
  {
   "outputs": [],
   "cell_type": "code",
   "source": [
    "function FerriteAssembly.element_residual!(re, state, ae, m::PhaseFieldFracture{:d}, cv::CellValues, buffer)\n",
    "    # Values from elasticity problem\n",
    "    cb_u = FerriteAssembly.get_coupled_buffer(buffer, :u)\n",
    "    ae_u = FerriteAssembly.get_ae(cb_u)\n",
    "    cv_u = FerriteAssembly.get_values(cb_u)\n",
    "\n",
    "    # Old phasefield values\n",
    "    state_old = FerriteAssembly.get_old_state(buffer)\n",
    "    for q_point in 1:getnquadpoints(cv)\n",
    "        dΩ = getdetJdV(cv, q_point)\n",
    "        d = function_value(cv, q_point, ae)\n",
    "        ∇d = function_gradient(cv, q_point, ae)\n",
    "        ⁿϕ = state_old[q_point]\n",
    "\n",
    "        # Elastic energy (no split)\n",
    "        ϵ = function_symmetric_gradient(cv_u, q_point, ae_u)\n",
    "        Ψ = 0.5 * (m.K - 2 * m.G / 3) * tr(ϵ)^2 + m.G * (ϵ ⊡ ϵ)\n",
    "\n",
    "        if m.model === :AT1\n",
    "            cw = 8/3\n",
    "            ϕ = min(max((2 * Ψ + m.α * d - 3 * m.Gc/(8 * m.l))/(2 * Ψ + m.α), ⁿϕ), 1)\n",
    "        else # AT2\n",
    "            cw = 2.0\n",
    "            ϕ = min(max((2 * Ψ + m.α * d)/(2 * Ψ + m.α + m.Gc / m.l), ⁿϕ), 1)\n",
    "        end\n",
    "\n",
    "        for i in 1:getnbasefunctions(cv)\n",
    "            ∇δN = shape_gradient(cv, q_point, i)\n",
    "            δN = shape_value(cv, q_point, i)\n",
    "            re[i] += ((2 * m.Gc * m.l / cw) * (∇δN ⋅ ∇d) - m.α * (ϕ - d) * δN) * dΩ\n",
    "        end\n",
    "        state[q_point] = FerriteAssembly.remove_dual(ϕ)\n",
    "    end\n",
    "end\n",
    "\n",
    "function FerriteAssembly.create_cell_state(::PhaseFieldFracture{:d}, cv::CellValues, x, ae, args...)\n",
    "    return [function_value(cv, i, ae) for i in 1:getnquadpoints(cv)]\n",
    "end;"
   ],
   "metadata": {},
   "execution_count": 4
  },
  {
   "cell_type": "markdown",
   "source": [
    "## Simulation setup\n",
    "We start by loading the grid (Single Edge Notch Tension)"
   ],
   "metadata": {}
  },
  {
   "outputs": [],
   "cell_type": "code",
   "source": [
    "gridfile = \"sent_fine.inp\" # \"sent_coarse.inp\" also possible\n",
    "isfile(gridfile) || download(FerriteAssembly.asset_url(gridfile), gridfile)\n",
    "grid = get_ferrite_grid(gridfile)\n",
    "mbase = PhaseFieldFracture(;E = 210e3, ν = 0.3, Gc = 2.7, l = 1.5e-2, β = 100.0);"
   ],
   "metadata": {},
   "execution_count": 5
  },
  {
   "cell_type": "markdown",
   "source": [
    "Before defining the quadrature rules that are the same for both parts"
   ],
   "metadata": {}
  },
  {
   "outputs": [],
   "cell_type": "code",
   "source": [
    "qr_tri = QuadratureRule{RefTriangle}(2);\n",
    "qr_quad = QuadratureRule{RefQuadrilateral}(2);\n",
    "\n",
    "### Generic setup\n",
    "function setup(m, grid, fieldname; qr_tri, qr_quad, ip_tri, ip_quad)\n",
    "    dh = DofHandler(grid)\n",
    "\n",
    "    sdh_tri = SubDofHandler(dh, getcellset(grid, \"CPS3\"))\n",
    "    add!(sdh_tri, fieldname, ip_tri)\n",
    "    cv_tri = CellValues(qr_tri, ip_tri)\n",
    "\n",
    "    sdh_quad = SubDofHandler(dh, getcellset(grid, \"CPS4R\"))\n",
    "    add!(sdh_quad, fieldname, ip_quad)\n",
    "    cv_quad = CellValues(qr_quad, ip_quad)\n",
    "\n",
    "    close!(dh)\n",
    "\n",
    "    domains = Dict(\n",
    "        \"tri\"  => DomainSpec(sdh_tri, m, cv_tri),\n",
    "        \"quad\" => DomainSpec(sdh_quad, m, cv_quad),\n",
    "        )\n",
    "\n",
    "    db = setup_domainbuffers(domains; threading = true, autodiffbuffer = true, a = zeros(ndofs(dh)))\n",
    "    K = allocate_matrix(dh)\n",
    "    r = zeros(ndofs(dh))\n",
    "    return db, K, r, ndofs(dh)\n",
    "end\n",
    "\n",
    "db_u_uc, Ku, ru, ndofs_u = setup(PhaseFieldFracture{:u}(mbase), grid, :u;\n",
    "    qr_tri, qr_quad,\n",
    "    ip_tri = Lagrange{RefTriangle, 1}()^2,\n",
    "    ip_quad = Lagrange{RefQuadrilateral, 1}()^2\n",
    "    )\n",
    "\n",
    "db_d_uc, Kd, rd, ndofs_d = setup(PhaseFieldFracture{:d}(mbase), grid, :d;\n",
    "    qr_tri, qr_quad,\n",
    "    ip_tri = Lagrange{RefTriangle, 2}(),\n",
    "    ip_quad = Lagrange{RefQuadrilateral, 2}()\n",
    "    )\n",
    "\n",
    "sim_u = Simulation(couple_buffers(db_u_uc; d = db_d_uc), zeros(ndofs_u), zeros(ndofs_u))\n",
    "sim_d = Simulation(couple_buffers(db_d_uc; u = db_u_uc), zeros(ndofs_d), zeros(ndofs_d));"
   ],
   "metadata": {},
   "execution_count": 6
  },
  {
   "cell_type": "markdown",
   "source": [
    "Setup loading and boundary conditions"
   ],
   "metadata": {}
  },
  {
   "outputs": [],
   "cell_type": "code",
   "source": [
    "load_function(t) = 1e-4 * t\n",
    "\n",
    "ch_u = ConstraintHandler(FerriteAssembly.get_dofhandler(sim_u))\n",
    "add!(ch_u, Dirichlet(:u, getfacetset(grid, \"bottom\"), Returns(zero(Vec{2}))))\n",
    "add!(ch_u, Dirichlet(:u, getfacetset(grid, \"top\"), Returns(0), [1]))\n",
    "add!(ch_u, Dirichlet(:u, getfacetset(grid, \"top\"), (x, t) -> load_function(t), [2]))\n",
    "close!(ch_u);"
   ],
   "metadata": {},
   "execution_count": 7
  },
  {
   "cell_type": "markdown",
   "source": [
    "For postprocessing, we create a function to get the reaction force dofs,"
   ],
   "metadata": {}
  },
  {
   "outputs": [],
   "cell_type": "code",
   "source": [
    "function get_reaction_dofs(dh)\n",
    "    ch_dummy = close!(add!(ConstraintHandler(dh), Dirichlet(:u, getfacetset(dh.grid, \"top\"), Returns(0), [2])))\n",
    "    return ch_dummy.prescribed_dofs\n",
    "end;"
   ],
   "metadata": {},
   "execution_count": 8
  },
  {
   "cell_type": "markdown",
   "source": [
    "## Solving\n",
    "Write function to solve one simulation part, given the other as input."
   ],
   "metadata": {}
  },
  {
   "outputs": [],
   "cell_type": "code",
   "source": [
    "function solve_single_part(sim, coupled, K, r, ch; firsttol = 1e-5, tol = 1e-6, maxiter = 100)\n",
    "    if ch !== nothing # Displacement part\n",
    "        reaction_dofs = get_reaction_dofs(FerriteAssembly.get_dofhandler(sim))\n",
    "    else\n",
    "        reaction_dofs = Int[]\n",
    "    end\n",
    "    for i in 1:maxiter\n",
    "        assembler = start_assemble(K, r)\n",
    "        work!(assembler, sim, coupled)\n",
    "        rf = sum(i -> r[i], reaction_dofs; init = zero(eltype(r)))\n",
    "        ch === nothing || apply_zero!(K, r, ch)\n",
    "        res = norm(r)\n",
    "        if i == 1 && res < firsttol\n",
    "            return true, rf  # no modification required, already converged\n",
    "        elseif res < tol\n",
    "            return false, rf # current part was modified to converge\n",
    "        elseif i ≥ maxiter\n",
    "            error(\"single part iterations didn't converge\")\n",
    "        end\n",
    "        sim.a .-= K \\ r # Update unknowns\n",
    "    end\n",
    "end\n",
    "\n",
    "function solve(sim_u, sim_d, Ku, ru, Kd, rd, ch_u, grid)\n",
    "    time_vector = collect(1:65)\n",
    "    u_history = zeros(length(time_vector) + 1)\n",
    "    rf_history = zeros(length(time_vector) + 1)\n",
    "    for (n, t) in enumerate(time_vector)\n",
    "        update!(ch_u, t)\n",
    "        apply!(sim_u.a, ch_u)\n",
    "        local num, rf\n",
    "        max_staggered = 2500\n",
    "        for iter in 1:max_staggered\n",
    "            num = iter\n",
    "            u_converged, rf = solve_single_part(sim_u, CoupledSimulations(d = sim_d), Ku, ru, ch_u)\n",
    "            u_converged && break # Displacement was converged without updating\n",
    "            d_converged, _ = solve_single_part(sim_d, CoupledSimulations(u = sim_u), Kd, rd, nothing)\n",
    "            d_converged && break # Damage was converged without updating\n",
    "            iter ≥ max_staggered && error(\"Did not converge in staggered iterations\")\n",
    "        end\n",
    "        println(n, \": \", num)\n",
    "        update_states!(sim_d) # Only d has state variables\n",
    "        copyto!(sim_d.aold, sim_d.a)\n",
    "        copyto!(sim_u.aold, sim_u.a)\n",
    "        # Postprocessing\n",
    "        VTKGridFile(\"fracture-$n\", grid) do vtk\n",
    "            write_solution(vtk, FerriteAssembly.get_dofhandler(sim_d), sim_d.a)\n",
    "            write_solution(vtk, FerriteAssembly.get_dofhandler(sim_u), sim_u.a)\n",
    "        end\n",
    "        u_history[n + 1] = load_function(t)\n",
    "        rf_history[n + 1] = rf\n",
    "    end\n",
    "    return u_history, rf_history\n",
    "end;"
   ],
   "metadata": {},
   "execution_count": 9
  },
  {
   "cell_type": "markdown",
   "source": [
    "Finally, we run the simulation and plot the force-displacement curve\n",
    "```julia\n",
    "u_history, rf_history = solve(sim_u, sim_d, Ku, ru, Kd, rd, ch_u, grid)\n",
    "import CairoMakie as Plt\n",
    "fig = Plt.Figure(size = (400, 200))\n",
    "ax = Plt.Axis(fig[1,1]; xlabel = \"top displacement [mm]\", ylabel = \"reaction force [N]\")\n",
    "Plt.lines!(ax, u_history, rf_history)\n",
    "display(fig)\n",
    "```\n",
    "![force-displacement](sent_results.png)"
   ],
   "metadata": {}
  },
  {
   "cell_type": "markdown",
   "source": [
    "---\n",
    "\n",
    "*This notebook was generated using [Literate.jl](https://github.com/fredrikekre/Literate.jl).*"
   ],
   "metadata": {}
  }
 ],
 "nbformat_minor": 3,
 "metadata": {
  "language_info": {
   "file_extension": ".jl",
   "mimetype": "application/julia",
   "name": "julia",
   "version": "1.11.7"
  },
  "kernelspec": {
   "name": "julia-1.11",
   "display_name": "Julia 1.11.7",
   "language": "julia"
  }
 },
 "nbformat": 4
}
