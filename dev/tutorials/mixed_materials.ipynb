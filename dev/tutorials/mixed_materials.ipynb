{
 "cells": [
  {
   "cell_type": "markdown",
   "source": [
    "# Multiple materials\n",
    "In this tutorial, we will see how we can assemble a domain and solve a problem\n",
    "where we have multiple material behaviors. In this simple case, we will consider\n",
    "an elastic inclusion, embedded in a plastically deforming matrix.\n",
    "We will use models already implemented in the `ExampleElements` module, specifically\n",
    "the `J2Plasticity` model (modified version of the model in the Ferrite plasticity\n",
    "[example](https://ferrite-fem.github.io/Ferrite.jl/v0.3.14/examples/plasticity/),\n",
    "adapted to follow the `MaterialModelsBase` interface) and the standard\n",
    "`LinearElastic` model.\n",
    "\n",
    "The full script without intermediate comments is available at the\n",
    "bottom of this page."
   ],
   "metadata": {}
  },
  {
   "outputs": [],
   "cell_type": "code",
   "source": [
    "using Ferrite, FerriteAssembly, MaterialModelsBase\n",
    "import FerriteAssembly.ExampleElements: J2Plasticity, ElasticPlaneStrain"
   ],
   "metadata": {},
   "execution_count": 1
  },
  {
   "cell_type": "markdown",
   "source": [
    "## Setup Ferrite quantities\n",
    "We start by the grid with sets for the inclusion with\n",
    "radius 0.8 and the surrounding matrix."
   ],
   "metadata": {}
  },
  {
   "outputs": [],
   "cell_type": "code",
   "source": [
    "function create_grid_with_inclusion()\n",
    "    p1 = Vec((-1.0, -1.0))\n",
    "    p2 = Vec(( 1.0,  1.0))\n",
    "    grid = generate_grid(Quadrilateral, (20,20), p1, p2)\n",
    "    addcellset!(grid, \"inclusion\", x -> norm(x) < 0.8)\n",
    "    addcellset!(grid, \"matrix\", setdiff(1:getncells(grid), getcellset(grid, \"inclusion\")))\n",
    "    return grid\n",
    "end\n",
    "grid = create_grid_with_inclusion();"
   ],
   "metadata": {},
   "execution_count": 2
  },
  {
   "cell_type": "markdown",
   "source": [
    "Define interpolation"
   ],
   "metadata": {}
  },
  {
   "outputs": [],
   "cell_type": "code",
   "source": [
    "ip = Lagrange{RefQuadrilateral,1}()^2;"
   ],
   "metadata": {},
   "execution_count": 3
  },
  {
   "cell_type": "markdown",
   "source": [
    "Followed by the dof handler"
   ],
   "metadata": {}
  },
  {
   "outputs": [],
   "cell_type": "code",
   "source": [
    "dh = DofHandler(grid)\n",
    "add!(dh, :u, ip)\n",
    "close!(dh);"
   ],
   "metadata": {},
   "execution_count": 4
  },
  {
   "cell_type": "markdown",
   "source": [
    "And then Dirichlet conditions"
   ],
   "metadata": {}
  },
  {
   "outputs": [],
   "cell_type": "code",
   "source": [
    "ch = ConstraintHandler(dh)\n",
    "add!(ch, Dirichlet(:u, getfaceset(grid,\"left\"), Returns(zero(Vec{2}))))\n",
    "f_dbc(x,t) = Vec((0.05*t, 0.0))\n",
    "add!(ch, Dirichlet(:u, getfaceset(grid, \"right\"), f_dbc))\n",
    "close!(ch);"
   ],
   "metadata": {},
   "execution_count": 5
  },
  {
   "cell_type": "markdown",
   "source": [
    "Define cellvalues"
   ],
   "metadata": {}
  },
  {
   "outputs": [],
   "cell_type": "code",
   "source": [
    "qr = QuadratureRule{2,RefCube}(2)\n",
    "cv = CellValues(qr, ip);"
   ],
   "metadata": {},
   "execution_count": 6
  },
  {
   "cell_type": "markdown",
   "source": [
    "## FerriteAssembly setup\n",
    "We first define materials for a plane strain state. The `J2Plasticity` model\n",
    "is only implemented for 3d, so we use the `ReducedStressState` wrapper from\n",
    "`MaterialModelsBase.jl` together with the `PlaneStrain` state."
   ],
   "metadata": {}
  },
  {
   "outputs": [],
   "cell_type": "code",
   "source": [
    "elastic_material = ElasticPlaneStrain(;E=210e3, ν=0.3)\n",
    "plastic_material = ReducedStressState(\n",
    "    PlaneStrain(),\n",
    "    J2Plasticity(;E=210e3, ν=0.3, σ0=100.0, H=10e3));"
   ],
   "metadata": {},
   "execution_count": 7
  },
  {
   "cell_type": "markdown",
   "source": [
    "We need to create the domain buffers, where the difference from earlier tutorials\n",
    "is that we have multiple domains. The domain specification should then be a `Dict`\n",
    "with one entry for each domain:"
   ],
   "metadata": {}
  },
  {
   "outputs": [],
   "cell_type": "code",
   "source": [
    "domains = Dict(\n",
    "    \"elastic\"=>DomainSpec(dh, elastic_material, cv; set=getcellset(grid, \"inclusion\")),\n",
    "    \"plastic\"=>DomainSpec(dh, plastic_material, cv; set=getcellset(grid, \"matrix\")) );"
   ],
   "metadata": {},
   "execution_count": 8
  },
  {
   "cell_type": "markdown",
   "source": [
    "Now, we can call `setup_domainbuffers`, which accepts the same keyword arguments\n",
    "as `setup_domainbuffer`. Here, we accept the defaults."
   ],
   "metadata": {}
  },
  {
   "outputs": [],
   "cell_type": "code",
   "source": [
    "buffer = setup_domainbuffers(domains);"
   ],
   "metadata": {},
   "execution_count": 9
  },
  {
   "cell_type": "markdown",
   "source": [
    "## Solving the nonlinear problem via time-stepping"
   ],
   "metadata": {}
  },
  {
   "outputs": [],
   "cell_type": "code",
   "source": [
    "function solve_nonlinear_timehistory(buffer, dh, ch; time_history)\n",
    "    maxiter = 10\n",
    "    tolerance = 1e-6\n",
    "    K = create_sparsity_pattern(dh)\n",
    "    r = zeros(ndofs(dh))\n",
    "    a = zeros(ndofs(dh))\n",
    "    # Prepare postprocessing\n",
    "    pvd = paraview_collection(\"multiple_materials.pvd\");\n",
    "    stepnr = 0\n",
    "    vtk_grid(\"multiple_materials-$stepnr\", dh) do vtk\n",
    "        vtk_point_data(vtk, dh, a)\n",
    "        vtk_cellset(vtk, dh.grid, \"inclusion\")\n",
    "        vtk_save(vtk)\n",
    "        pvd[0.0] = vtk\n",
    "    end\n",
    "    for t in time_history\n",
    "        # Update and apply the Dirichlet boundary conditions\n",
    "        update!(ch, t)\n",
    "        apply!(a, ch)\n",
    "        for i in 1:maxiter\n",
    "            # Assemble the system\n",
    "            assembler = start_assemble(K, r)\n",
    "            work!(assembler, buffer; a=a)\n",
    "            # Apply boundary conditions\n",
    "            apply_zero!(K, r, ch)\n",
    "            # Check convergence\n",
    "            norm(r) < tolerance && break\n",
    "            i == maxiter && error(\"Did not converge\")\n",
    "            # Solve the linear system and update the dof vector\n",
    "            a .-= K\\r\n",
    "            apply!(a, ch)\n",
    "        end\n",
    "        # Postprocess\n",
    "        stepnr += 1\n",
    "        vtk_grid(\"multiple_materials-$stepnr\", dh) do vtk\n",
    "            vtk_point_data(vtk, dh, a)\n",
    "            vtk_cellset(vtk, dh.grid, \"inclusion\")\n",
    "            vtk_save(vtk)\n",
    "            pvd[t] = vtk\n",
    "        end\n",
    "        # If converged, update the old state variables to the current.\n",
    "        update_states!(buffer)\n",
    "    end\n",
    "    vtk_save(pvd);\n",
    "    return nothing\n",
    "end;\n",
    "solve_nonlinear_timehistory(buffer, dh, ch; time_history=collect(range(0,1,20)));"
   ],
   "metadata": {},
   "execution_count": 10
  },
  {
   "cell_type": "markdown",
   "source": [
    "---\n",
    "\n",
    "*This notebook was generated using [Literate.jl](https://github.com/fredrikekre/Literate.jl).*"
   ],
   "metadata": {}
  }
 ],
 "nbformat_minor": 3,
 "metadata": {
  "language_info": {
   "file_extension": ".jl",
   "mimetype": "application/julia",
   "name": "julia",
   "version": "1.9.3"
  },
  "kernelspec": {
   "name": "julia-1.9",
   "display_name": "Julia 1.9.3",
   "language": "julia"
  }
 },
 "nbformat": 4
}
