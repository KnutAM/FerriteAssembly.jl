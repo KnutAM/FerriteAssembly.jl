{
 "cells": [
  {
   "cell_type": "markdown",
   "source": [
    "# Multiple fields\n",
    "This tutorial shows how to use multiple fields, using the\n",
    "[incompressible elasticity example](https://ferrite-fem.github.io/Ferrite.jl/v0.3.14/examples/incompressible_elasticity/)\n",
    "from Ferrite as the starting point.\n",
    "\n",
    "!!! note \"Multiple cell values\"\n",
    "    In this example, we use a named tuple containing cellvalues, one for each field, `:u` and `:p`.\n",
    "    There is ongoing work in Ferrite.jl to introduce a collection of cellvalues,\n",
    "    aka MultiCellValues, which will replace the named tuple in the future.\n",
    "\n",
    "The full script without intermediate comments is available at the\n",
    "bottom of this page.\n",
    "\n",
    "Load the required packages"
   ],
   "metadata": {}
  },
  {
   "outputs": [],
   "cell_type": "code",
   "source": [
    "using LinearAlgebra\n",
    "using Ferrite, FerriteAssembly"
   ],
   "metadata": {},
   "execution_count": 1
  },
  {
   "cell_type": "markdown",
   "source": [
    "## Physics\n",
    "Here, we define the pressure-displacement coupled formulation for\n",
    "linear isotropic elasticity"
   ],
   "metadata": {}
  },
  {
   "outputs": [],
   "cell_type": "code",
   "source": [
    "struct LinearElasticity{T}\n",
    "    G::T\n",
    "    K::T\n",
    "end\n",
    "LinearElasticity(;E, ν) = LinearElasticity(E/(2(1 + ν)), E*ν/((1+ν)*(1-2ν)))\n",
    "\n",
    "function FerriteAssembly.element_routine!(Ke, fe, state, ae, mp::LinearElasticity, cv, buffer)\n",
    "    cvu = cv.u\n",
    "    cvp = cv.p\n",
    "    # Extract the dof range for each field\n",
    "    dru = dof_range(buffer, :u)\n",
    "    drp = dof_range(buffer, :p)\n",
    "\n",
    "    for q_point in 1:getnquadpoints(cvu)\n",
    "        dΩ = getdetJdV(cvu, q_point)\n",
    "\n",
    "        for (iᵤ, Iᵤ) in pairs(dru)\n",
    "            ∇δNu_dev = dev(shape_symmetric_gradient(cvu, q_point, iᵤ))\n",
    "            for (jᵤ, Jᵤ) in pairs(dru)\n",
    "                ∇Nu_dev = dev(shape_symmetric_gradient(cvu, q_point, jᵤ))\n",
    "                Ke[Iᵤ,Jᵤ] += 2 * mp.G * ∇δNu_dev ⊡ ∇Nu_dev * dΩ\n",
    "            end\n",
    "            div_δNu = shape_divergence(cvu, q_point, iᵤ)\n",
    "            for (jₚ, Jₚ) in pairs(drp)\n",
    "                Np = shape_value(cvp, q_point, jₚ)\n",
    "                Ke[Iᵤ,Jₚ] -= Np * div_δNu * dΩ\n",
    "            end\n",
    "        end\n",
    "        for (iₚ, Iₚ) in pairs(drp)\n",
    "            δNp = shape_value(cvp, q_point, iₚ)\n",
    "            for (jᵤ, Jᵤ) in pairs(dru)\n",
    "                div_Nu = shape_divergence(cvu, q_point, jᵤ)\n",
    "                Ke[Iₚ,Jᵤ] -= δNp * div_Nu * dΩ\n",
    "            end\n",
    "            for (jₚ, Jₚ) in pairs(drp)\n",
    "                Np = shape_value(cvp, q_point, jₚ)\n",
    "                Ke[Iₚ,Jₚ] -= 1/mp.K * δNp * Np * dΩ\n",
    "            end\n",
    "        end\n",
    "    end\n",
    "end"
   ],
   "metadata": {},
   "execution_count": 2
  },
  {
   "cell_type": "markdown",
   "source": [
    "## Setup and solve\n",
    "We start by defining the grid as in the original example"
   ],
   "metadata": {}
  },
  {
   "outputs": [],
   "cell_type": "code",
   "source": [
    "function create_cook_grid(;nx, ny)\n",
    "    corners = [Vec{2}((0.0,   0.0)),\n",
    "               Vec{2}((48.0, 44.0)),\n",
    "               Vec{2}((48.0, 60.0)),\n",
    "               Vec{2}((0.0,  44.0))]\n",
    "    return generate_grid(Triangle, (nx, ny), corners);\n",
    "end;"
   ],
   "metadata": {},
   "execution_count": 3
  },
  {
   "cell_type": "markdown",
   "source": [
    "And then we create a function that can solve the problem"
   ],
   "metadata": {}
  },
  {
   "outputs": [],
   "cell_type": "code",
   "source": [
    "function solve(;ν, ipu, ipp)\n",
    "    # Material behavior\n",
    "    mp = LinearElasticity(;E=1.0, ν=ν)\n",
    "\n",
    "    # Grid and dofhandler\n",
    "    grid = create_cook_grid(;nx=50, ny=50)\n",
    "    dh = DofHandler(grid)\n",
    "    add!(dh, :u, ipu) # displacement\n",
    "    add!(dh, :p, ipp) # pressure\n",
    "    close!(dh)\n",
    "\n",
    "    # Boundary conditions\n",
    "    ch = ConstraintHandler(dh)\n",
    "    add!(ch, Dirichlet(:u, getfaceset(dh.grid, \"left\"), (x,t) -> zero(Vec{2})))\n",
    "    close!(ch)\n",
    "    update!(ch, 0.0)\n",
    "\n",
    "    lh = LoadHandler(dh)\n",
    "    add!(lh, Neumann(:u, 3, getfaceset(dh.grid, \"right\"), Returns(Vec{2}((0.0, 1/16)))))\n",
    "\n",
    "    # Cellvalues\n",
    "    qr = QuadratureRule{RefTriangle}(3)\n",
    "    ip_geo = Lagrange{RefTriangle,1}()\n",
    "    cvu = CellValues(qr, ipu, ip_geo)\n",
    "    cvp = CellValues(qr, ipp, ip_geo)\n",
    "\n",
    "    # Setup assembly\n",
    "    cv = (u=cvu, p=cvp) # Will be replaced by MultiCellValues in the future\n",
    "    domainbuffer = setup_domainbuffer(DomainSpec(dh, mp, cv))\n",
    "\n",
    "    # Allocate and do the assembly\n",
    "    K = create_sparsity_pattern(dh)\n",
    "    f = zeros(ndofs(dh))\n",
    "    assembler = start_assemble(K, f)\n",
    "    work!(assembler, domainbuffer) # Assemble the stiffness matrix\n",
    "    apply!(f, lh, 0.0)             # Apply Neumann BC\n",
    "    apply!(K, f, ch)              # Apply Dirichlet BC\n",
    "\n",
    "    # Solve the equation system\n",
    "    u = Symmetric(K) \\ f;          # Solve the equation system\n",
    "\n",
    "    # Export the results\n",
    "    filename = \"cook_\" * (isa(ipu, Lagrange{2,RefTetrahedron,1}) ? \"linear\" : \"quadratic\") *\n",
    "                         \"_linear\"\n",
    "    vtk_grid(filename, dh) do vtkfile\n",
    "        vtk_point_data(vtkfile, dh, u)\n",
    "    end\n",
    "    return u\n",
    "end\n",
    "\n",
    "linear_ip    = Lagrange{RefTriangle,1}()\n",
    "quadratic_ip = Lagrange{RefTriangle,2}()\n",
    "\n",
    "u1 = solve(;ν=0.4999999, ipu=linear_ip^2, ipp=linear_ip)\n",
    "u2 = solve(;ν=0.4999999, ipu=quadratic_ip^2, ipp=linear_ip);"
   ],
   "metadata": {},
   "execution_count": 4
  },
  {
   "cell_type": "markdown",
   "source": [
    "---\n",
    "\n",
    "*This notebook was generated using [Literate.jl](https://github.com/fredrikekre/Literate.jl).*"
   ],
   "metadata": {}
  }
 ],
 "nbformat_minor": 3,
 "metadata": {
  "language_info": {
   "file_extension": ".jl",
   "mimetype": "application/julia",
   "name": "julia",
   "version": "1.10.0"
  },
  "kernelspec": {
   "name": "julia-1.10",
   "display_name": "Julia 1.10.0",
   "language": "julia"
  }
 },
 "nbformat": 4
}
