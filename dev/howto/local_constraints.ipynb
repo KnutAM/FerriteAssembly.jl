{
 "cells": [
  {
   "cell_type": "markdown",
   "source": [
    "# Local constraint application\n",
    "**Executive summary:** Replace `start_assemble(K,r)` with `KeReAssembler(K,r;ch,apply_zero=true)`.\n",
    "\n",
    "In some cases, it might be beneficial to apply constraints locally\n",
    "by using `Ferrite`'s `apply_assemble!`. This is supported by using\n",
    "`FerriteAssembly`'s `ReAssembler` and `KeReAssembler`.\n",
    "To demonstrate, let's start by setting up a quick simulation setup"
   ],
   "metadata": {}
  },
  {
   "outputs": [],
   "cell_type": "code",
   "source": [
    "using Ferrite, FerriteAssembly\n",
    "import FerriteAssembly.ExampleElements: ElasticPlaneStrain\n",
    "ip = Lagrange{2,RefCube,1}()\n",
    "grid = generate_grid(Quadrilateral, (3,3))\n",
    "\n",
    "dh = DofHandler(grid)\n",
    "add!(dh, :u, 2, ip)\n",
    "close!(dh)\n",
    "\n",
    "ch = ConstraintHandler(dh)\n",
    "add!(ch, Dirichlet(:u, getfaceset(grid, \"left\"), Returns(zero(Vec{2}))))\n",
    "add!(ch, Dirichlet(:u, getfaceset(grid, \"right\"), Returns(1.0), [1,]))\n",
    "close!(ch)\n",
    "update!(ch, 0.0)\n",
    "\n",
    "qr = QuadratureRule{2,RefCube}(2)\n",
    "cv = CellVectorValues(qr, ip, ip)\n",
    "m = ElasticPlaneStrain(;E=80e3, ν=0.3)\n",
    "\n",
    "buffer = setup_domainbuffer(DomainSpec(dh, m, cv))\n",
    "K = create_sparsity_pattern(dh)\n",
    "r = zeros(ndofs(dh))\n",
    "a = zeros(ndofs(dh));"
   ],
   "metadata": {},
   "execution_count": 1
  },
  {
   "cell_type": "markdown",
   "source": [
    "We can now create the special `KeReAssembler`,\n",
    "which also accepts the constraint handler as input,\n",
    "in addition to the `apply_zero` keyword that is\n",
    "forwarded to `Ferrite.apply_assemble!`."
   ],
   "metadata": {}
  },
  {
   "outputs": [],
   "cell_type": "code",
   "source": [
    "apply!(a, ch)\n",
    "assembler = KeReAssembler(K, r; ch, apply_zero=true)\n",
    "work!(assembler, buffer; a=a);"
   ],
   "metadata": {},
   "execution_count": 2
  },
  {
   "cell_type": "markdown",
   "source": [
    "And finally we can solve our problem update"
   ],
   "metadata": {}
  },
  {
   "outputs": [],
   "cell_type": "code",
   "source": [
    "a .-= K\\r;"
   ],
   "metadata": {},
   "execution_count": 3
  },
  {
   "cell_type": "markdown",
   "source": [
    "---\n",
    "\n",
    "*This notebook was generated using [Literate.jl](https://github.com/fredrikekre/Literate.jl).*"
   ],
   "metadata": {}
  }
 ],
 "nbformat_minor": 3,
 "metadata": {
  "language_info": {
   "file_extension": ".jl",
   "mimetype": "application/julia",
   "name": "julia",
   "version": "1.9.3"
  },
  "kernelspec": {
   "name": "julia-1.9",
   "display_name": "Julia 1.9.3",
   "language": "julia"
  }
 },
 "nbformat": 4
}
