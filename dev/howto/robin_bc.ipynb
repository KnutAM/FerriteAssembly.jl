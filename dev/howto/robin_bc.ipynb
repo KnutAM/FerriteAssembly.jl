{
 "cells": [
  {
   "cell_type": "markdown",
   "source": [
    "# Robin boundary conditions\n",
    "Robin boundary condition is a special type of boundary condition that may be interpreted as\n",
    "a Neumann boundary condition, but where the flux depends on the field-variable. For scalar\n",
    "problems, we can write the Robin BC contribution as\n",
    "$$\n",
    "\\int_{\\Gamma_\\mathrm{R}} \\delta u\\ q_\\mathrm{n}(u)\\ \\mathrm{d}\\Gamma\n",
    "$$\n",
    "where $u$ is the primary variable, $\\Gamma_\\mathrm{R}$ is the Robin boundary, and\n",
    "$q_\\mathrm{n}(u)$ is the boundary flux that depends on the solution $u$. In this \"how-to\",\n",
    "we implement a simple linear Robin boundary condition, $q_\\mathrm{n}(u) = k[u - u_\\mathrm{b}]$.\n",
    "This can be interpreted physically for e.g. a thermal problem as a resistance, $1/k$, of heat transfer\n",
    "from the domain to the outside, where the latter has a constant temperature $u_\\mathrm{b}$."
   ],
   "metadata": {}
  },
  {
   "cell_type": "markdown",
   "source": [
    "## Implementing Robin BC\n",
    "To implement this, we will overload the `facet_routine!` function, which allows us to calculate\n",
    "both a residual and stiffness contribution from facets. Hence, we first define a \"material\",\n",
    "`RobinBC`, and implement the `facet_routine!` that encodes the contribution to the weak form as\n",
    "outlined above."
   ],
   "metadata": {}
  },
  {
   "outputs": [],
   "cell_type": "code",
   "source": [
    "using Ferrite, FerriteAssembly\n",
    "\n",
    "struct RobinBC{T}\n",
    "    k::T\n",
    "    ub::T\n",
    "end\n",
    "\n",
    "function FerriteAssembly.facet_routine!(\n",
    "        Ke, re, ae, rbc::RobinBC, fv::AbstractFacetValues, facetbuffer\n",
    "        )\n",
    "    for q_point in 1:getnquadpoints(fv)\n",
    "        dΓ = getdetJdV(fv, q_point)\n",
    "        u = function_value(fv, q_point, ae)\n",
    "        qn = rbc.k*(u - rbc.ub) # Flux out of domain\n",
    "        for i in 1:getnbasefunctions(fv)\n",
    "            δN = shape_value(fv, q_point, i)\n",
    "            re[i] += δN*qn*dΓ\n",
    "            for j in 1:getnbasefunctions(fv)\n",
    "                N = shape_value(fv, q_point, j)\n",
    "                Ke[i,j] += δN*rbc.k*N*dΓ\n",
    "            end\n",
    "        end\n",
    "    end\n",
    "end;"
   ],
   "metadata": {},
   "execution_count": 1
  },
  {
   "cell_type": "markdown",
   "source": [
    "## Standard `Ferrite.jl` setup\n",
    "To assemble the contributions from the Robin boundary, we need the regular setup\n",
    "for a Ferrite simulation, e.g."
   ],
   "metadata": {}
  },
  {
   "outputs": [],
   "cell_type": "code",
   "source": [
    "grid = generate_grid(Quadrilateral, (10,10))\n",
    "ip = Lagrange{RefQuadrilateral,1}()\n",
    "\n",
    "dh = DofHandler(grid)\n",
    "add!(dh, :u, ip)\n",
    "close!(dh)\n",
    "\n",
    "K = allocate_matrix(dh)\n",
    "r = zeros(ndofs(dh))\n",
    "a = zeros(ndofs(dh));"
   ],
   "metadata": {},
   "execution_count": 2
  },
  {
   "cell_type": "markdown",
   "source": [
    "## Using Robin BC\n",
    "For the Robin boundary condition, we also need to define the integration via\n",
    "FacetValues, in addition to an instance of `RobinBC`, for which we set the\n",
    "\"outside temperature\" to -1.0."
   ],
   "metadata": {}
  },
  {
   "outputs": [],
   "cell_type": "code",
   "source": [
    "facet_qr = FacetQuadratureRule{RefQuadrilateral}(2);\n",
    "fv = FacetValues(facet_qr, ip);\n",
    "rbc = RobinBC(1.0, -1.0);"
   ],
   "metadata": {},
   "execution_count": 3
  },
  {
   "cell_type": "markdown",
   "source": [
    "Finally, we set up a domain buffer with the actual materials and facetset,\n",
    "and create an assembler. Naturally, the boundary conditions are combined with\n",
    "other contributions, such as the assembly over cells. Typically, the same\n",
    "assembler can be used. If not, it is important to set the keyword arguments\n",
    "such that `K` and `r` are not zeroed between different calls to `work!`."
   ],
   "metadata": {}
  },
  {
   "outputs": [],
   "cell_type": "code",
   "source": [
    "domainbuffer = setup_domainbuffer(DomainSpec(dh, rbc, fv; set=getfacetset(grid, \"right\")))\n",
    "assembler = start_assemble(K, r)\n",
    "work!(assembler, domainbuffer; a=a);"
   ],
   "metadata": {},
   "execution_count": 4
  },
  {
   "cell_type": "markdown",
   "source": [
    "## Visualizing the BC\n",
    "To visualize the output, we can export the vtk the residual, showing how\n",
    "contributions have been added to the boundary."
   ],
   "metadata": {}
  },
  {
   "outputs": [],
   "cell_type": "code",
   "source": [
    "VTKGridFile(\"RobinBC\", grid) do vtk\n",
    "    write_solution(vtk, dh, r)\n",
    "end;"
   ],
   "metadata": {},
   "execution_count": 5
  },
  {
   "cell_type": "markdown",
   "source": [
    "---\n",
    "\n",
    "*This notebook was generated using [Literate.jl](https://github.com/fredrikekre/Literate.jl).*"
   ],
   "metadata": {}
  }
 ],
 "nbformat_minor": 3,
 "metadata": {
  "language_info": {
   "file_extension": ".jl",
   "mimetype": "application/julia",
   "name": "julia",
   "version": "1.11.6"
  },
  "kernelspec": {
   "name": "julia-1.11",
   "display_name": "Julia 1.11.6",
   "language": "julia"
  }
 },
 "nbformat": 4
}
