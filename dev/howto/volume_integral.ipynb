{
 "cells": [
  {
   "cell_type": "markdown",
   "source": [
    "# Volume integration"
   ],
   "metadata": {}
  },
  {
   "outputs": [],
   "cell_type": "code",
   "source": [
    "using Ferrite, FerriteAssembly, Printf"
   ],
   "metadata": {},
   "execution_count": 1
  },
  {
   "cell_type": "markdown",
   "source": [
    "In this how-to, we calculate the integral\n",
    "of some functions of the solution.\n",
    "To start, we define the grid, dofs, and cellvalues."
   ],
   "metadata": {}
  },
  {
   "outputs": [],
   "cell_type": "code",
   "source": [
    "grid = generate_grid(Quadrilateral, (20,20))\n",
    "ip = Lagrange{RefQuadrilateral,1}()\n",
    "dh = DofHandler(grid)\n",
    "add!(dh, :u, ip)\n",
    "add!(dh, :v, ip^2)\n",
    "close!(dh)\n",
    "\n",
    "qr = QuadratureRule{RefQuadrilateral}(2)\n",
    "cv_scalar = CellValues(qr, ip)\n",
    "cv_vector = CellValues(qr, ip^2);"
   ],
   "metadata": {},
   "execution_count": 2
  },
  {
   "cell_type": "markdown",
   "source": [
    "Since this is a how-to, we won't solve a problem\n",
    "to get the solution, but normally, we would already\n",
    "have defined the domain buffer (in this case we\n",
    "just set material=nothing)"
   ],
   "metadata": {}
  },
  {
   "outputs": [],
   "cell_type": "code",
   "source": [
    "domain = setup_domainbuffer(DomainSpec(dh, nothing, (u=cv_scalar, v=cv_vector)));"
   ],
   "metadata": {},
   "execution_count": 3
  },
  {
   "cell_type": "markdown",
   "source": [
    "And here we just use `apply_analytical!` to get some\n",
    "non-zero field values."
   ],
   "metadata": {}
  },
  {
   "outputs": [],
   "cell_type": "code",
   "source": [
    "a = zeros(ndofs(dh))\n",
    "apply_analytical!(a, dh, :u, x->x⋅x)\n",
    "apply_analytical!(a, dh, :v, x->Vec(x⋅x, x[2]));"
   ],
   "metadata": {},
   "execution_count": 4
  },
  {
   "cell_type": "markdown",
   "source": [
    "This example can be solved with the `SimpleIntegrator`,\n",
    "which is described first. However, for more advanced cases,\n",
    "full-featured `Integrator` may be useful, and is shown after."
   ],
   "metadata": {}
  },
  {
   "cell_type": "markdown",
   "source": [
    "## Using `SimpleIntegrator`\n",
    "The `SimpleIntegrator` requires a function, `f(a, ∇a, state)`,\n",
    "and the zero values for the summation."
   ],
   "metadata": {}
  },
  {
   "outputs": [
    {
     "name": "stdout",
     "output_type": "stream",
     "text": [
      "Volume V=∫dV = 4.00000\n",
      "(1/V)∫ u dV = 0.67000 \n",
      "(1/V)∫ v dV  = (0.67000, -0.00000) \n"
     ]
    }
   ],
   "cell_type": "code",
   "source": [
    "sint = SimpleIntegrator((a, ∇a, state) -> (1.0, a.u, a.v), (0.0, 0.0, Vec((0.0,0.0))))\n",
    "work!(sint, domain; a=a)\n",
    "@printf(\"Volume V=∫dV = %0.5f\\n\", sint.val[1])\n",
    "@printf(\"(1/V)∫ u dV = %0.5f \\n\", sint.val[2]/sint.val[1])\n",
    "@printf(\"(1/V)∫ v dV  = (%0.5f, %0.5f) \\n\", (sint.val[3]/sint.val[1])...)"
   ],
   "metadata": {},
   "execution_count": 5
  },
  {
   "cell_type": "markdown",
   "source": [
    "## Using `Integrator`\n",
    "`Integrator` requires method overloading and is suitable when\n",
    "the high-level API of `SimpleIntegrator` is insufficient, or\n",
    "for building special postprocessing methods for a class of\n",
    "materials.\n",
    "To setup this method of integration, we then create a custom\n",
    "type to hold our values, which we must be able to mutate."
   ],
   "metadata": {}
  },
  {
   "outputs": [],
   "cell_type": "code",
   "source": [
    "mutable struct AvgValues{T}\n",
    "    volume::T   # V=∫ dV\n",
    "    u::T        # (1/V)∫ u dV\n",
    "    v::Vec{2,T} # (1/V)∫ v dV\n",
    "end\n",
    "AvgValues() = AvgValues(0.0, 0.0, zero(Vec{2}));"
   ],
   "metadata": {},
   "execution_count": 6
  },
  {
   "cell_type": "markdown",
   "source": [
    "We then overload the `integrate_cell`\n",
    "function to get the desired volume-averaged values,\n",
    "noting that here we have access to, e.g., `cellvalues`,\n",
    "and `cellbuffer`, in contrast to when using `SimpleIntegrator`."
   ],
   "metadata": {}
  },
  {
   "outputs": [],
   "cell_type": "code",
   "source": [
    "function FerriteAssembly.integrate_cell!(vals::AvgValues, state, ae, material, cellvalues, cellbuffer)\n",
    "    dru = dof_range(cellbuffer, :u)\n",
    "    drv = dof_range(cellbuffer, :v)\n",
    "    cvu = cellvalues.u\n",
    "    cvv = cellvalues.v\n",
    "    for q_point in 1:getnquadpoints(cvu)\n",
    "        dV = getdetJdV(cvu, q_point)\n",
    "        u = function_value(cvu, q_point, ae, dru)\n",
    "        v = function_value(cvv, q_point, ae, drv)\n",
    "        vals.volume += dV\n",
    "        vals.u += u*dV\n",
    "        vals.v += v*dV\n",
    "    end\n",
    "end"
   ],
   "metadata": {},
   "execution_count": 7
  },
  {
   "cell_type": "markdown",
   "source": [
    "Once everything is set up, the usage is the same."
   ],
   "metadata": {}
  },
  {
   "outputs": [
    {
     "name": "stdout",
     "output_type": "stream",
     "text": [
      "Volume V=∫dV = 4.00000\n",
      "(1/V)∫ u dV = 0.67000 \n",
      "(1/V)∫ v dV  = (0.67000, -0.00000) \n"
     ]
    }
   ],
   "cell_type": "code",
   "source": [
    "vals = AvgValues()\n",
    "work!(Integrator(vals), domain; a=a);\n",
    "\n",
    "@printf(\"Volume V=∫dV = %0.5f\\n\", vals.volume)\n",
    "@printf(\"(1/V)∫ u dV = %0.5f \\n\", vals.u/vals.volume)\n",
    "@printf(\"(1/V)∫ v dV  = (%0.5f, %0.5f) \\n\", (vals.v/vals.volume)...)"
   ],
   "metadata": {},
   "execution_count": 8
  },
  {
   "cell_type": "markdown",
   "source": [
    "---\n",
    "\n",
    "*This notebook was generated using [Literate.jl](https://github.com/fredrikekre/Literate.jl).*"
   ],
   "metadata": {}
  }
 ],
 "nbformat_minor": 3,
 "metadata": {
  "language_info": {
   "file_extension": ".jl",
   "mimetype": "application/julia",
   "name": "julia",
   "version": "1.11.5"
  },
  "kernelspec": {
   "name": "julia-1.11",
   "display_name": "Julia 1.11.5",
   "language": "julia"
  }
 },
 "nbformat": 4
}
