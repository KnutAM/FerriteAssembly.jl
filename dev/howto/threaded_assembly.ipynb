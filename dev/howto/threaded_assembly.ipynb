{
 "cells": [
  {
   "cell_type": "markdown",
   "source": [
    "# Threaded assembly\n",
    "**Executive summary:** Call `setup_domainbuffer(domain; threading=true)`.\n",
    "\n",
    "FerriteAssembly aims to provide most functionality to be optionally done threaded,\n",
    "to make sure that the assembly (or more generally, calls to `work!`) is not the bottleneck\n",
    "in the simulation time. In this example, we show how to do the assembly of the stationary\n",
    "heat flow threaded, by using the example element, `StationaryFourier`:"
   ],
   "metadata": {}
  },
  {
   "outputs": [],
   "cell_type": "code",
   "source": [
    "using Ferrite, FerriteAssembly\n",
    "import FerriteAssembly.ExampleElements: StationaryFourier"
   ],
   "metadata": {},
   "execution_count": 1
  },
  {
   "cell_type": "markdown",
   "source": [
    "The setup is the same as always, i.e."
   ],
   "metadata": {}
  },
  {
   "outputs": [],
   "cell_type": "code",
   "source": [
    "grid = generate_grid(Quadrilateral, (20, 20))\n",
    "ip = Lagrange{RefQuadrilateral,1}()\n",
    "dh = DofHandler(grid); add!(dh, :u, ip); close!(dh)\n",
    "cellvalues = CellValues(QuadratureRule{RefQuadrilateral}(2), ip);\n",
    "K = create_sparsity_pattern(dh)\n",
    "r = zeros(ndofs(dh));"
   ],
   "metadata": {},
   "execution_count": 2
  },
  {
   "cell_type": "markdown",
   "source": [
    "We then create an instance of the material, for which an element routine is already provided,\n",
    "but we could just as well have used the one form the heat equation tutorial."
   ],
   "metadata": {}
  },
  {
   "outputs": [],
   "cell_type": "code",
   "source": [
    "material = StationaryFourier(1.0);"
   ],
   "metadata": {},
   "execution_count": 3
  },
  {
   "cell_type": "markdown",
   "source": [
    "To set up a threaded assembly, we just need to set `threading=true` when setting up the domainbuffer."
   ],
   "metadata": {}
  },
  {
   "outputs": [],
   "cell_type": "code",
   "source": [
    "domain = DomainSpec(dh, material, cellvalues)\n",
    "buffer = setup_domainbuffer(domain; threading=true);"
   ],
   "metadata": {},
   "execution_count": 4
  },
  {
   "cell_type": "markdown",
   "source": [
    "This creates a default coloring of the grid, but custom coloring can also be given."
   ],
   "metadata": {}
  },
  {
   "cell_type": "markdown",
   "source": [
    "The `worker` in this case is the standard Ferrite assembler:"
   ],
   "metadata": {}
  },
  {
   "outputs": [],
   "cell_type": "code",
   "source": [
    "assembler = start_assemble(K, r);"
   ],
   "metadata": {},
   "execution_count": 5
  },
  {
   "cell_type": "markdown",
   "source": [
    "Given this worker, we can do the work (in parallel) to assemble `K` and `r`"
   ],
   "metadata": {}
  },
  {
   "outputs": [],
   "cell_type": "code",
   "source": [
    "work!(assembler, buffer);"
   ],
   "metadata": {},
   "execution_count": 6
  },
  {
   "cell_type": "markdown",
   "source": [
    "As a side-note; the `StationaryFourier` element doesn't include a body load/source term contribution,\n",
    "such as the element in the heat flow tutorial. To add this contribution to the residual,\n",
    "we can use the `LoadHandler` with a `BodyLoad`:"
   ],
   "metadata": {}
  },
  {
   "outputs": [],
   "cell_type": "code",
   "source": [
    "lh = LoadHandler(dh)\n",
    "add!(lh, BodyLoad(:u, 2, Returns(-1.0))) # rᵢ -= ∫ δuᵢ*1.0*dV\n",
    "apply!(r, lh, 0.0) # t = 0"
   ],
   "metadata": {},
   "execution_count": 7
  },
  {
   "cell_type": "markdown",
   "source": [
    "---\n",
    "\n",
    "*This notebook was generated using [Literate.jl](https://github.com/fredrikekre/Literate.jl).*"
   ],
   "metadata": {}
  }
 ],
 "nbformat_minor": 3,
 "metadata": {
  "language_info": {
   "file_extension": ".jl",
   "mimetype": "application/julia",
   "name": "julia",
   "version": "1.9.4"
  },
  "kernelspec": {
   "name": "julia-1.9",
   "display_name": "Julia 1.9.4",
   "language": "julia"
  }
 },
 "nbformat": 4
}
