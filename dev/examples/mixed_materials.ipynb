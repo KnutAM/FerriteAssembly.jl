{
 "cells": [
  {
   "cell_type": "markdown",
   "source": [
    "# Multiple materials\n",
    "*How to assemble with different materials on different parts of the grid*\\\n",
    "Specifically, how to\n",
    "* Setup multiple `AssemblyDomain`s\n",
    "* Run threaded assembly\n",
    "\n",
    "## Material modeling\n",
    "In addition to `J2Plasticity`, we setup a portion of the domain to use the `ElasticMaterial`\n",
    "that is also defined in [`J2Plasticity.jl`](J2Plasticity.jl) file."
   ],
   "metadata": {}
  },
  {
   "outputs": [],
   "cell_type": "code",
   "source": [
    "using Tensors, MaterialModelsBase, Ferrite, FerriteAssembly\n",
    "include(\"J2Plasticity.jl\");"
   ],
   "metadata": {},
   "execution_count": 1
  },
  {
   "cell_type": "markdown",
   "source": [
    "## Standard `Ferrite.jl` setup\n",
    "We start by setting up the"
   ],
   "metadata": {}
  },
  {
   "outputs": [],
   "cell_type": "code",
   "source": [
    "grid = generate_grid(Tetrahedron, (20,2,4), zero(Vec{3}), Vec((10.0,1.0,1.0)))\n",
    "cellvalues = CellVectorValues(\n",
    "    QuadratureRule{3,RefTetrahedron}(2), Lagrange{3, RefTetrahedron, 1}())\n",
    "dh = DofHandler(grid); add!(dh, :u, 3); close!(dh) # Create dofhandler\n",
    "K = create_sparsity_pattern(dh)\n",
    "r = zeros(ndofs(dh))\n",
    "a = zeros(ndofs(dh));"
   ],
   "metadata": {},
   "execution_count": 2
  },
  {
   "cell_type": "markdown",
   "source": [
    "## Setting up `AssemblyDomain`s\n",
    "In order to setup a simulation with multiple domains, we must use the\n",
    "`AssemblyDomain` structure to setup the simulation.\n",
    "We start by creating the **elastic domain**,"
   ],
   "metadata": {}
  },
  {
   "outputs": [],
   "cell_type": "code",
   "source": [
    "addcellset!(grid, \"elastic\", x -> x[1] <= 5.0+eps())\n",
    "cellset_el = getcellset(grid, \"elastic\")\n",
    "material_el = ElasticMaterial(E=200.0e9, ν=0.3)\n",
    "domain_el = AssemblyDomain(\"elast\", dh, material_el, cellvalues; cellset=cellset_el);"
   ],
   "metadata": {},
   "execution_count": 3
  },
  {
   "cell_type": "markdown",
   "source": [
    "followed by the **plastic domain**"
   ],
   "metadata": {}
  },
  {
   "outputs": [],
   "cell_type": "code",
   "source": [
    "cellset_pl = setdiff(1:getncells(grid), cellset_el)\n",
    "material_pl = J2Plasticity(200.0e9, 0.3, 200.0e6, 10.0e9)\n",
    "domain_pl = AssemblyDomain(\"plast\", dh, material_pl, cellvalues; cellset=cellset_pl);"
   ],
   "metadata": {},
   "execution_count": 4
  },
  {
   "cell_type": "markdown",
   "source": [
    "And then we can set up the assembly, where `threading=true` makes it multithreaded."
   ],
   "metadata": {}
  },
  {
   "outputs": [],
   "cell_type": "code",
   "source": [
    "buffers, new_states, old_states = setup_assembly([domain_el, domain_pl]; threading=true);"
   ],
   "metadata": {},
   "execution_count": 5
  },
  {
   "cell_type": "markdown",
   "source": [
    "For multiple domains, `buffers`, `old_states`, and `new_states` are `Dict{String}`\n",
    "with keys according to the names given to each `AssemblyDomain`."
   ],
   "metadata": {}
  },
  {
   "cell_type": "markdown",
   "source": [
    "## Doing the assembly\n",
    "The structure of `buffers`, `old_states`, and `new_states` is important for postprocessing,\n",
    "but these are passed directly for doing assembly:"
   ],
   "metadata": {}
  },
  {
   "outputs": [],
   "cell_type": "code",
   "source": [
    "assembler = start_assemble(K, r)\n",
    "doassemble!(assembler, new_states, buffers; a=a, old_states=old_states);"
   ],
   "metadata": {},
   "execution_count": 6
  },
  {
   "cell_type": "markdown",
   "source": [
    "## Updating state variables\n",
    "Updating the state variables after convergence in the current time step works as for single domains,"
   ],
   "metadata": {}
  },
  {
   "outputs": [],
   "cell_type": "code",
   "source": [
    "update_states!(old_states, new_states);\n",
    "\n",
    "using Test #hide\n",
    "K_ref = create_sparsity_pattern(dh) #hide\n",
    "r_ref = zeros(ndofs(dh)) #hide\n",
    "a_ref = zeros(ndofs(dh)) #hide\n",
    "buffer, new_states, old_states = setup_assembly(dh, material_el, cellvalues) #hide\n",
    "assembler_ref = start_assemble(K_ref, r_ref)\n",
    "doassemble!(assembler_ref, new_states, buffer; a=a_ref, old_states=old_states) #hide\n",
    "@test K ≈ K_ref    #hide\n",
    "nothing;           #hide"
   ],
   "metadata": {},
   "execution_count": 7
  },
  {
   "cell_type": "markdown",
   "source": [
    "---\n",
    "\n",
    "*This notebook was generated using [Literate.jl](https://github.com/fredrikekre/Literate.jl).*"
   ],
   "metadata": {}
  }
 ],
 "nbformat_minor": 3,
 "metadata": {
  "language_info": {
   "file_extension": ".jl",
   "mimetype": "application/julia",
   "name": "julia",
   "version": "1.9.1"
  },
  "kernelspec": {
   "name": "julia-1.9",
   "display_name": "Julia 1.9.1",
   "language": "julia"
  }
 },
 "nbformat": 4
}
