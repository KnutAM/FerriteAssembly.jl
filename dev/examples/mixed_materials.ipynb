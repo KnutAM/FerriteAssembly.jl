{
 "cells": [
  {
   "cell_type": "markdown",
   "source": [
    "# Multiple materials\n",
    "This example shows how to use two different materials on a\n",
    "grid with the same cells everywhere. Hence, the only difference\n",
    "is the type of material and the state variables.\n",
    "We start by including the necessary packages, as well as the\n",
    "[`J2Plasticity.jl`](J2Plasticity.jl) and\n",
    "[`MaterialModelsBaseElement.jl`](MaterialModelsBaseElement.jl)\n",
    "files from the previous example."
   ],
   "metadata": {}
  },
  {
   "outputs": [],
   "cell_type": "code",
   "source": [
    "using Tensors, MaterialModelsBase, Ferrite, FerriteAssembly\n",
    "include(\"J2Plasticity.jl\");\n",
    "include(\"MaterialModelsBaseElement.jl\");"
   ],
   "metadata": {},
   "execution_count": 1
  },
  {
   "cell_type": "markdown",
   "source": [
    "Then, we also define an elastic material"
   ],
   "metadata": {}
  },
  {
   "outputs": [],
   "cell_type": "code",
   "source": [
    "struct ElasticMaterial{T<:SymmetricTensor{4,3}} <: AbstractMaterial\n",
    "    D::T\n",
    "end\n",
    "function ElasticMaterial(;E, ν)\n",
    "    D, _, _ = elastic_conversion(E, ν)\n",
    "    return ElasticMaterial(D)\n",
    "end;"
   ],
   "metadata": {},
   "execution_count": 2
  },
  {
   "cell_type": "markdown",
   "source": [
    "This material requires not state, so `MaterialModelsBase.jl`'s `NoMaterialState`\n",
    "will be created by default. Hence, we only need to define the `material_response`"
   ],
   "metadata": {}
  },
  {
   "outputs": [],
   "cell_type": "code",
   "source": [
    "function MaterialModelsBase.material_response(\n",
    "    material::ElasticMaterial, ϵ::SymmetricTensor{2,3}, state,\n",
    "    Δt, cache=get_cache(material), args...; kwargs...)\n",
    "    σ = material.D ⊡ ϵ\n",
    "    return σ, material.D, NoMaterialState()\n",
    "end;"
   ],
   "metadata": {},
   "execution_count": 3
  },
  {
   "cell_type": "markdown",
   "source": [
    "The same `element_routine!` as before can be used, defined in\n",
    "[`MaterialModelsBaseElement.jl`](MaterialModelsBaseElement.jl).\n",
    "Hence, we just need to define the materials, grid, cellvalues etc."
   ],
   "metadata": {}
  },
  {
   "outputs": [],
   "cell_type": "code",
   "source": [
    "materials = Dict(\n",
    "    \"elastic\" => ElasticMaterial(E=200.0e9, ν=0.3),\n",
    "    \"plastic\" => J2Plasticity(200.0e9, 0.3, 200.0e6, 10.0e9));\n",
    "grid = generate_grid(Tetrahedron, (20,2,4), zero(Vec{3}), Vec((10.0,1.0,1.0)));\n",
    "cellvalues = CellVectorValues(\n",
    "    QuadratureRule{3,RefTetrahedron}(2), Lagrange{3, RefTetrahedron, 1}());\n",
    "dh = DofHandler(grid); push!(dh, :u, 3); close!(dh); # Create dofhandler\n",
    "K = create_sparsity_pattern(dh);\n",
    "r = zeros(ndofs(dh));"
   ],
   "metadata": {},
   "execution_count": 4
  },
  {
   "cell_type": "markdown",
   "source": [
    "We then define the cellsets where with the same key as each material in `materials`"
   ],
   "metadata": {}
  },
  {
   "outputs": [],
   "cell_type": "code",
   "source": [
    "addcellset!(grid, \"elastic\", x -> x[1] <= 5.0+eps())\n",
    "addcellset!(grid, \"plastic\", setdiff(1:getncells(grid), getcellset(grid,\"elastic\")));"
   ],
   "metadata": {},
   "execution_count": 5
  },
  {
   "cell_type": "markdown",
   "source": [
    "The key to handling multiple materials, with different state variables,\n",
    "using the regular DofHandler or a single FieldHandler (in the MixedDofHandler case)\n",
    "is to create multiple state variables, and call `doassemble!` for each of them:"
   ],
   "metadata": {}
  },
  {
   "outputs": [],
   "cell_type": "code",
   "source": [
    "statefuns = Dict(key=>_->initial_material_state(mat) for (key,mat) in materials)\n",
    "states = create_states(dh, statefuns, cellvalues);"
   ],
   "metadata": {},
   "execution_count": 6
  },
  {
   "cell_type": "markdown",
   "source": [
    "We also need buffers for each material"
   ],
   "metadata": {}
  },
  {
   "outputs": [],
   "cell_type": "code",
   "source": [
    "caches = Dict(key=>get_cache(mat) for (key,mat) in materials)\n",
    "buffers = setup_cellbuffer(dh, cellvalues, materials, nothing, caches);"
   ],
   "metadata": {},
   "execution_count": 7
  },
  {
   "cell_type": "markdown",
   "source": [
    "And then we define the displacements and the assembler, before assembling"
   ],
   "metadata": {}
  },
  {
   "outputs": [],
   "cell_type": "code",
   "source": [
    "a = zeros(ndofs(dh))\n",
    "assembler = start_assemble(K, r)\n",
    "doassemble!(assembler, buffers, states, dh, a);\n",
    "\n",
    "using Test #hide\n",
    "K_ref = create_sparsity_pattern(dh); #hide\n",
    "r_ref = zeros(ndofs(dh)); #hide\n",
    "states_ref = create_states(dh, _->initial_material_state(materials[\"elastic\"]), cellvalues); #hide\n",
    "a_ref = zeros(ndofs(dh)) #hide\n",
    "assembler_ref = start_assemble(K_ref,r_ref) #hide\n",
    "doassemble!(assembler_ref, buffers[\"elastic\"], states_ref, dh, a_ref); #hide\n",
    "@test K ≈ K_ref; #hide"
   ],
   "metadata": {},
   "execution_count": 8
  },
  {
   "cell_type": "markdown",
   "source": [
    "---\n",
    "\n",
    "*This notebook was generated using [Literate.jl](https://github.com/fredrikekre/Literate.jl).*"
   ],
   "metadata": {}
  }
 ],
 "nbformat_minor": 3,
 "metadata": {
  "language_info": {
   "file_extension": ".jl",
   "mimetype": "application/julia",
   "name": "julia",
   "version": "1.8.3"
  },
  "kernelspec": {
   "name": "julia-1.8",
   "display_name": "Julia 1.8.3",
   "language": "julia"
  }
 },
 "nbformat": 4
}
