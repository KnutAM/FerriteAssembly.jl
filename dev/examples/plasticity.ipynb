{
 "cells": [
  {
   "cell_type": "markdown",
   "source": [
    "# Plasticity\n",
    "This example shows how any material following the\n",
    "[`MaterialModelsBase.jl`](https://github.com/KnutAM/MaterialModelsBase.jl)\n",
    "interface can be assembled with `FerriteAssembly.jl`.\n",
    "We start by the required packages"
   ],
   "metadata": {}
  },
  {
   "outputs": [],
   "cell_type": "code",
   "source": [
    "using Tensors, MaterialModelsBase, Ferrite, FerriteAssembly\n",
    "\n",
    "include(\"J2Plasticity.jl\")\n",
    "\n",
    "include(\"MaterialModelsBaseElement.jl\")"
   ],
   "metadata": {},
   "execution_count": 1
  },
  {
   "cell_type": "markdown",
   "source": [
    "## Assembly\n",
    "With all required functions defined, we can now setup and assemble the finite element problem"
   ],
   "metadata": {}
  },
  {
   "outputs": [],
   "cell_type": "code",
   "source": [
    "material = J2Plasticity(200.0e9, 0.3, 200.0e6, 10.0e9);\n",
    "grid = generate_grid(Tetrahedron, (20,2,4), zero(Vec{3}), Vec((10.0,1.0,1.0)));\n",
    "cellvalues = CellVectorValues(\n",
    "    QuadratureRule{3,RefTetrahedron}(2), Lagrange{3, RefTetrahedron, 1}());\n",
    "dh = DofHandler(grid); push!(dh, :u, 3); close!(dh); # Create dofhandler\n",
    "K = create_sparsity_pattern(dh);\n",
    "r = zeros(ndofs(dh));"
   ],
   "metadata": {},
   "execution_count": 2
  },
  {
   "cell_type": "markdown",
   "source": [
    "Using the `create_states` function, we can easily create the storage of state variables\n",
    "suitable for the chosen dof handler"
   ],
   "metadata": {}
  },
  {
   "outputs": [],
   "cell_type": "code",
   "source": [
    "states = create_states(dh, _->initial_material_state(material), cellvalues);"
   ],
   "metadata": {},
   "execution_count": 3
  },
  {
   "cell_type": "markdown",
   "source": [
    "And then we create the buffer for saving cell-related variables"
   ],
   "metadata": {}
  },
  {
   "outputs": [],
   "cell_type": "code",
   "source": [
    "buffer = CellBuffer(dh, cellvalues, material, nothing, get_cache(material));"
   ],
   "metadata": {},
   "execution_count": 4
  },
  {
   "cell_type": "markdown",
   "source": [
    "Finally, with an initial guess of displacements, `a`,\n",
    "we can create the assembler and do the assembly"
   ],
   "metadata": {}
  },
  {
   "outputs": [],
   "cell_type": "code",
   "source": [
    "a = zeros(ndofs(dh))\n",
    "assembler = start_assemble(K,r)\n",
    "doassemble!(assembler, buffer, states, dh, a);"
   ],
   "metadata": {},
   "execution_count": 5
  },
  {
   "cell_type": "markdown",
   "source": [
    "---\n",
    "\n",
    "*This notebook was generated using [Literate.jl](https://github.com/fredrikekre/Literate.jl).*"
   ],
   "metadata": {}
  }
 ],
 "nbformat_minor": 3,
 "metadata": {
  "language_info": {
   "file_extension": ".jl",
   "mimetype": "application/julia",
   "name": "julia",
   "version": "1.8.2"
  },
  "kernelspec": {
   "name": "julia-1.8",
   "display_name": "Julia 1.8.2",
   "language": "julia"
  }
 },
 "nbformat": 4
}
