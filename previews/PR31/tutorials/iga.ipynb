{
 "cells": [
  {
   "cell_type": "markdown",
   "source": [
    "# Isogeometric analysis with `IGA.jl`\n",
    "This tutorial shows how to integrate FerriteAssembly with the\n",
    "isogeometric analysis toolbox IGA.jl, directly based on `IGA.jl`'s\n",
    "[Infinite plate with hole](https://lijas.github.io/IGA.jl/dev/examples/plate_with_hole/)\n",
    "example. Hence, please see there for further documentation details and important remarks\n",
    "regarding IGA.\n",
    "\n",
    "The example considers solving a plate with a hole. A quarter of a plate is considered via symmetry\n",
    "boundary conditions, and a tensile load is applied on one edge.\n",
    "The full script without intermediate comments is available at the\n",
    "bottom of this page."
   ],
   "metadata": {}
  },
  {
   "cell_type": "markdown",
   "source": [
    "Start by loading the necessary packages"
   ],
   "metadata": {}
  },
  {
   "outputs": [],
   "cell_type": "code",
   "source": [
    "using Ferrite, IGA, LinearAlgebra, FerriteAssembly\n",
    "import FerriteAssembly.ExampleElements: ElasticPlaneStrain"
   ],
   "metadata": {},
   "execution_count": 1
  },
  {
   "cell_type": "markdown",
   "source": [
    "## Setup\n",
    "We begin by generating the mesh by using `IGA.jl`'s built-in mesh generators\n",
    "In this example, we will generate the patch called \"plate with hole\".\n",
    "Note, currently this function can only generate the patch with second order basefunctions."
   ],
   "metadata": {}
  },
  {
   "outputs": [],
   "cell_type": "code",
   "source": [
    "function create_mesh(; nels = (20,10), order)\n",
    "    nurbsmesh = generate_nurbs_patch(:plate_with_hole, nels, order)\n",
    "    grid = BezierGrid(nurbsmesh)\n",
    "\n",
    "    addfacetset!(grid, \"left\", (x) -> x[1] ≈ -4.0)\n",
    "    addfacetset!(grid, \"bot\", (x) -> x[2] ≈ 0.0)\n",
    "    addfacetset!(grid, \"right\", (x) -> x[1] ≈ 0.0)\n",
    "\n",
    "    return grid\n",
    "end\n",
    "order = 2\n",
    "grid = create_mesh(; order);"
   ],
   "metadata": {},
   "execution_count": 2
  },
  {
   "cell_type": "markdown",
   "source": [
    "Create the cellvalues storing the shape function values."
   ],
   "metadata": {}
  },
  {
   "outputs": [],
   "cell_type": "code",
   "source": [
    "ip = IGAInterpolation{RefQuadrilateral, order}()\n",
    "qr_cell = QuadratureRule{RefQuadrilateral}(4)\n",
    "qr_face = FacetQuadratureRule{RefQuadrilateral}(3)\n",
    "\n",
    "cv = BezierCellValues(qr_cell, ip^2);\n",
    "fv = BezierFacetValues(qr_face, ip^2);"
   ],
   "metadata": {},
   "execution_count": 3
  },
  {
   "cell_type": "markdown",
   "source": [
    "Distribute dofs as normal"
   ],
   "metadata": {}
  },
  {
   "outputs": [],
   "cell_type": "code",
   "source": [
    "dh = DofHandler(grid)\n",
    "add!(dh, :u, ip^2)\n",
    "close!(dh);"
   ],
   "metadata": {},
   "execution_count": 4
  },
  {
   "cell_type": "markdown",
   "source": [
    "And allocate system matrices and vectors"
   ],
   "metadata": {}
  },
  {
   "outputs": [],
   "cell_type": "code",
   "source": [
    "a = zeros(ndofs(dh))\n",
    "r = zeros(ndofs(dh))\n",
    "K = allocate_matrix(dh);"
   ],
   "metadata": {},
   "execution_count": 5
  },
  {
   "cell_type": "markdown",
   "source": [
    "Starting with Dirichlet conditions:\n",
    "1) Bottom face should only be able to move in x-direction\n",
    "2) Right boundary should only be able to move in y-direction"
   ],
   "metadata": {}
  },
  {
   "outputs": [],
   "cell_type": "code",
   "source": [
    "ch = ConstraintHandler(dh);\n",
    "add!(ch, Dirichlet(:u, getfacetset(grid, \"bot\"), Returns(0.0), 2))\n",
    "add!(ch, Dirichlet(:u, getfacetset(grid, \"right\"), Returns(0.0), 1))\n",
    "close!(ch)\n",
    "update!(ch, 0.0);"
   ],
   "metadata": {},
   "execution_count": 6
  },
  {
   "cell_type": "markdown",
   "source": [
    "Then Neumann conditions:\n",
    "Apply outwards traction on the left surface,\n",
    "taking the negative value since r = fint - fext."
   ],
   "metadata": {}
  },
  {
   "outputs": [],
   "cell_type": "code",
   "source": [
    "traction = Vec((-10.0, 0.0))\n",
    "lh = LoadHandler(dh)\n",
    "add!(lh, Neumann(:u, fv, getfacetset(grid, \"left\"), Returns(-traction)));"
   ],
   "metadata": {},
   "execution_count": 7
  },
  {
   "cell_type": "markdown",
   "source": [
    "FerriteAssembly setup"
   ],
   "metadata": {}
  },
  {
   "outputs": [],
   "cell_type": "code",
   "source": [
    "material = ElasticPlaneStrain(;E=100.0, ν=0.3)\n",
    "domain = DomainSpec(dh, material, cv)\n",
    "buffer = setup_domainbuffer(domain);"
   ],
   "metadata": {},
   "execution_count": 8
  },
  {
   "cell_type": "markdown",
   "source": [
    "## Assemble"
   ],
   "metadata": {}
  },
  {
   "outputs": [],
   "cell_type": "code",
   "source": [
    "assembler = start_assemble(K, r)\n",
    "apply!(a, ch)\n",
    "work!(assembler, buffer; a=a)\n",
    "apply!(r, lh, 0.0);"
   ],
   "metadata": {},
   "execution_count": 9
  },
  {
   "cell_type": "markdown",
   "source": [
    "## Solve"
   ],
   "metadata": {}
  },
  {
   "outputs": [],
   "cell_type": "code",
   "source": [
    "apply_zero!(K, r, ch)\n",
    "a .-= K\\r\n",
    "apply!(a, ch);"
   ],
   "metadata": {},
   "execution_count": 10
  },
  {
   "cell_type": "markdown",
   "source": [
    "## Postprocessing\n",
    "First, the stresses in each integration point are calculated by using the Integrator."
   ],
   "metadata": {}
  },
  {
   "outputs": [],
   "cell_type": "code",
   "source": [
    "struct CellStress{TT}\n",
    "    s::Vector{Vector{TT}}\n",
    "end\n",
    "function CellStress(grid::Ferrite.AbstractGrid)\n",
    "    TT = typeof(zero(SymmetricTensor{2, Ferrite.getspatialdim(grid)}))\n",
    "    return CellStress([TT[] for _ in 1:getncells(grid)])\n",
    "end\n",
    "\n",
    "function FerriteAssembly.integrate_cell!(stress::CellStress, state, ae, material, cv, cb)\n",
    "    σ = stress.s[cellid(cb)]\n",
    "    for q_point in 1:getnquadpoints(cv)\n",
    "        ϵ = function_symmetric_gradient(cv, q_point, ae)\n",
    "        push!(σ, material.C⊡ϵ)\n",
    "    end\n",
    "end\n",
    "cellstresses = CellStress(grid)\n",
    "integrator = Integrator(cellstresses)\n",
    "work!(integrator, buffer; a=a);"
   ],
   "metadata": {},
   "execution_count": 11
  },
  {
   "cell_type": "markdown",
   "source": [
    "Now we want to export the results to VTK. So we project the stresses at\n",
    "the quadrature points to the nodes using the L2Projector from Ferrite.\n",
    "Currently, however, IGA doesn't support L2 projection.\n",
    "```julia\n",
    "# projector = L2Projector(ip, grid)\n",
    "# σ_nodes = IGA.igaproject(projector, cellstresses.s, qr_cell; project_to_nodes=true);\n",
    "```"
   ],
   "metadata": {}
  },
  {
   "cell_type": "markdown",
   "source": [
    "Output results to VTK"
   ],
   "metadata": {}
  },
  {
   "outputs": [],
   "cell_type": "code",
   "source": [
    "IGA.VTKIGAFile(\"plate_with_hole.vtu\", grid) do vtk\n",
    "    write_solution(vtk, dh, a)\n",
    "end"
   ],
   "metadata": {},
   "execution_count": 12
  },
  {
   "cell_type": "markdown",
   "source": [
    "---\n",
    "\n",
    "*This notebook was generated using [Literate.jl](https://github.com/fredrikekre/Literate.jl).*"
   ],
   "metadata": {}
  }
 ],
 "nbformat_minor": 3,
 "metadata": {
  "language_info": {
   "file_extension": ".jl",
   "mimetype": "application/julia",
   "name": "julia",
   "version": "1.10.5"
  },
  "kernelspec": {
   "name": "julia-1.10",
   "display_name": "Julia 1.10.5",
   "language": "julia"
  }
 },
 "nbformat": 4
}
