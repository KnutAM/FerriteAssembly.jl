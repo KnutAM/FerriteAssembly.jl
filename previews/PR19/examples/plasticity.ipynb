{
 "cells": [
  {
   "cell_type": "markdown",
   "source": [
    "# Plasticity\n",
    "This example shows how to assemble a plastic material following the\n",
    "[`MaterialModelsBase.jl`](https://github.com/KnutAM/MaterialModelsBase.jl)\n",
    "interface with `FerriteAssembly.jl`. The\n",
    "`element_routine!`)\n",
    "function implementation for any `MaterialModelsBase.AbstractMaterial` is already defined. \\\\\n",
    "Specifically, how to\n",
    "* Assemble materials with state variables\n",
    "* Giving the time increment for rate dependent elements\n",
    "* Update state variables for the next time step\n",
    "\n",
    "## Material modeling\n",
    "We start by the required packages"
   ],
   "metadata": {}
  },
  {
   "outputs": [],
   "cell_type": "code",
   "source": [
    "using Tensors, MaterialModelsBase, Ferrite, FerriteAssembly"
   ],
   "metadata": {},
   "execution_count": 1
  },
  {
   "cell_type": "markdown",
   "source": [
    "And then we define the `material_response` for the plasticity material in\n",
    "[`J2Plasticity.jl`](J2Plasticity.jl), which is basically the same as in\n",
    "[`Ferrite.jl`'s plasticity example](https://ferrite-fem.github.io/Ferrite.jl/stable/examples/plasticity/)"
   ],
   "metadata": {}
  },
  {
   "outputs": [],
   "cell_type": "code",
   "source": [
    "include(\"J2Plasticity.jl\");"
   ],
   "metadata": {},
   "execution_count": 2
  },
  {
   "cell_type": "markdown",
   "source": [
    "## Standard `Ferrite.jl` setup\n",
    "With all required functions defined, we can now setup and assemble the finite element problem"
   ],
   "metadata": {}
  },
  {
   "outputs": [],
   "cell_type": "code",
   "source": [
    "material = J2Plasticity(200.0e9, 0.3, 200.0e6, 10.0e9);\n",
    "grid = generate_grid(Tetrahedron, (20,2,4), zero(Vec{3}), Vec((10.0,1.0,1.0)));\n",
    "cellvalues = CellVectorValues(\n",
    "    QuadratureRule{3,RefTetrahedron}(2), Lagrange{3, RefTetrahedron, 1}());\n",
    "dh = DofHandler(grid); add!(dh, :u, 3); close!(dh); # Create dofhandler\n",
    "K = create_sparsity_pattern(dh);\n",
    "r = zeros(ndofs(dh));"
   ],
   "metadata": {},
   "execution_count": 3
  },
  {
   "cell_type": "markdown",
   "source": [
    "## Setting up the assembly\n",
    "Using the `setup_domainbuffer` function,"
   ],
   "metadata": {}
  },
  {
   "outputs": [],
   "cell_type": "code",
   "source": [
    "buffer = setup_domainbuffer(DomainSpec(dh, material, cellvalues));"
   ],
   "metadata": {},
   "execution_count": 4
  },
  {
   "cell_type": "markdown",
   "source": [
    "we setup the `buffer`, old state variables, and new state variables.\n",
    "The state variables are created via the `create_cell_state`\n",
    "function that is already defined for `MaterialModelsBase.AbstractMaterial`"
   ],
   "metadata": {}
  },
  {
   "cell_type": "markdown",
   "source": [
    "## Doing the assembly\n",
    "We can now just provide an initial guess for the degree of freedom vector,`a`,\n",
    "and do the assembly"
   ],
   "metadata": {}
  },
  {
   "outputs": [],
   "cell_type": "code",
   "source": [
    "a = zeros(ndofs(dh))\n",
    "assembler = start_assemble(K, r)\n",
    "work!(assembler, buffer; a=a);"
   ],
   "metadata": {},
   "execution_count": 5
  },
  {
   "cell_type": "markdown",
   "source": [
    "If we would have a rate-dependent material, such that the time increment mattered,\n",
    "we can also supply that (but that is not required in this example)"
   ],
   "metadata": {}
  },
  {
   "outputs": [],
   "cell_type": "code",
   "source": [
    "set_time_increment!(buffer, 1.0)\n",
    "assembler = start_assemble(K, r)\n",
    "work!(assembler, buffer; a=a);"
   ],
   "metadata": {},
   "execution_count": 6
  },
  {
   "cell_type": "markdown",
   "source": [
    "## Updating state variables\n",
    "In a full FE-program we iterate until convergence to find `a`. When converged,\n",
    "we go to the next time step, and would like to set the old state equal to the\n",
    "current state, which we can do by calling"
   ],
   "metadata": {}
  },
  {
   "outputs": [],
   "cell_type": "code",
   "source": [
    "update_states!(buffer);"
   ],
   "metadata": {},
   "execution_count": 7
  },
  {
   "cell_type": "markdown",
   "source": [
    "If we would like to access the states in any cell, we can request that from the buffer"
   ],
   "metadata": {}
  },
  {
   "outputs": [
    {
     "output_type": "display_data",
     "data": {
      "text/plain": "Vector{MaterialState{Float64, SymmetricTensor{2, 3, Float64, 6}}}\u001b[90m (alias for \u001b[39m\u001b[90mArray{Main.var\"##293\".MaterialState{Float64, Tensors.SymmetricTensor{2, 3, Float64, 6}}, 1}\u001b[39m\u001b[90m)\u001b[39m"
     },
     "metadata": {}
    }
   ],
   "cell_type": "code",
   "source": [
    "cell_state = FerriteAssembly.get_state(buffer, 1)\n",
    "display(typeof(cell_state))"
   ],
   "metadata": {},
   "execution_count": 8
  },
  {
   "cell_type": "markdown",
   "source": [
    "---\n",
    "\n",
    "*This notebook was generated using [Literate.jl](https://github.com/fredrikekre/Literate.jl).*"
   ],
   "metadata": {}
  }
 ],
 "nbformat_minor": 3,
 "metadata": {
  "language_info": {
   "file_extension": ".jl",
   "mimetype": "application/julia",
   "name": "julia",
   "version": "1.9.2"
  },
  "kernelspec": {
   "name": "julia-1.9",
   "display_name": "Julia 1.9.2",
   "language": "julia"
  }
 },
 "nbformat": 4
}
