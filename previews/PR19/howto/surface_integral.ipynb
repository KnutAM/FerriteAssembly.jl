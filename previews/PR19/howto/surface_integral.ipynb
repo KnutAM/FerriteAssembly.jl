{
 "cells": [
  {
   "cell_type": "markdown",
   "source": [
    "# Surface integration"
   ],
   "metadata": {}
  },
  {
   "outputs": [],
   "cell_type": "code",
   "source": [
    "using Ferrite, FerriteAssembly"
   ],
   "metadata": {},
   "execution_count": 1
  },
  {
   "cell_type": "markdown",
   "source": [
    "This how-to shows integration of the normal flux\n",
    "on a surface. As usual, we need the basic Ferrite\n",
    "building blocks, in this case a grid, dofhandler,\n",
    "and facevalues"
   ],
   "metadata": {}
  },
  {
   "outputs": [],
   "cell_type": "code",
   "source": [
    "grid = generate_grid(Hexahedron, (5,5,5))\n",
    "dh = DofHandler(grid); add!(dh, :u, 1); close!(dh)\n",
    "qr = QuadratureRule{2,RefCube}(2); ip = Lagrange{3,RefCube,1}()\n",
    "fv = FaceScalarValues(qr, ip);"
   ],
   "metadata": {},
   "execution_count": 2
  },
  {
   "cell_type": "markdown",
   "source": [
    "We also need a solution vector to integrate,\n",
    "unless we only calculate geometric properties."
   ],
   "metadata": {}
  },
  {
   "outputs": [
    {
     "output_type": "execute_result",
     "data": {
      "text/plain": "216-element Vector{Float64}:\n 1.7320508075688772\n 1.5362291495737217\n 1.3114877048604001\n 1.5362291495737217\n 1.5362291495737217\n 1.3114877048604001\n 1.0392304845413265\n 1.3114877048604001\n 1.42828568570857\n 1.1832159566199232\n ⋮\n 1.1832159566199232\n 1.3114877048604001\n 1.5362291495737217\n 1.5362291495737217\n 1.7320508075688772\n 1.42828568570857\n 1.42828568570857\n 1.5362291495737217\n 1.7320508075688772"
     },
     "metadata": {},
     "execution_count": 3
    }
   ],
   "cell_type": "code",
   "source": [
    "a = zeros(ndofs(dh))\n",
    "apply_analytical!(a, dh, :u, norm) # f(x)=norm(x)"
   ],
   "metadata": {},
   "execution_count": 3
  },
  {
   "cell_type": "markdown",
   "source": [
    "And then we decide which faces to integrate over,\n",
    "and define the integrator, here using the simple\n",
    "interface"
   ],
   "metadata": {}
  },
  {
   "outputs": [
    {
     "name": "stdout",
     "output_type": "stream",
     "text": [
      "Flux: ∫qₙ dA = 2.8636826734618444\n"
     ]
    }
   ],
   "cell_type": "code",
   "source": [
    "domainbuffer = setup_domainbuffer(DomainSpec(dh, nothing, fv; set=getfaceset(grid, \"right\")))\n",
    "integrator = SimpleIntegrator((u,∇u,n)->∇u⋅n, 0.0)\n",
    "work!(integrator, domainbuffer; a=a)\n",
    "\n",
    "println(\"Flux: ∫qₙ dA = \", integrator.val)"
   ],
   "metadata": {},
   "execution_count": 4
  },
  {
   "cell_type": "markdown",
   "source": [
    "---\n",
    "\n",
    "*This notebook was generated using [Literate.jl](https://github.com/fredrikekre/Literate.jl).*"
   ],
   "metadata": {}
  }
 ],
 "nbformat_minor": 3,
 "metadata": {
  "language_info": {
   "file_extension": ".jl",
   "mimetype": "application/julia",
   "name": "julia",
   "version": "1.9.2"
  },
  "kernelspec": {
   "name": "julia-1.9",
   "display_name": "Julia 1.9.2",
   "language": "julia"
  }
 },
 "nbformat": 4
}
