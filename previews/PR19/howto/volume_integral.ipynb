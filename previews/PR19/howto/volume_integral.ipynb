{
 "cells": [
  {
   "cell_type": "markdown",
   "source": [
    "# Volume integration"
   ],
   "metadata": {}
  },
  {
   "outputs": [],
   "cell_type": "code",
   "source": [
    "using Ferrite, FerriteAssembly, Printf"
   ],
   "metadata": {},
   "execution_count": 1
  },
  {
   "cell_type": "markdown",
   "source": [
    "In this how-to, we calculate the integral\n",
    "of some functions of the solution.\n",
    "To start, we define the grid, dofs, and cellvalues."
   ],
   "metadata": {}
  },
  {
   "outputs": [
    {
     "output_type": "execute_result",
     "data": {
      "text/plain": "Ferrite.CellVectorValues{2, Float64, Ferrite.RefCube, 4} with 8 shape functions and 4 quadrature points"
     },
     "metadata": {},
     "execution_count": 2
    }
   ],
   "cell_type": "code",
   "source": [
    "grid = generate_grid(Quadrilateral, (20,20))\n",
    "dh = DofHandler(grid)\n",
    "add!(dh, :u, 1)\n",
    "add!(dh, :v, 2)\n",
    "close!(dh)\n",
    "\n",
    "qr = QuadratureRule{2,RefCube}(2)\n",
    "ip = Lagrange{2,RefCube,1}()\n",
    "cv_scalar = CellScalarValues(qr,ip)\n",
    "cv_vector = CellVectorValues(qr,ip)"
   ],
   "metadata": {},
   "execution_count": 2
  },
  {
   "cell_type": "markdown",
   "source": [
    "Since this is a how-to, we won't solve a problem\n",
    "to get the solution, but normally, we would already\n",
    "have defined the domain buffer (in this case we\n",
    "just set material=nothing)"
   ],
   "metadata": {}
  },
  {
   "outputs": [],
   "cell_type": "code",
   "source": [
    "domain = setup_domainbuffer(DomainSpec(dh, nothing, (u=cv_scalar, v=cv_vector)));"
   ],
   "metadata": {},
   "execution_count": 3
  },
  {
   "cell_type": "markdown",
   "source": [
    "And here we just use `apply_analytical!` to get some\n",
    "non-zero field values."
   ],
   "metadata": {}
  },
  {
   "outputs": [],
   "cell_type": "code",
   "source": [
    "a = zeros(ndofs(dh))\n",
    "apply_analytical!(a, dh, :u, x->x⋅x)\n",
    "apply_analytical!(a, dh, :v, x->Vec(x⋅x, x[2]));"
   ],
   "metadata": {},
   "execution_count": 4
  },
  {
   "cell_type": "markdown",
   "source": [
    "To setup the integration, we then create a custom\n",
    "type to hold our values, and we must be able to mutate\n",
    "our values"
   ],
   "metadata": {}
  },
  {
   "outputs": [],
   "cell_type": "code",
   "source": [
    "mutable struct AvgValues{T}\n",
    "    volume::T   # V=∫ dV\n",
    "    u::T        # (1/V)∫ u dV\n",
    "    v::Vec{2,T} # (1/V)∫ v dV\n",
    "end\n",
    "AvgValues() = AvgValues(0.0, 0.0, zero(Vec{2}));"
   ],
   "metadata": {},
   "execution_count": 5
  },
  {
   "cell_type": "markdown",
   "source": [
    "As the final setup step, we overload the `integrate_cell`\n",
    "function to get the desired volume averaged values"
   ],
   "metadata": {}
  },
  {
   "outputs": [
    {
     "name": "stdout",
     "output_type": "stream",
     "text": [
      "Volume V=∫dV = 4.00000\n",
      "(1/V)∫u⋅u dV = 0.67000 \n",
      "(1/V)∫ v dV  = (0.67000, -0.00000) \n"
     ]
    }
   ],
   "cell_type": "code",
   "source": [
    "function FerriteAssembly.integrate_cell!(vals::AvgValues, state, ae, material, cellvalues, cellbuffer)\n",
    "    dru = dof_range(cellbuffer, :u)\n",
    "    drv = dof_range(cellbuffer, :v)\n",
    "    cvu = cellvalues.u\n",
    "    cvv = cellvalues.v\n",
    "    for q_point in 1:getnquadpoints(cvu)\n",
    "        dV = getdetJdV(cvu, q_point)\n",
    "        u = function_value(cvu, q_point, ae, dru)\n",
    "        v = function_value(cvv, q_point, ae, drv)\n",
    "        vals.volume += dV\n",
    "        vals.u += u*dV\n",
    "        vals.v += v*dV\n",
    "    end\n",
    "end\n",
    "\n",
    "vals = AvgValues()\n",
    "work!(Integrator(vals), domain; a=a);\n",
    "\n",
    "@printf(\"Volume V=∫dV = %0.5f\\n\", vals.volume)\n",
    "@printf(\"(1/V)∫u⋅u dV = %0.5f \\n\", vals.u/vals.volume)\n",
    "@printf(\"(1/V)∫ v dV  = (%0.5f, %0.5f) \\n\", (vals.v/vals.volume)...)"
   ],
   "metadata": {},
   "execution_count": 6
  },
  {
   "cell_type": "markdown",
   "source": [
    "We could have achieved the same results by using\n",
    "the `SimpleIntegrator` in this case, with"
   ],
   "metadata": {}
  },
  {
   "outputs": [
    {
     "name": "stdout",
     "output_type": "stream",
     "text": [
      "Volume V=∫dV = 4.00000\n",
      "(1/V)∫u⋅u dV = 0.67000 \n",
      "(1/V)∫ v dV  = (0.67000, -0.00000) \n"
     ]
    }
   ],
   "cell_type": "code",
   "source": [
    "sint = SimpleIntegrator((a, ∇a, state) -> (1.0, a.u, a.v), (0.0, 0.0, Vec((0.0,0.0))))\n",
    "work!(sint, domain; a=a)\n",
    "@printf(\"Volume V=∫dV = %0.5f\\n\", sint.val[1])\n",
    "@printf(\"(1/V)∫u⋅u dV = %0.5f \\n\", sint.val[2]/sint.val[1])\n",
    "@printf(\"(1/V)∫ v dV  = (%0.5f, %0.5f) \\n\", (sint.val[3]/sint.val[1])...)"
   ],
   "metadata": {},
   "execution_count": 7
  },
  {
   "cell_type": "markdown",
   "source": [
    "Where we did not have to overload the function."
   ],
   "metadata": {}
  },
  {
   "cell_type": "markdown",
   "source": [
    "---\n",
    "\n",
    "*This notebook was generated using [Literate.jl](https://github.com/fredrikekre/Literate.jl).*"
   ],
   "metadata": {}
  }
 ],
 "nbformat_minor": 3,
 "metadata": {
  "language_info": {
   "file_extension": ".jl",
   "mimetype": "application/julia",
   "name": "julia",
   "version": "1.9.2"
  },
  "kernelspec": {
   "name": "julia-1.9",
   "display_name": "Julia 1.9.2",
   "language": "julia"
  }
 },
 "nbformat": 4
}
