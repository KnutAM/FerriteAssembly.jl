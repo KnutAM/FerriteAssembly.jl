{
 "cells": [
  {
   "cell_type": "markdown",
   "source": [
    "# Plasticity\n",
    "This tutorial shows how to solve a plasticity problem by using the interface to\n",
    "[`MaterialModelsBase.jl`](https://github.com/KnutAM/MaterialModelsBase.jl)\n",
    "included in `FerriteAssembly.jl`. Specifically, FerriteAssembly comes with the\n",
    "`element_routine!` defined for any `MaterialModelsBase.AbstractMaterial`.\n",
    "\n",
    "We adopt the material model as well as the simulation case from `Ferrite.jl`'s\n",
    "[plasticity example](https://ferrite-fem.github.io/Ferrite.jl/stable/examples/plasticity/)"
   ],
   "metadata": {}
  },
  {
   "outputs": [],
   "cell_type": "code",
   "source": [
    "using Printf, LinearAlgebra\n",
    "using Tensors, MaterialModelsBase, Ferrite, FerriteAssembly"
   ],
   "metadata": {},
   "execution_count": 1
  },
  {
   "cell_type": "markdown",
   "source": [
    "## Material modeling\n",
    "We start by defining the J2PlasticityNew material model parameter struct, and an instance\n",
    "thereof"
   ],
   "metadata": {}
  },
  {
   "outputs": [],
   "cell_type": "code",
   "source": [
    "struct J2PlasticityNew{T} <: AbstractMaterial\n",
    "    G::T  # Shear modulus\n",
    "    K::T  # Bulk modulus\n",
    "    σ0::T # Initial yield limit\n",
    "    H::T  # Hardening modulus\n",
    "    D::SymmetricTensor{4, 3, T, 36} # Elastic stiffness tensor\n",
    "end\n",
    "function J2PlasticityNew(E, ν, σ₀, H)\n",
    "    G = E / 2(1 + ν)\n",
    "    K = E / 3(1 - 2ν)\n",
    "    I2 = one(SymmetricTensor{2,3})\n",
    "    I4 = one(SymmetricTensor{4,3})\n",
    "    IxI = I2 ⊗ I2\n",
    "    D = 2G*(I4 - IxI/3) + K*IxI\n",
    "    return J2PlasticityNew(G, K, σ₀, H, D)\n",
    "end\n",
    "material = J2PlasticityNew(200.0e9, 0.3, 200.0e6, 10.0e9);"
   ],
   "metadata": {},
   "execution_count": 2
  },
  {
   "cell_type": "markdown",
   "source": [
    "Followed by the state variable struct along with its initial condition."
   ],
   "metadata": {}
  },
  {
   "outputs": [],
   "cell_type": "code",
   "source": [
    "struct J2PlasticityState{T} <: AbstractMaterialState\n",
    "    ϵp::SymmetricTensor{2,3,T,6} # plastic strain\n",
    "    κ::T                         # hardening stress\n",
    "end;\n",
    "function MaterialModelsBase.initial_material_state(::J2PlasticityNew)\n",
    "    return J2PlasticityState(zero(SymmetricTensor{2,3}), 0.0)\n",
    "end;"
   ],
   "metadata": {},
   "execution_count": 3
  },
  {
   "cell_type": "markdown",
   "source": [
    "And finally the actual `material_response` function, with a few helper functions"
   ],
   "metadata": {}
  },
  {
   "outputs": [],
   "cell_type": "code",
   "source": [
    "function vonmises(σ)\n",
    "    σdev = dev(σ)\n",
    "    return sqrt((3/2)*(σdev⊡σdev))\n",
    "end\n",
    "function calculate_plastic_stress(ϵ, m, state) # When plastic\n",
    "    σ_trial = m.D ⊡ (ϵ - state.ϵp)\n",
    "    σeff_trial = vonmises(σ_trial)\n",
    "    σdev_trial = dev(σ_trial)\n",
    "    Φ_trial = σeff_trial - (m.σ0 + state.κ)\n",
    "    μ = Φ_trial / (m.H + 3m.G)       # plastic multiplier\n",
    "    σdev = (1 - 3m.G * μ / σeff_trial) * σdev_trial\n",
    "    return σdev + vol(σ_trial)   # updated stress\n",
    "end\n",
    "function MaterialModelsBase.material_response(\n",
    "    material::J2PlasticityNew, ϵ::SymmetricTensor{2,3}, state::J2PlasticityState,\n",
    "    Δt, cache=get_cache(material), args...; kwargs...)\n",
    "\n",
    "    σ_trial = material.D ⊡ (ϵ - state.ϵp) # trial-stress\n",
    "    Φ_trial = vonmises(σ_trial) - (material.σ0 + state.κ)\n",
    "    if Φ_trial < 0.0 # elastic loading\n",
    "        return σ_trial, material.D, J2PlasticityState(state.ϵp, state.κ)\n",
    "    else # plastic loading\n",
    "        dσdϵ, σ = gradient(ϵ_ -> calculate_plastic_stress(ϵ_, material, state), ϵ, :all)\n",
    "\n",
    "        μ =  Φ_trial / (material.H + 3*material.G)   # plastic multiplier\n",
    "        κ = state.κ + μ*material.H\n",
    "        σeff = material.σ0 + κ\n",
    "\n",
    "        return σ, dσdϵ, J2PlasticityState(state.ϵp + (μ*3/(2*σeff))*dev(σ), κ)\n",
    "    end\n",
    "end;"
   ],
   "metadata": {},
   "execution_count": 4
  },
  {
   "cell_type": "markdown",
   "source": [
    "## Standard `Ferrite.jl` setup\n",
    "With all required functions defined, we can now setup and assemble the finite element problem\n",
    "using only Ferrite functionality"
   ],
   "metadata": {}
  },
  {
   "outputs": [
    {
     "output_type": "execute_result",
     "data": {
      "text/plain": "CellVectorValues{3, Float64, RefTetrahedron, 9} with 12 shape functions and 4 quadrature points"
     },
     "metadata": {},
     "execution_count": 5
    }
   ],
   "cell_type": "code",
   "source": [
    "grid = generate_grid(Tetrahedron, (20,2,4), zero(Vec{3}), Vec((10.0,1.0,1.0)))\n",
    "\n",
    "ip = Lagrange{3, RefTetrahedron, 1}()\n",
    "dh = DofHandler(grid); add!(dh, :u, 3, ip); close!(dh)\n",
    "\n",
    "ch = ConstraintHandler(dh)\n",
    "add!(ch, Dirichlet(:u, getfaceset(grid, \"left\"), Returns(zero(Vec{3}))))\n",
    "close!(ch)\n",
    "\n",
    "cellvalues = CellVectorValues(QuadratureRule{3,RefTetrahedron}(2), ip)"
   ],
   "metadata": {},
   "execution_count": 5
  },
  {
   "cell_type": "markdown",
   "source": [
    "## Setting up the assembly\n",
    "Using the `setup_domainbuffer` function,"
   ],
   "metadata": {}
  },
  {
   "outputs": [],
   "cell_type": "code",
   "source": [
    "buffer = setup_domainbuffer(DomainSpec(dh, material, cellvalues));"
   ],
   "metadata": {},
   "execution_count": 6
  },
  {
   "cell_type": "markdown",
   "source": [
    "we setup the `buffer`, old state variables, and new state variables.\n",
    "The state variables are created via the `create_cell_state`\n",
    "function that is already defined for `MaterialModelsBase.AbstractMaterial`, since we overloaded\n",
    "`MaterialModelsBase.initial_material_state` above.\n",
    "\n",
    "So far, we haven't included any loading, and following the original example, we would add loading\n",
    "as a Neumann boundary condition on the right side. For this, we'll use FerriteAssembly's convenience\n",
    "LoadHandler"
   ],
   "metadata": {}
  },
  {
   "outputs": [
    {
     "output_type": "execute_result",
     "data": {
      "text/plain": "FerriteAssembly.DomainBuffer{FaceIndex, FerriteAssembly.FaceBuffer{Float64, Vector{Vec{3, Float64}}, FaceVectorValues{3, Float64, RefTetrahedron, 9}, NamedTuple{(:u,), Tuple{UnitRange{Int64}}}, FerriteAssembly.NeumannMaterial{Main.var\"##295\".var\"#4#5\"}, Nothing, Nothing}, Nothing, FerriteAssembly.SubDofHandler{DofHandler{3, Float64, Grid{3, Tetrahedron, Float64}}, Nothing}}(FaceIndex[FaceIndex((118, 1)), FaceIndex((120, 1)), FaceIndex((238, 1)), FaceIndex((240, 1)), FaceIndex((358, 1)), FaceIndex((360, 1)), FaceIndex((478, 1)), FaceIndex((480, 1)), FaceIndex((598, 1)), FaceIndex((600, 1)), FaceIndex((718, 1)), FaceIndex((720, 1)), FaceIndex((838, 1)), FaceIndex((840, 1)), FaceIndex((958, 1)), FaceIndex((960, 1))], FerriteAssembly.FaceBuffer{Float64, Vector{Vec{3, Float64}}, FaceVectorValues{3, Float64, RefTetrahedron, 9}, NamedTuple{(:u,), Tuple{UnitRange{Int64}}}, FerriteAssembly.NeumannMaterial{Main.var\"##295\".var\"#4#5\"}, Nothing, Nothing}([0.0, 0.0, 0.0, 0.0, 0.0, 0.0, 0.0, 0.0, 0.0, 0.0, 0.0, 0.0], [0.0, 0.0, 0.0, 0.0, 0.0, 0.0, 0.0, 0.0, 0.0, 0.0, 0.0, 0.0], [0.0, 0.0, 0.0, 0.0, 0.0, 0.0, 0.0, 0.0, 0.0, 0.0, 0.0, 0.0], [0.0 0.0 … 0.0 0.0; 0.0 0.0 … 0.0 0.0; … ; 0.0 0.0 … 0.0 0.0; 0.0 0.0 … 0.0 0.0], [0, 0, 0, 0, 0, 0, 0, 0, 0, 0, 0, 0], Vec{3, Float64}[[0.0, 0.0, 0.0], [0.5, 0.0, 0.0], [0.0, 0.5, 0.0], [0.0, 0.5, 0.25]], FaceVectorValues{3, Float64, RefTetrahedron, 9}([[0.3333333333333401, 0.0, 0.0] [0.6000000000000001, 0.0, 0.0] [0.20000000000000007, 0.0, 0.0] [0.2, 0.0, 0.0]; [0.0, 0.3333333333333401, 0.0] [0.0, 0.6000000000000001, 0.0] [0.0, 0.20000000000000007, 0.0] [0.0, 0.2, 0.0]; … ; [0.0, 0.0, 0.0] [0.0, 0.0, 0.0] [0.0, 0.0, 0.0] [0.0, 0.0, 0.0]; [0.0, 0.0, 0.0] [0.0, 0.0, 0.0] [0.0, 0.0, 0.0] [0.0, 0.0, 0.0];;; [0.3333333333333401, 0.0, 0.0] [0.6000000000000001, 0.0, 0.0] [0.20000000000000007, 0.0, 0.0] [0.2, 0.0, 0.0]; [0.0, 0.3333333333333401, 0.0] [0.0, 0.6000000000000001, 0.0] [0.0, 0.20000000000000007, 0.0] [0.0, 0.2, 0.0]; … ; [0.0, 0.33333333333333, 0.0] [0.0, 0.2, 0.0] [0.0, 0.6, 0.0] [0.0, 0.2, 0.0]; [0.0, 0.0, 0.33333333333333] [0.0, 0.0, 0.2] [0.0, 0.0, 0.6] [0.0, 0.0, 0.2];;; [0.0, 0.0, 0.0] [0.0, 0.0, 0.0] [0.0, 0.0, 0.0] [0.0, 0.0, 0.0]; [0.0, 0.0, 0.0] [0.0, 0.0, 0.0] [0.0, 0.0, 0.0] [0.0, 0.0, 0.0]; … ; [0.0, 0.3333333333333401, 0.0] [0.0, 0.6000000000000001, 0.0] [0.0, 0.20000000000000007, 0.0] [0.0, 0.2, 0.0]; [0.0, 0.0, 0.3333333333333401] [0.0, 0.0, 0.6000000000000001] [0.0, 0.0, 0.20000000000000007] [0.0, 0.0, 0.2];;; [0.3333333333333401, 0.0, 0.0] [0.6000000000000001, 0.0, 0.0] [0.20000000000000007, 0.0, 0.0] [0.2, 0.0, 0.0]; [0.0, 0.3333333333333401, 0.0] [0.0, 0.6000000000000001, 0.0] [0.0, 0.20000000000000007, 0.0] [0.0, 0.2, 0.0]; … ; [0.0, 0.33333333333333, 0.0] [0.0, 0.2, 0.0] [0.0, 0.6, 0.0] [0.0, 0.2, 0.0]; [0.0, 0.0, 0.33333333333333] [0.0, 0.0, 0.2] [0.0, 0.0, 0.6] [0.0, 0.0, 0.2]], [[NaN NaN NaN; NaN NaN NaN; NaN NaN NaN] [NaN NaN NaN; NaN NaN NaN; NaN NaN NaN] [NaN NaN NaN; NaN NaN NaN; NaN NaN NaN] [NaN NaN NaN; NaN NaN NaN; NaN NaN NaN]; [NaN NaN NaN; NaN NaN NaN; NaN NaN NaN] [NaN NaN NaN; NaN NaN NaN; NaN NaN NaN] [NaN NaN NaN; NaN NaN NaN; NaN NaN NaN] [NaN NaN NaN; NaN NaN NaN; NaN NaN NaN]; … ; [NaN NaN NaN; NaN NaN NaN; NaN NaN NaN] [NaN NaN NaN; NaN NaN NaN; NaN NaN NaN] [NaN NaN NaN; NaN NaN NaN; NaN NaN NaN] [NaN NaN NaN; NaN NaN NaN; NaN NaN NaN]; [NaN NaN NaN; NaN NaN NaN; NaN NaN NaN] [NaN NaN NaN; NaN NaN NaN; NaN NaN NaN] [NaN NaN NaN; NaN NaN NaN; NaN NaN NaN] [NaN NaN NaN; NaN NaN NaN; NaN NaN NaN];;; [NaN NaN NaN; NaN NaN NaN; NaN NaN NaN] [NaN NaN NaN; NaN NaN NaN; NaN NaN NaN] [NaN NaN NaN; NaN NaN NaN; NaN NaN NaN] [NaN NaN NaN; NaN NaN NaN; NaN NaN NaN]; [NaN NaN NaN; NaN NaN NaN; NaN NaN NaN] [NaN NaN NaN; NaN NaN NaN; NaN NaN NaN] [NaN NaN NaN; NaN NaN NaN; NaN NaN NaN] [NaN NaN NaN; NaN NaN NaN; NaN NaN NaN]; … ; [NaN NaN NaN; NaN NaN NaN; NaN NaN NaN] [NaN NaN NaN; NaN NaN NaN; NaN NaN NaN] [NaN NaN NaN; NaN NaN NaN; NaN NaN NaN] [NaN NaN NaN; NaN NaN NaN; NaN NaN NaN]; [NaN NaN NaN; NaN NaN NaN; NaN NaN NaN] [NaN NaN NaN; NaN NaN NaN; NaN NaN NaN] [NaN NaN NaN; NaN NaN NaN; NaN NaN NaN] [NaN NaN NaN; NaN NaN NaN; NaN NaN NaN];;; [NaN NaN NaN; NaN NaN NaN; NaN NaN NaN] [NaN NaN NaN; NaN NaN NaN; NaN NaN NaN] [NaN NaN NaN; NaN NaN NaN; NaN NaN NaN] [NaN NaN NaN; NaN NaN NaN; NaN NaN NaN]; [NaN NaN NaN; NaN NaN NaN; NaN NaN NaN] [NaN NaN NaN; NaN NaN NaN; NaN NaN NaN] [NaN NaN NaN; NaN NaN NaN; NaN NaN NaN] [NaN NaN NaN; NaN NaN NaN; NaN NaN NaN]; … ; [NaN NaN NaN; NaN NaN NaN; NaN NaN NaN] [NaN NaN NaN; NaN NaN NaN; NaN NaN NaN] [NaN NaN NaN; NaN NaN NaN; NaN NaN NaN] [NaN NaN NaN; NaN NaN NaN; NaN NaN NaN]; [NaN NaN NaN; NaN NaN NaN; NaN NaN NaN] [NaN NaN NaN; NaN NaN NaN; NaN NaN NaN] [NaN NaN NaN; NaN NaN NaN; NaN NaN NaN] [NaN NaN NaN; NaN NaN NaN; NaN NaN NaN];;; [NaN NaN NaN; NaN NaN NaN; NaN NaN NaN] [NaN NaN NaN; NaN NaN NaN; NaN NaN NaN] [NaN NaN NaN; NaN NaN NaN; NaN NaN NaN] [NaN NaN NaN; NaN NaN NaN; NaN NaN NaN]; [NaN NaN NaN; NaN NaN NaN; NaN NaN NaN] [NaN NaN NaN; NaN NaN NaN; NaN NaN NaN] [NaN NaN NaN; NaN NaN NaN; NaN NaN NaN] [NaN NaN NaN; NaN NaN NaN; NaN NaN NaN]; … ; [NaN NaN NaN; NaN NaN NaN; NaN NaN NaN] [NaN NaN NaN; NaN NaN NaN; NaN NaN NaN] [NaN NaN NaN; NaN NaN NaN; NaN NaN NaN] [NaN NaN NaN; NaN NaN NaN; NaN NaN NaN]; [NaN NaN NaN; NaN NaN NaN; NaN NaN NaN] [NaN NaN NaN; NaN NaN NaN; NaN NaN NaN] [NaN NaN NaN; NaN NaN NaN; NaN NaN NaN] [NaN NaN NaN; NaN NaN NaN; NaN NaN NaN]], [[-1.0 -1.0 -1.0; 0.0 0.0 0.0; 0.0 0.0 0.0] [-1.0 -1.0 -1.0; 0.0 0.0 0.0; 0.0 0.0 0.0] [-1.0 -1.0 -1.0; 0.0 0.0 0.0; 0.0 0.0 0.0] [-1.0 -1.0 -1.0; 0.0 0.0 0.0; 0.0 0.0 0.0]; [0.0 0.0 0.0; -1.0 -1.0 -1.0; 0.0 0.0 0.0] [0.0 0.0 0.0; -1.0 -1.0 -1.0; 0.0 0.0 0.0] [0.0 0.0 0.0; -1.0 -1.0 -1.0; 0.0 0.0 0.0] [0.0 0.0 0.0; -1.0 -1.0 -1.0; 0.0 0.0 0.0]; … ; [0.0 0.0 0.0; 0.0 0.0 1.0; 0.0 0.0 0.0] [0.0 0.0 0.0; 0.0 0.0 1.0; 0.0 0.0 0.0] [0.0 0.0 0.0; 0.0 0.0 1.0; 0.0 0.0 0.0] [0.0 0.0 0.0; 0.0 0.0 1.0; 0.0 0.0 0.0]; [0.0 0.0 0.0; 0.0 0.0 0.0; 0.0 0.0 1.0] [0.0 0.0 0.0; 0.0 0.0 0.0; 0.0 0.0 1.0] [0.0 0.0 0.0; 0.0 0.0 0.0; 0.0 0.0 1.0] [0.0 0.0 0.0; 0.0 0.0 0.0; 0.0 0.0 1.0];;; [-1.0 -1.0 -1.0; 0.0 0.0 0.0; 0.0 0.0 0.0] [-1.0 -1.0 -1.0; 0.0 0.0 0.0; 0.0 0.0 0.0] [-1.0 -1.0 -1.0; 0.0 0.0 0.0; 0.0 0.0 0.0] [-1.0 -1.0 -1.0; 0.0 0.0 0.0; 0.0 0.0 0.0]; [0.0 0.0 0.0; -1.0 -1.0 -1.0; 0.0 0.0 0.0] [0.0 0.0 0.0; -1.0 -1.0 -1.0; 0.0 0.0 0.0] [0.0 0.0 0.0; -1.0 -1.0 -1.0; 0.0 0.0 0.0] [0.0 0.0 0.0; -1.0 -1.0 -1.0; 0.0 0.0 0.0]; … ; [0.0 0.0 0.0; 0.0 0.0 1.0; 0.0 0.0 0.0] [0.0 0.0 0.0; 0.0 0.0 1.0; 0.0 0.0 0.0] [0.0 0.0 0.0; 0.0 0.0 1.0; 0.0 0.0 0.0] [0.0 0.0 0.0; 0.0 0.0 1.0; 0.0 0.0 0.0]; [0.0 0.0 0.0; 0.0 0.0 0.0; 0.0 0.0 1.0] [0.0 0.0 0.0; 0.0 0.0 0.0; 0.0 0.0 1.0] [0.0 0.0 0.0; 0.0 0.0 0.0; 0.0 0.0 1.0] [0.0 0.0 0.0; 0.0 0.0 0.0; 0.0 0.0 1.0];;; [-1.0 -1.0 -1.0; 0.0 0.0 0.0; 0.0 0.0 0.0] [-1.0 -1.0 -1.0; 0.0 0.0 0.0; 0.0 0.0 0.0] [-1.0 -1.0 -1.0; 0.0 0.0 0.0; 0.0 0.0 0.0] [-1.0 -1.0 -1.0; 0.0 0.0 0.0; 0.0 0.0 0.0]; [0.0 0.0 0.0; -1.0 -1.0 -1.0; 0.0 0.0 0.0] [0.0 0.0 0.0; -1.0 -1.0 -1.0; 0.0 0.0 0.0] [0.0 0.0 0.0; -1.0 -1.0 -1.0; 0.0 0.0 0.0] [0.0 0.0 0.0; -1.0 -1.0 -1.0; 0.0 0.0 0.0]; … ; [0.0 0.0 0.0; 0.0 0.0 1.0; 0.0 0.0 0.0] [0.0 0.0 0.0; 0.0 0.0 1.0; 0.0 0.0 0.0] [0.0 0.0 0.0; 0.0 0.0 1.0; 0.0 0.0 0.0] [0.0 0.0 0.0; 0.0 0.0 1.0; 0.0 0.0 0.0]; [0.0 0.0 0.0; 0.0 0.0 0.0; 0.0 0.0 1.0] [0.0 0.0 0.0; 0.0 0.0 0.0; 0.0 0.0 1.0] [0.0 0.0 0.0; 0.0 0.0 0.0; 0.0 0.0 1.0] [0.0 0.0 0.0; 0.0 0.0 0.0; 0.0 0.0 1.0];;; [-1.0 -1.0 -1.0; 0.0 0.0 0.0; 0.0 0.0 0.0] [-1.0 -1.0 -1.0; 0.0 0.0 0.0; 0.0 0.0 0.0] [-1.0 -1.0 -1.0; 0.0 0.0 0.0; 0.0 0.0 0.0] [-1.0 -1.0 -1.0; 0.0 0.0 0.0; 0.0 0.0 0.0]; [0.0 0.0 0.0; -1.0 -1.0 -1.0; 0.0 0.0 0.0] [0.0 0.0 0.0; -1.0 -1.0 -1.0; 0.0 0.0 0.0] [0.0 0.0 0.0; -1.0 -1.0 -1.0; 0.0 0.0 0.0] [0.0 0.0 0.0; -1.0 -1.0 -1.0; 0.0 0.0 0.0]; … ; [0.0 0.0 0.0; 0.0 0.0 1.0; 0.0 0.0 0.0] [0.0 0.0 0.0; 0.0 0.0 1.0; 0.0 0.0 0.0] [0.0 0.0 0.0; 0.0 0.0 1.0; 0.0 0.0 0.0] [0.0 0.0 0.0; 0.0 0.0 1.0; 0.0 0.0 0.0]; [0.0 0.0 0.0; 0.0 0.0 0.0; 0.0 0.0 1.0] [0.0 0.0 0.0; 0.0 0.0 0.0; 0.0 0.0 1.0] [0.0 0.0 0.0; 0.0 0.0 0.0; 0.0 0.0 1.0] [0.0 0.0 0.0; 0.0 0.0 0.0; 0.0 0.0 1.0]], [NaN NaN NaN NaN; NaN NaN NaN NaN; NaN NaN NaN NaN; NaN NaN NaN NaN], Vec{3, Float64}[[0.0, 0.0, 0.0], [0.0, 0.0, 0.0], [0.0, 0.0, 0.0], [0.0, 0.0, 0.0]], [0.3333333333333401 0.6000000000000001 0.20000000000000007 0.2; 0.33333333333333 0.2 0.2 0.6; 0.33333333333333 0.2 0.6 0.2; 0.0 0.0 0.0 0.0;;; 0.3333333333333401 0.6000000000000001 0.20000000000000007 0.2; 0.33333333333333 0.2 0.2 0.6; 0.0 0.0 0.0 0.0; 0.33333333333333 0.2 0.6 0.2;;; 0.0 0.0 0.0 0.0; 0.33333333333333 0.2 0.2 0.6; 0.33333333333333 0.2 0.6 0.2; 0.3333333333333401 0.6000000000000001 0.20000000000000007 0.2;;; 0.3333333333333401 0.6000000000000001 0.20000000000000007 0.2; 0.0 0.0 0.0 0.0; 0.33333333333333 0.2 0.2 0.6; 0.33333333333333 0.2 0.6 0.2], [[-1.0, -1.0, -1.0] [-1.0, -1.0, -1.0] [-1.0, -1.0, -1.0] [-1.0, -1.0, -1.0]; [1.0, 0.0, 0.0] [1.0, 0.0, 0.0] [1.0, 0.0, 0.0] [1.0, 0.0, 0.0]; [0.0, 1.0, 0.0] [0.0, 1.0, 0.0] [0.0, 1.0, 0.0] [0.0, 1.0, 0.0]; [0.0, 0.0, 1.0] [0.0, 0.0, 1.0] [0.0, 0.0, 1.0] [0.0, 0.0, 1.0];;; [-1.0, -1.0, -1.0] [-1.0, -1.0, -1.0] [-1.0, -1.0, -1.0] [-1.0, -1.0, -1.0]; [1.0, 0.0, 0.0] [1.0, 0.0, 0.0] [1.0, 0.0, 0.0] [1.0, 0.0, 0.0]; [0.0, 1.0, 0.0] [0.0, 1.0, 0.0] [0.0, 1.0, 0.0] [0.0, 1.0, 0.0]; [0.0, 0.0, 1.0] [0.0, 0.0, 1.0] [0.0, 0.0, 1.0] [0.0, 0.0, 1.0];;; [-1.0, -1.0, -1.0] [-1.0, -1.0, -1.0] [-1.0, -1.0, -1.0] [-1.0, -1.0, -1.0]; [1.0, 0.0, 0.0] [1.0, 0.0, 0.0] [1.0, 0.0, 0.0] [1.0, 0.0, 0.0]; [0.0, 1.0, 0.0] [0.0, 1.0, 0.0] [0.0, 1.0, 0.0] [0.0, 1.0, 0.0]; [0.0, 0.0, 1.0] [0.0, 0.0, 1.0] [0.0, 0.0, 1.0] [0.0, 0.0, 1.0];;; [-1.0, -1.0, -1.0] [-1.0, -1.0, -1.0] [-1.0, -1.0, -1.0] [-1.0, -1.0, -1.0]; [1.0, 0.0, 0.0] [1.0, 0.0, 0.0] [1.0, 0.0, 0.0] [1.0, 0.0, 0.0]; [0.0, 1.0, 0.0] [0.0, 1.0, 0.0] [0.0, 1.0, 0.0] [0.0, 1.0, 0.0]; [0.0, 0.0, 1.0] [0.0, 0.0, 1.0] [0.0, 0.0, 1.0] [0.0, 0.0, 1.0]], QuadratureRule{2, RefTetrahedron, Float64}([-0.28125, 0.260416666666665, 0.260416666666665, 0.260416666666665], Vec{2, Float64}[[0.33333333333333, 0.33333333333333], [0.2, 0.2], [0.2, 0.6], [0.6, 0.2]]), Ferrite.ScalarWrapper{Int64}(0), Lagrange{3, RefTetrahedron, 1}(), Lagrange{3, RefTetrahedron, 1}()), NaN, -1, (u = 1:12,), FerriteAssembly.NeumannMaterial{Main.var\"##295\".var\"#4#5\"}(Main.var\"##295\".var\"#4#5\"(), 1:12), nothing, nothing), Dict{Int64, Nothing}(), Dict{Int64, Nothing}(), FerriteAssembly.SubDofHandler{DofHandler{3, Float64, Grid{3, Tetrahedron, Float64}}, Nothing}(DofHandler{3, Float64, Grid{3, Tetrahedron, Float64}}([:u], [3], Interpolation[Lagrange{3, RefTetrahedron, 1}()], Ferrite.BCValues{Float64}[Ferrite.BCValues{Float64}([1.0 0.0 0.0; 0.0 0.0 1.0; 0.0 1.0 0.0; 0.0 0.0 0.0;;; 1.0 0.0 0.0; 0.0 1.0 0.0; 0.0 0.0 0.0; 0.0 0.0 1.0;;; 0.0 0.0 0.0; 1.0 0.0 0.0; 0.0 1.0 0.0; 0.0 0.0 1.0;;; 1.0 0.0 0.0; 0.0 0.0 0.0; 0.0 0.0 1.0; 0.0 1.0 0.0], Ferrite.ScalarWrapper{Int64}(0))], [1, 2, 3, 4, 5, 6, 7, 8, 9, 10  …  690, 877, 878, 879, 943, 944, 945, 940, 941, 942], [1, 13, 25, 37, 49, 61, 73, 85, 97, 109  …  11413, 11425, 11437, 11449, 11461, 11473, 11485, 11497, 11509, 11521], Ferrite.ScalarWrapper{Bool}(true), Grid{3, Tetrahedron, Float64}(Tetrahedron[Tetrahedron((1, 2, 22, 85)), Tetrahedron((1, 64, 2, 85)), Tetrahedron((2, 23, 22, 85)), Tetrahedron((2, 86, 23, 85)), Tetrahedron((2, 64, 65, 85)), Tetrahedron((2, 65, 86, 85)), Tetrahedron((2, 3, 23, 86)), Tetrahedron((2, 65, 3, 86)), Tetrahedron((3, 24, 23, 86)), Tetrahedron((3, 87, 24, 86))  …  Tetrahedron((230, 251, 250, 313)), Tetrahedron((230, 314, 251, 313)), Tetrahedron((230, 292, 293, 313)), Tetrahedron((230, 293, 314, 313)), Tetrahedron((230, 231, 251, 314)), Tetrahedron((230, 293, 231, 314)), Tetrahedron((231, 252, 251, 314)), Tetrahedron((231, 315, 252, 314)), Tetrahedron((231, 293, 294, 314)), Tetrahedron((231, 294, 315, 314))], Node{3, Float64}[Node{3, Float64}([0.0, 0.0, 0.0]), Node{3, Float64}([0.5, 0.0, 0.0]), Node{3, Float64}([1.0, 0.0, 0.0]), Node{3, Float64}([1.5, 0.0, 0.0]), Node{3, Float64}([2.0, 0.0, 0.0]), Node{3, Float64}([2.5, 0.0, 0.0]), Node{3, Float64}([3.0, 0.0, 0.0]), Node{3, Float64}([3.5, 0.0, 0.0]), Node{3, Float64}([4.0, 0.0, 0.0]), Node{3, Float64}([4.5, 0.0, 0.0])  …  Node{3, Float64}([5.5, 1.0, 1.0]), Node{3, Float64}([6.0, 1.0, 1.0]), Node{3, Float64}([6.5, 1.0, 1.0]), Node{3, Float64}([7.0, 1.0, 1.0]), Node{3, Float64}([7.5, 1.0, 1.0]), Node{3, Float64}([8.0, 1.0, 1.0]), Node{3, Float64}([8.5, 1.0, 1.0]), Node{3, Float64}([9.0, 1.0, 1.0]), Node{3, Float64}([9.5, 1.0, 1.0]), Node{3, Float64}([10.0, 1.0, 1.0])], Dict{String, Set{Int64}}(), Dict{String, Set{Int64}}(), Dict{String, Set{FaceIndex}}(\"left\" => Set([FaceIndex((601, 4)), FaceIndex((122, 2)), FaceIndex((2, 2)), FaceIndex((842, 2)), FaceIndex((1, 4)), FaceIndex((481, 4)), FaceIndex((362, 2)), FaceIndex((121, 4)), FaceIndex((242, 2)), FaceIndex((482, 2)), FaceIndex((241, 4)), FaceIndex((722, 2)), FaceIndex((602, 2)), FaceIndex((361, 4)), FaceIndex((841, 4)), FaceIndex((721, 4))]), \"bottom\" => Set([FaceIndex((85, 1)), FaceIndex((93, 1)), FaceIndex((127, 1)), FaceIndex((115, 1)), FaceIndex((175, 1)), FaceIndex((235, 1)), FaceIndex((21, 1)), FaceIndex((1, 1)), FaceIndex((57, 1)), FaceIndex((63, 1))  …  FaceIndex((159, 1)), FaceIndex((97, 1)), FaceIndex((205, 1)), FaceIndex((193, 1)), FaceIndex((153, 1)), FaceIndex((231, 1)), FaceIndex((9, 1)), FaceIndex((81, 1)), FaceIndex((171, 1)), FaceIndex((169, 1))]), \"right\" => Set([FaceIndex((238, 1)), FaceIndex((478, 1)), FaceIndex((718, 1)), FaceIndex((120, 1)), FaceIndex((958, 1)), FaceIndex((840, 1)), FaceIndex((358, 1)), FaceIndex((838, 1)), FaceIndex((720, 1)), FaceIndex((118, 1)), FaceIndex((960, 1)), FaceIndex((480, 1)), FaceIndex((240, 1)), FaceIndex((600, 1)), FaceIndex((598, 1)), FaceIndex((360, 1))]), \"back\" => Set([FaceIndex((933, 3)), FaceIndex((910, 3)), FaceIndex((454, 3)), FaceIndex((459, 3)), FaceIndex((195, 3)), FaceIndex((921, 3)), FaceIndex((375, 3)), FaceIndex((429, 3)), FaceIndex((190, 3)), FaceIndex((153, 3))  …  FaceIndex((226, 3)), FaceIndex((922, 3)), FaceIndex((142, 3)), FaceIndex((621, 3)), FaceIndex((958, 3)), FaceIndex((387, 3)), FaceIndex((711, 3)), FaceIndex((849, 3)), FaceIndex((886, 3)), FaceIndex((405, 3))]), \"top\" => Set([FaceIndex((942, 3)), FaceIndex((947, 3)), FaceIndex((852, 3)), FaceIndex((804, 3)), FaceIndex((894, 3)), FaceIndex((941, 3)), FaceIndex((917, 3)), FaceIndex((791, 3)), FaceIndex((959, 3)), FaceIndex((744, 3))  …  FaceIndex((834, 3)), FaceIndex((822, 3)), FaceIndex((930, 3)), FaceIndex((948, 3)), FaceIndex((810, 3)), FaceIndex((875, 3)), FaceIndex((756, 3)), FaceIndex((792, 3)), FaceIndex((767, 3)), FaceIndex((893, 3))]), \"front\" => Set([FaceIndex((68, 1)), FaceIndex((803, 1)), FaceIndex((278, 1)), FaceIndex((530, 1)), FaceIndex((764, 1)), FaceIndex((767, 1)), FaceIndex((524, 1)), FaceIndex((548, 1)), FaceIndex((569, 1)), FaceIndex((482, 1))  …  FaceIndex((827, 1)), FaceIndex((80, 1)), FaceIndex((806, 1)), FaceIndex((731, 1)), FaceIndex((812, 1)), FaceIndex((62, 1)), FaceIndex((791, 1)), FaceIndex((338, 1)), FaceIndex((506, 1)), FaceIndex((119, 1))])), Dict{String, Set{EdgeIndex}}(), Dict{String, Set{VertexIndex}}(), sparse([1, 4, 1, 2, 1, 1, 1, 1, 1, 1  …  3, 3, 3, 3, 3, 1, 3, 3, 1, 3], [1, 1, 2, 2, 3, 5, 7, 8, 9, 11, 13, 14, 15, 17, 19, 20, 21, 23, 25, 26, 27, 29, 31, 32, 33, 35, 37, 38, 39, 41, 43, 44, 45, 47, 49, 50, 51, 53, 55, 56, 57, 59, 61, 62, 63, 65, 67, 68, 69, 71, 73, 74, 75, 77, 79, 80, 81, 83, 85, 86, 87, 89, 91, 92, 93, 95, 97, 98, 99, 101, 103, 104, 105, 107, 109, 110, 111, 113, 115, 116, 117, 118, 119, 120, 121, 121, 122, 123, 123, 124, 127, 129, 129, 130, 133, 135, 135, 136, 139, 141, 141, 142, 145, 147, 147, 148, 151, 153, 153, 154, 157, 159, 159, 160, 163, 165, 165, 166, 169, 171, 171, 172, 175, 177, 177, 178, 181, 183, 183, 184, 187, 189, 189, 190, 193, 195, 195, 196, 199, 201, 201, 202, 205, 207, 207, 208, 211, 213, 213, 214, 217, 219, 219, 220, 223, 225, 225, 226, 229, 231, 231, 232, 235, 237, 237, 238, 238, 240, 241, 242, 242, 245, 248, 251, 254, 257, 260, 263, 266, 269, 272, 275, 278, 281, 284, 287, 290, 293, 296, 299, 302, 305, 308, 311, 314, 317, 320, 323, 326, 329, 332, 335, 338, 341, 344, 347, 350, 353, 356, 358, 359, 360, 361, 362, 363, 364, 369, 370, 375, 376, 381, 382, 387, 388, 393, 394, 399, 400, 405, 406, 411, 412, 417, 418, 423, 424, 429, 430, 435, 436, 441, 442, 447, 448, 453, 454, 459, 460, 465, 466, 471, 472, 477, 478, 478, 480, 481, 482, 482, 485, 488, 491, 494, 497, 500, 503, 506, 509, 512, 515, 518, 521, 524, 527, 530, 533, 536, 539, 542, 545, 548, 551, 554, 557, 560, 563, 566, 569, 572, 575, 578, 581, 584, 587, 590, 593, 596, 598, 599, 600, 601, 602, 603, 604, 609, 610, 615, 616, 621, 622, 627, 628, 633, 634, 639, 640, 645, 646, 651, 652, 657, 658, 663, 664, 669, 670, 675, 676, 681, 682, 687, 688, 693, 694, 699, 700, 705, 706, 711, 712, 717, 718, 718, 720, 721, 722, 722, 725, 725, 726, 728, 731, 731, 732, 734, 737, 737, 738, 740, 743, 743, 744, 746, 749, 749, 750, 752, 755, 755, 756, 758, 761, 761, 762, 764, 767, 767, 768, 770, 773, 773, 774, 776, 779, 779, 780, 782, 785, 785, 786, 788, 791, 791, 792, 794, 797, 797, 798, 800, 803, 803, 804, 806, 809, 809, 810, 812, 815, 815, 816, 818, 821, 821, 822, 824, 827, 827, 828, 830, 833, 833, 834, 836, 838, 839, 839, 840, 840, 841, 842, 843, 844, 845, 846, 849, 850, 851, 852, 855, 856, 857, 858, 861, 862, 863, 864, 867, 868, 869, 870, 873, 874, 875, 876, 879, 880, 881, 882, 885, 886, 887, 888, 891, 892, 893, 894, 897, 898, 899, 900, 903, 904, 905, 906, 909, 910, 911, 912, 915, 916, 917, 918, 921, 922, 923, 924, 927, 928, 929, 930, 933, 934, 935, 936, 939, 940, 941, 942, 945, 946, 947, 948, 951, 952, 953, 954, 957, 958, 958, 959, 960, 960], Bool[1, 1, 1, 1, 1, 1, 1, 1, 1, 1  …  1, 1, 1, 1, 1, 1, 1, 1, 1, 1], 4, 960)), Ferrite.ScalarWrapper{Int64}(945)), nothing))"
     },
     "metadata": {},
     "execution_count": 7
    }
   ],
   "cell_type": "code",
   "source": [
    "f = zeros(ndofs(dh)) # Pre-allocate external force vector to only apply external load once per time step.\n",
    "traction_function(t) = 1e7*t\n",
    "lh = LoadHandler(dh)\n",
    "qr_order = 3\n",
    "add!(lh, Neumann(:u, qr_order, getfaceset(grid, \"right\"), (x,t,n)->Vec((0.0, 0.0, traction_function(t)))))"
   ],
   "metadata": {},
   "execution_count": 7
  },
  {
   "cell_type": "markdown",
   "source": [
    "## Solving the problem\n",
    "We first define how to step in time,\n",
    "and following the original example this would be"
   ],
   "metadata": {}
  },
  {
   "outputs": [
    {
     "output_type": "execute_result",
     "data": {
      "text/plain": "10-element Vector{Float64}:\n 0.5\n 0.5555555555555556\n 0.6111111111111112\n 0.6666666666666666\n 0.7222222222222222\n 0.7777777777777778\n 0.8333333333333334\n 0.8888888888888888\n 0.9444444444444444\n 1.0"
     },
     "metadata": {},
     "execution_count": 8
    }
   ],
   "cell_type": "code",
   "source": [
    "time_history = collect(range(0.5, 1.0, 10))"
   ],
   "metadata": {},
   "execution_count": 8
  },
  {
   "cell_type": "markdown",
   "source": [
    "We can now solve the problem using Newton iterations, for each time step."
   ],
   "metadata": {}
  },
  {
   "outputs": [
    {
     "name": "stdout",
     "output_type": "stream",
     "text": [
      "\n",
      " t = 0.5:\n",
      "Iteration: 0 \tresidual: 1435838.41167605\n",
      "Iteration: 1 \tresidual: 118655.22443672\n",
      "Iteration: 2 \tresidual: 59.50456032\n",
      "Iteration: 3 \tresidual: 0.00002529\n",
      "\n",
      " t = 0.5555555555555556:\n",
      "Iteration: 0 \tresidual: 159537.60129777\n",
      "Iteration: 1 \tresidual: 1706974.26603999\n",
      "Iteration: 2 \tresidual: 97346.48157215\n",
      "Iteration: 3 \tresidual: 37.17532012\n",
      "Iteration: 4 \tresidual: 0.00001454\n",
      "\n",
      " t = 0.6111111111111112:\n",
      "Iteration: 0 \tresidual: 159537.60129707\n",
      "Iteration: 1 \tresidual: 2905673.45863080\n",
      "Iteration: 2 \tresidual: 183562.65088316\n",
      "Iteration: 3 \tresidual: 183.32326400\n",
      "Iteration: 4 \tresidual: 0.00022098\n",
      "\n",
      " t = 0.6666666666666666:\n",
      "Iteration: 0 \tresidual: 159537.60129683\n",
      "Iteration: 1 \tresidual: 3474988.53867792\n",
      "Iteration: 2 \tresidual: 98005.89514047\n",
      "Iteration: 3 \tresidual: 50.51879569\n",
      "Iteration: 4 \tresidual: 0.00003452\n",
      "\n",
      " t = 0.7222222222222222:\n",
      "Iteration: 0 \tresidual: 159537.60129729\n",
      "Iteration: 1 \tresidual: 4477160.97567957\n",
      "Iteration: 2 \tresidual: 598087.57054569\n",
      "Iteration: 3 \tresidual: 1381.32893871\n",
      "Iteration: 4 \tresidual: 0.01219703\n",
      "\n",
      " t = 0.7777777777777778:\n",
      "Iteration: 0 \tresidual: 159537.60129762\n",
      "Iteration: 1 \tresidual: 5852994.48917087\n",
      "Iteration: 2 \tresidual: 1213132.22466026\n",
      "Iteration: 3 \tresidual: 6995.74524496\n",
      "Iteration: 4 \tresidual: 0.29626323\n",
      "\n",
      " t = 0.8333333333333334:\n",
      "Iteration: 0 \tresidual: 159537.60129804\n",
      "Iteration: 1 \tresidual: 7217538.10671953\n",
      "Iteration: 2 \tresidual: 1489146.41036677\n",
      "Iteration: 3 \tresidual: 12308.78637485\n",
      "Iteration: 4 \tresidual: 1.17564657\n",
      "Iteration: 5 \tresidual: 0.00002648\n",
      "\n",
      " t = 0.8888888888888888:\n",
      "Iteration: 0 \tresidual: 159537.60129813\n",
      "Iteration: 1 \tresidual: 8493785.47877881\n",
      "Iteration: 2 \tresidual: 1612381.68257678\n",
      "Iteration: 3 \tresidual: 10157.12650161\n",
      "Iteration: 4 \tresidual: 0.87690146\n",
      "\n",
      " t = 0.9444444444444444:\n",
      "Iteration: 0 \tresidual: 159537.60130053\n",
      "Iteration: 1 \tresidual: 9383580.42715097\n",
      "Iteration: 2 \tresidual: 1844790.69828814\n",
      "Iteration: 3 \tresidual: 14393.22841189\n",
      "Iteration: 4 \tresidual: 1.49411481\n",
      "Iteration: 5 \tresidual: 0.00003479\n",
      "\n",
      " t = 1.0:\n",
      "Iteration: 0 \tresidual: 159537.60129758\n",
      "Iteration: 1 \tresidual: 9366246.50523888\n",
      "Iteration: 2 \tresidual: 1609975.93626740\n",
      "Iteration: 3 \tresidual: 32927.61914306\n",
      "Iteration: 4 \tresidual: 3.90943119\n",
      "Iteration: 5 \tresidual: 0.00003671\n"
     ]
    },
    {
     "output_type": "execute_result",
     "data": {
      "text/plain": "([0.0, 0.0, 0.0, 0.0010757421758529353, 0.00044662882232892687, 0.0009462899807578673, 0.0, 0.0, 0.0, 0.0  …  0.20330178174393715, -0.015027851102484084, -0.02754664968910463, 0.22026817958010386, -0.015093028547484223, -0.02957530183861363, 0.23733419679661258, -0.015113931302118092, -0.031603088153305696, 0.2544526450592654], [0.0, 0.06817024083483487, 0.07622793246254046, 0.08587448720370122, 0.0968644764210487, 0.10978786077998488, 0.12672590626179572, 0.15061988797949172, 0.18072577381519306, 0.21548754966506173, 0.2544526450592654])"
     },
     "metadata": {},
     "execution_count": 9
    }
   ],
   "cell_type": "code",
   "source": [
    "function solve_problem(buffer, time_history, dh, ch, lh)\n",
    "    K = create_sparsity_pattern(dh)\n",
    "    r = zeros(ndofs(dh))\n",
    "    a = zeros(ndofs(dh))\n",
    "    t_old = 0.0\n",
    "    u_max = [0.0]   # To save for plotting\n",
    "    for t in time_history\n",
    "        newton_itr = -1\n",
    "        print(\"\\n t = $t:\\n\")\n",
    "        # Set the time increment passed to the material model\n",
    "        # Not actually needed for this material, but in general it should be set\n",
    "        set_time_increment!(buffer, t - t_old)\n",
    "\n",
    "        # Update and apply Dirichlet boundary conditions\n",
    "        update!(ch, t)   # Update the constraint handler and\n",
    "        apply!(a, ch)    # set the prescribed values in the solution vector\n",
    "\n",
    "        # Update and apply Neumann boundary conditions\n",
    "        fill!(f, 0)      # Reset the external load\n",
    "        apply!(f, lh, t) # Apply the Neumann boundary conditions\n",
    "        while true; newton_itr += 1\n",
    "            newton_itr > 8 && error(\"Reached maximum Newton iterations, aborting\")\n",
    "            # Assemble the contributions\n",
    "            assembler = start_assemble(K, r) # K and r are zeroed by this call.\n",
    "            work!(assembler, buffer; a=a)\n",
    "            r .-= f                 # Subtract external forces\n",
    "            apply_zero!(K, r, ch)   # Apply Dirichlet boundary conditions\n",
    "\n",
    "            norm_r = norm(r) # Constrained dofs in r where zeroed by apply_zero!\n",
    "            print(\"Iteration: $newton_itr \\tresidual: $(@sprintf(\"%.8f\", norm_r))\\n\")\n",
    "            norm_r < 1.0 && break # Tolerance 1 N\n",
    "\n",
    "            Δa = -Symmetric(K) \\ r  # Do one Newton update\n",
    "            apply_zero!(Δa, ch)     # Ensure exact BC (See Ferrite's doc)\n",
    "            a .+= Δa                # Update the displacements\n",
    "        end\n",
    "\n",
    "        # Update the old states with the converged values for next timestep\n",
    "        update_states!(buffer)  # I.e states_old = states\n",
    "        t_old = t   # Update the old time (to calculate Δt)\n",
    "        push!(u_max, maximum(abs, a)) # Save the maximum displacement in current timestep\n",
    "    end\n",
    "    return a, u_max\n",
    "end\n",
    "a, u_max = solve_problem(buffer, time_history, dh, ch, lh)"
   ],
   "metadata": {},
   "execution_count": 9
  },
  {
   "cell_type": "markdown",
   "source": [
    "## Postprocessing\n",
    "As in the Ferrite example, we would like to plot the traction versus the\n",
    "maximum displacements, and export the final displacement field, von Mises\n",
    "stress, and hardening stress. See Ferrite's example for the plotting."
   ],
   "metadata": {}
  },
  {
   "outputs": [
    {
     "output_type": "execute_result",
     "data": {
      "text/plain": "11-element Vector{Float64}:\n 0.0\n 5.0e6\n 5.555555555555556e6\n 6.111111111111112e6\n 6.666666666666666e6\n 7.222222222222222e6\n 7.777777777777778e6\n 8.333333333333334e6\n 8.888888888888888e6\n 9.444444444444444e6\n 1.0e7"
     },
     "metadata": {},
     "execution_count": 10
    }
   ],
   "cell_type": "code",
   "source": [
    "traction = vcat(0.0, traction_function.(time_history))"
   ],
   "metadata": {},
   "execution_count": 10
  },
  {
   "cell_type": "markdown",
   "source": [
    "Instead of using the average of the integration point values, as in Ferrite,\n",
    "we'll perform the volume averaging (which for 2nd order integration is equivalent),\n",
    "by using the Integrator to save values for each cell"
   ],
   "metadata": {}
  },
  {
   "outputs": [
    {
     "output_type": "execute_result",
     "data": {
      "text/plain": "1-element Vector{String}:\n \"plasticity.vtu\""
     },
     "metadata": {},
     "execution_count": 11
    }
   ],
   "cell_type": "code",
   "source": [
    "struct PlasticIntegrator{T}\n",
    "    σvm::Vector{T}\n",
    "    κ::Vector{T}\n",
    "end\n",
    "PlasticIntegrator(ncells::Int) = PlasticIntegrator(fill(NaN, ncells), fill(NaN, ncells))\n",
    "intval = PlasticIntegrator(getncells(grid))\n",
    "integrator = Integrator(intval)\n",
    "function FerriteAssembly.integrate_cell!(intval::PlasticIntegrator, states, ae, m::J2PlasticityNew, cv, buffer)\n",
    "    cellnr = cellid(buffer)\n",
    "    V = σvm = κ = 0.0\n",
    "    for q_point in 1:getnquadpoints(cv)\n",
    "        state = states[q_point]\n",
    "        ϵ = function_symmetric_gradient(cv, q_point, ae)\n",
    "        σ = m.D⊡(ϵ - state.ϵp)\n",
    "        dΩ = getdetJdV(cv, q_point)\n",
    "        V += dΩ\n",
    "        σvm += vonmises(σ)*dΩ\n",
    "        κ += state.κ*dΩ\n",
    "    end\n",
    "    intval.σvm[cellnr] = σvm/V\n",
    "    intval.κ[cellnr] = κ/V\n",
    "end\n",
    "\n",
    "work!(integrator, buffer; a=a)\n",
    "\n",
    "vtk_grid(\"plasticity\", dh) do vtkfile\n",
    "    vtk_point_data(vtkfile, dh, a) # displacement field\n",
    "    vtk_cell_data(vtkfile,  intval.σvm, \"von Mises [Pa]\")\n",
    "    vtk_cell_data(vtkfile, intval.κ, \"Drag stress [Pa]\")\n",
    "end"
   ],
   "metadata": {},
   "execution_count": 11
  },
  {
   "cell_type": "markdown",
   "source": [
    "---\n",
    "\n",
    "*This notebook was generated using [Literate.jl](https://github.com/fredrikekre/Literate.jl).*"
   ],
   "metadata": {}
  }
 ],
 "nbformat_minor": 3,
 "metadata": {
  "language_info": {
   "file_extension": ".jl",
   "mimetype": "application/julia",
   "name": "julia",
   "version": "1.9.3"
  },
  "kernelspec": {
   "name": "julia-1.9",
   "display_name": "Julia 1.9.3",
   "language": "julia"
  }
 },
 "nbformat": 4
}
