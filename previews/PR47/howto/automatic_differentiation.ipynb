{
 "cells": [
  {
   "cell_type": "markdown",
   "source": [
    "# Automatic differentiation\n",
    "**Executive summary:** Define `element_residual!` and call `setup_domainbuffer(domain; autodiffbuffer=true)`.\n",
    "\n",
    "Here, we show how to define only the `element_residual!` function, which\n",
    "does not calculate the element stiffness matrix, `Ke`, and then let `FerriteAssembly`'s\n",
    "Automatic Differentiation (AD) functionality (that builds on `ForwardDiff.jl`)\n",
    "calculate `Ke`. To compare with, we'll use the `StationaryFourier` example element that\n",
    "does define an `element_routine!` that calculates `Ke` explicitly."
   ],
   "metadata": {}
  },
  {
   "outputs": [],
   "cell_type": "code",
   "source": [
    "using Ferrite, FerriteAssembly, BenchmarkTools\n",
    "import FerriteAssembly.ExampleElements: StationaryFourier"
   ],
   "metadata": {},
   "execution_count": 1
  },
  {
   "cell_type": "markdown",
   "source": [
    "First, we'll define a new material, for which we only implement the `element_residual!`"
   ],
   "metadata": {}
  },
  {
   "outputs": [],
   "cell_type": "code",
   "source": [
    "struct StationaryFourierAD\n",
    "    k::Float64 # Thermal conductivity\n",
    "end\n",
    "material = StationaryFourierAD(1.0)\n",
    "\n",
    "function FerriteAssembly.element_residual!(re, state, ae,\n",
    "        material::StationaryFourierAD, cellvalues, cellbuffer\n",
    "        )\n",
    "    n_basefuncs = getnbasefunctions(cellvalues)\n",
    "    # Loop over quadrature points\n",
    "    for q_point in 1:getnquadpoints(cellvalues)\n",
    "        # Get the quadrature weight\n",
    "        dΩ = getdetJdV(cellvalues, q_point)\n",
    "        ∇u = function_gradient(cellvalues, q_point, ae)\n",
    "        # Loop over test shape functions\n",
    "        for i in 1:n_basefuncs\n",
    "            ∇δN = shape_gradient(cellvalues, q_point, i)\n",
    "            # re = fint - fext\n",
    "            re[i] += material.k*(∇δN ⋅ ∇u) * dΩ\n",
    "        end\n",
    "    end\n",
    "end;"
   ],
   "metadata": {},
   "execution_count": 2
  },
  {
   "cell_type": "markdown",
   "source": [
    "Then, we create a standard Ferrite setup:"
   ],
   "metadata": {}
  },
  {
   "outputs": [],
   "cell_type": "code",
   "source": [
    "grid = generate_grid(Quadrilateral, (100, 100))\n",
    "ip = Lagrange{RefQuadrilateral,1}()\n",
    "dh = DofHandler(grid); add!(dh, :u, ip); close!(dh)\n",
    "cellvalues = CellValues(QuadratureRule{RefQuadrilateral}(2), ip);\n",
    "K = allocate_matrix(dh)\n",
    "r = zeros(ndofs(dh));"
   ],
   "metadata": {},
   "execution_count": 3
  },
  {
   "cell_type": "markdown",
   "source": [
    "The assembly can then be done as usual"
   ],
   "metadata": {}
  },
  {
   "outputs": [],
   "cell_type": "code",
   "source": [
    "domain = DomainSpec(dh, material, cellvalues)\n",
    "buffer = setup_domainbuffer(domain);"
   ],
   "metadata": {},
   "execution_count": 4
  },
  {
   "cell_type": "markdown",
   "source": [
    "But for doing automatic differentiation, we need\n",
    "actual values for the degrees of freedom, so they\n",
    "must be passed to the work function,"
   ],
   "metadata": {}
  },
  {
   "outputs": [],
   "cell_type": "code",
   "source": [
    "a = zeros(ndofs(dh))\n",
    "assembler = start_assemble(K, r)\n",
    "work!(assembler, buffer; a=a);"
   ],
   "metadata": {},
   "execution_count": 5
  },
  {
   "cell_type": "markdown",
   "source": [
    "## Performance\n",
    "Using the simplest setup for AD is quite slow, due to lack of pre-allocations.\n",
    "If we would use the builtin material instead, which doesn't use AD, it is much faster:"
   ],
   "metadata": {}
  },
  {
   "outputs": [],
   "cell_type": "code",
   "source": [
    "domain_builtin = DomainSpec(dh, StationaryFourier(1.0), cellvalues)\n",
    "buffer_builtin = setup_domainbuffer(domain_builtin);"
   ],
   "metadata": {},
   "execution_count": 6
  },
  {
   "cell_type": "markdown",
   "source": [
    "Explicitly defining the element stiffness was a lot faster and has less allocations:"
   ],
   "metadata": {}
  },
  {
   "outputs": [
    {
     "name": "stdout",
     "output_type": "stream",
     "text": [
      "  28.244 ms (70000 allocations: 7.93 MiB)\n",
      "  3.663 ms (0 allocations: 0 bytes)\n"
     ]
    }
   ],
   "cell_type": "code",
   "source": [
    "if get(ENV, \"CI\", \"false\") == \"true\"            #hide\n",
    "@btime work!($assembler, $buffer; a=$a)\n",
    "@btime work!($assembler, $buffer_builtin; a=$a)\n",
    "end                                             #hide"
   ],
   "metadata": {},
   "execution_count": 7
  },
  {
   "cell_type": "markdown",
   "source": [
    "However, FerriteAssembly comes with a special `cellbuffer::AutoDiffCellBuffer`\n",
    "for speeding up automatic differentiation.\n",
    "Simply say that you want to use this during setup to improve the performance when\n",
    "using AD"
   ],
   "metadata": {}
  },
  {
   "outputs": [
    {
     "name": "stdout",
     "output_type": "stream",
     "text": [
      "  3.873 ms (0 allocations: 0 bytes)\n"
     ]
    }
   ],
   "cell_type": "code",
   "source": [
    "buffer_ad = setup_domainbuffer(domain; autodiffbuffer=true)\n",
    "if get(ENV, \"CI\", \"false\") == \"true\"            #hide\n",
    "@btime work!($assembler, $buffer_ad; a=$a)\n",
    "end                                             #hide\n",
    "\n",
    "assembler = start_assemble(K, r)                #hide\n",
    "work!(assembler, buffer; a=a);                  #hide\n",
    "K1 = copy(K);                                   #hide\n",
    "assembler = start_assemble(K, r)                #hide\n",
    "work!(assembler, buffer_builtin; a=a);          #hide\n",
    "K2 = copy(K);                                   #hide\n",
    "assembler = start_assemble(K, r)                #hide\n",
    "work!(assembler, buffer_ad; a=a);               #hide\n",
    "K3 = copy(K);                                   #hide\n",
    "                                                #hide\n",
    "using Test                                      #hide\n",
    "@test K1.nzval !== K2.nzval                     #hide\n",
    "@test K1 ≈ K2 ≈ K3                              #hide\n",
    "nothing;                                        #hide"
   ],
   "metadata": {},
   "execution_count": 8
  },
  {
   "cell_type": "markdown",
   "source": [
    "---\n",
    "\n",
    "*This notebook was generated using [Literate.jl](https://github.com/fredrikekre/Literate.jl).*"
   ],
   "metadata": {}
  }
 ],
 "nbformat_minor": 3,
 "metadata": {
  "language_info": {
   "file_extension": ".jl",
   "mimetype": "application/julia",
   "name": "julia",
   "version": "1.11.5"
  },
  "kernelspec": {
   "name": "julia-1.11",
   "display_name": "Julia 1.11.5",
   "language": "julia"
  }
 },
 "nbformat": 4
}
