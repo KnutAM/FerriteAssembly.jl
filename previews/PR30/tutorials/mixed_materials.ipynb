{
 "cells": [
  {
   "cell_type": "markdown",
   "source": [
    "# Multiple materials\n",
    "In this tutorial, we will see how we can assemble a domain and solve a problem\n",
    "where we have multiple material behaviors. In this simple case, we will consider\n",
    "an elastic inclusion, embedded in a plastically deforming matrix.\n",
    "For this example, we'll use material models defined in the\n",
    "[`MechanicalMaterialModels.jl`](https://github.com/KnutAM/MechanicalMaterialModels.jl)\n",
    "package, which defines models according to the `MaterialModelsBase` interface.\n",
    "\n",
    "The full script without intermediate comments is available at the\n",
    "bottom of this page."
   ],
   "metadata": {}
  },
  {
   "outputs": [],
   "cell_type": "code",
   "source": [
    "using Ferrite, FerriteAssembly, MaterialModelsBase, MechanicalMaterialModels, WriteVTK"
   ],
   "metadata": {},
   "execution_count": 1
  },
  {
   "cell_type": "markdown",
   "source": [
    "## Setup Ferrite quantities\n",
    "We start by the grid with sets for the inclusion with\n",
    "radius 0.5 and the surrounding matrix."
   ],
   "metadata": {}
  },
  {
   "outputs": [],
   "cell_type": "code",
   "source": [
    "function create_grid_with_inclusion()\n",
    "    p1 = Vec((-1.0, -1.0))\n",
    "    p2 = Vec(( 1.0,  1.0))\n",
    "    grid = generate_grid(Quadrilateral, (20, 20), p1, p2)\n",
    "    addcellset!(grid, \"inclusion\", x -> norm(x) < 0.5)\n",
    "    addcellset!(grid, \"matrix\", setdiff(1:getncells(grid), getcellset(grid, \"inclusion\")))\n",
    "    return grid\n",
    "end\n",
    "grid = create_grid_with_inclusion();"
   ],
   "metadata": {},
   "execution_count": 2
  },
  {
   "cell_type": "markdown",
   "source": [
    "Define interpolation"
   ],
   "metadata": {}
  },
  {
   "outputs": [],
   "cell_type": "code",
   "source": [
    "ip = Lagrange{RefQuadrilateral,1}()^2;"
   ],
   "metadata": {},
   "execution_count": 3
  },
  {
   "cell_type": "markdown",
   "source": [
    "Followed by the dof handler"
   ],
   "metadata": {}
  },
  {
   "outputs": [],
   "cell_type": "code",
   "source": [
    "dh = DofHandler(grid)\n",
    "add!(dh, :u, ip)\n",
    "close!(dh);"
   ],
   "metadata": {},
   "execution_count": 4
  },
  {
   "cell_type": "markdown",
   "source": [
    "And then Dirichlet conditions"
   ],
   "metadata": {}
  },
  {
   "outputs": [],
   "cell_type": "code",
   "source": [
    "ch = ConstraintHandler(dh)\n",
    "add!(ch, Dirichlet(:u, getfacetset(grid,\"left\"), Returns(0.0), 1))\n",
    "add!(ch, Dirichlet(:u, getfacetset(grid,\"bottom\"), Returns(0.0), 2))\n",
    "f_dbc(x,t) = 0.02 * t # 1 % strain at t = 1\n",
    "add!(ch, Dirichlet(:u, getfacetset(grid, \"right\"), f_dbc, 1))\n",
    "close!(ch);"
   ],
   "metadata": {},
   "execution_count": 5
  },
  {
   "cell_type": "markdown",
   "source": [
    "Define cellvalues"
   ],
   "metadata": {}
  },
  {
   "outputs": [],
   "cell_type": "code",
   "source": [
    "qr = QuadratureRule{RefQuadrilateral}(2)\n",
    "cv = CellValues(qr, ip);"
   ],
   "metadata": {},
   "execution_count": 6
  },
  {
   "cell_type": "markdown",
   "source": [
    "## FerriteAssembly setup\n",
    "We first define the material models, and use the `ReducedStressState` to get a\n",
    "plane strain response."
   ],
   "metadata": {}
  },
  {
   "outputs": [],
   "cell_type": "code",
   "source": [
    "elastic_material = ReducedStressState(PlaneStrain(), LinearElastic(;E=210e3, ν=0.3))\n",
    "\n",
    "plastic_material = ReducedStressState(PlaneStrain(), Plastic(;\n",
    "    elastic   = LinearElastic(E = 210e3, ν = 0.3),\n",
    "    yield     = 100.0,\n",
    "    isotropic = Voce(;Hiso = 10e3, κ∞ = Inf),\n",
    "    kinematic = ArmstrongFrederick(;Hkin = 0.0, β∞ = 1.0) # No kinematic hardening\n",
    "    ));"
   ],
   "metadata": {},
   "execution_count": 7
  },
  {
   "cell_type": "markdown",
   "source": [
    "We need to create the domain buffers, where the difference from earlier tutorials\n",
    "is that we have multiple domains. The domain specification should then be a `Dict`\n",
    "with one entry for each domain:"
   ],
   "metadata": {}
  },
  {
   "outputs": [],
   "cell_type": "code",
   "source": [
    "domains = Dict(\n",
    "    \"elastic\"=>DomainSpec(dh, elastic_material, cv; set=getcellset(grid, \"inclusion\")),\n",
    "    \"plastic\"=>DomainSpec(dh, plastic_material, cv; set=getcellset(grid, \"matrix\")) );"
   ],
   "metadata": {},
   "execution_count": 8
  },
  {
   "cell_type": "markdown",
   "source": [
    "Now, we can call `setup_domainbuffers`, which accepts the same keyword arguments\n",
    "as `setup_domainbuffer`. Here, we accept the defaults."
   ],
   "metadata": {}
  },
  {
   "outputs": [],
   "cell_type": "code",
   "source": [
    "buffer = setup_domainbuffers(domains);"
   ],
   "metadata": {},
   "execution_count": 9
  },
  {
   "cell_type": "markdown",
   "source": [
    "### Postprocessing setup\n",
    "In this tutorial, we also demonstrate how the `QuadratureEvaluator` can be used\n",
    "to obtain quadrature point data which can be used to visualize the results, in this\n",
    "case the stresses. Specifically, we will use the evaluated data in combination with\n",
    "`Ferrite`'s `L2Projector`.\n",
    "\n",
    "First, we define a function to calculate the stresses for each material.\n",
    "Note that here we have to use some internals from `MechanicalMaterialModels.jl`,\n",
    "but this should be solved with\n",
    "[MaterialModelsBase#12](https://github.com/KnutAM/MaterialModelsBase.jl/issues/12)."
   ],
   "metadata": {}
  },
  {
   "outputs": [
    {
     "output_type": "execute_result",
     "data": {
      "text/plain": "calculate_stress (generic function with 3 methods)"
     },
     "metadata": {},
     "execution_count": 10
    }
   ],
   "cell_type": "code",
   "source": [
    "function calculate_stress(m::ReducedStressState, u, ∇u, qp_state)\n",
    "    ϵ = MaterialModelsBase.expand_tensordim(m.stress_state, symmetric(∇u))\n",
    "    σ = calculate_stress(m.material, ϵ, qp_state)\n",
    "    return MaterialModelsBase.reduce_tensordim(m.stress_state, σ)\n",
    "end\n",
    "calculate_stress(m::LinearElastic, ϵ, qp_state) = m.C ⊡ ϵ\n",
    "calculate_stress(m::Plastic, ϵ, qp_state) = calculate_stress(m.elastic, ϵ - qp_state.ϵp, qp_state)"
   ],
   "metadata": {},
   "execution_count": 10
  },
  {
   "cell_type": "markdown",
   "source": [
    "And then we create the QuadratureEvaluator including this function"
   ],
   "metadata": {}
  },
  {
   "outputs": [
    {
     "output_type": "execute_result",
     "data": {
      "text/plain": "QuadratureEvaluator{SymmetricTensor{2, 2, Float64, 3}, typeof(Main.var\"##232\".calculate_stress)}(SubArray{SymmetricTensor{2, 2, Float64, 3}, 1, Vector{SymmetricTensor{2, 2, Float64, 3}}, Tuple{UnitRange{Int64}}, true}[[[6.9062056471107e-310 1.31434426e-316; 1.31434426e-316 1.31434426e-316], [1.31434426e-316 5.06599913e-316; 5.06599913e-316 5.0660023e-316], [5.06600704e-316 5.0660102e-316; 5.0660102e-316 5.06601336e-316], [5.06600704e-316 5.0660086e-316; 5.0660086e-316 0.0]], [[0.0 0.0; 0.0 0.0], [0.0 0.0; 0.0 2.86840285e-316], [4.8018169e-316 3.78821474e-316; 3.78821474e-316 4.6541545e-316], [4.16888877e-316 0.0; 0.0 0.0]], [[0.0 0.0; 0.0 3.9531864e-316], [5.4e-323 5.0659944e-316; 5.0659944e-316 5.06599597e-316], [5.06599755e-316 5.06599913e-316; 5.06599913e-316 5.0660023e-316], [5.06600704e-316 5.0660102e-316; 5.0660102e-316 5.06601336e-316]], [[5.06600704e-316 5.0660086e-316; 5.0660086e-316 0.0], [0.0 0.0; 0.0 0.0], [0.0 0.0; 0.0 2.86840285e-316], [4.8018169e-316 3.78821474e-316; 3.78821474e-316 4.6541545e-316]], [[4.16888877e-316 0.0; 0.0 0.0], [0.0 0.0; 0.0 3.9531864e-316], [NaN 0.0; 0.0 0.0], [0.0 0.0; 0.0 0.0]], [[0.0 0.0; 0.0 0.0], [0.0 0.0; 0.0 0.0], [0.0 0.0; 0.0 0.0], [0.0 0.0; 0.0 0.0]], [[0.0 0.0; 0.0 0.0], [0.0 0.0; 0.0 0.0], [0.0 0.0; 0.0 3.9531864e-316], [1.0e-323 0.0; 0.0 0.0]], [[0.0 0.0; 0.0 0.0], [0.0 0.0; 0.0 0.0], [0.0 0.0; 0.0 0.0], [0.0 0.0; 0.0 0.0]], [[0.0 0.0; 0.0 0.0], [0.0 0.0; 0.0 0.0], [0.0 0.0; 0.0 0.0], [0.0 0.0; 0.0 3.9531864e-316]], [[NaN 0.0; 0.0 0.0], [0.0 0.0; 0.0 0.0], [0.0 0.0; 0.0 0.0], [0.0 0.0; 0.0 0.0]]  …  [[8.487983164e-314 0.0; 0.0 2.63730977e-316], [4.1383152e-316 4.2626292e-316; 4.2626292e-316 4.9914733e-316], [0.0 2.715452e-316; 2.715452e-316 4.97708056e-316], [0.0 2.78876895e-316; 2.78876895e-316 0.0]], [[5.14e-321 7.9e-322; 7.9e-322 0.0], [0.0 4.0544608e-316; 4.0544608e-316 0.0], [6.285e-321 1.11e-321; 1.11e-321 3.5e-323], [0.0 4.1641659e-316; 4.1641659e-316 3.0e-323]], [[4.0e-323 1.1204673652690629e243; 1.1204673652690629e243 4.1641671e-316], [2.121995791e-314 1.411847722480176e249; 1.411847722480176e249 3.7578678101964044e-308], [1.847213641588774e-65 3.424e-321; 3.424e-321 5.93e-321], [1.186e-321 0.0; 0.0 0.0]], [[4.0544608e-316 0.0; 0.0 6.314e-321], [1.117e-321 6.429387756474098e-292; 6.429387756474098e-292 0.0], [4.1641738e-316 1.0e-323; 1.0e-323 1.6e-322], [2.88500207e-316 -1.1579606070972273e-261; -1.1579606070972273e-261 1.0474001641136035e289]], [[-1.2604944896721221e105 4.16417617e-316; 4.16417617e-316 8.487983164e-314], [9.528192797e-315 2.8821789e-316; 2.8821789e-316 9.727673916e-315], [3.187926074206537e-9 6.547635378582524e-292; 6.547635378582524e-292 2.6461447901240157e244], [6.946406404147812e-292 6.160619055584367e-292; 6.160619055584367e-292 1.1399962681426973e226]], [[2.8784359814747065e-61 -1.9130375145629393e-110; -1.9130375145629393e-110 7.115e-321], [7.9e-322 0.0; 0.0 0.0], [4.0544608e-316 0.0; 0.0 6.324e-321], [1.12e-321 6.950589552063184e90; 6.950589552063184e90 0.0]], [[4.16418566e-316 2.0e-323; 2.0e-323 4.0e-323], [3.852720443e-315 4.16418684e-316; 4.16418684e-316 2.121995791e-314], [0.0 4.0e-322; 4.0e-322 1.50627414e-316], [NaN 7.905e-321; 7.905e-321 1.186e-321]], [[0.0 0.0; 0.0 4.0544608e-316], [0.0 6.344e-321; 6.344e-321 1.126e-321], [5.0e-324 0.0; 0.0 4.16419356e-316], [1.0e-323 1.6e-322; 1.6e-322 4.5266091e-316]], [[NaN 4.16419514e-316; 4.16419514e-316 8.487983165e-314], [4.16419593e-316 8.487983164e-314; 8.487983164e-314 NaN], [NaN 5.20558473e-316; 5.20558473e-316 1.9097962121e-313], [5.06777046e-316 4.93497075e-316; 4.93497075e-316 4.934951e-316]], [[5.2203577e-316 5.169165e-316; 5.169165e-316 5.169165e-316], [4.52474765e-316 9.09e-321; 9.09e-321 7.9e-322], [0.0 0.0; 0.0 4.0544608e-316], [0.0 6.354e-321; 6.354e-321 1.13e-321]]], Main.var\"##232\".calculate_stress)"
     },
     "metadata": {},
     "execution_count": 11
    }
   ],
   "cell_type": "code",
   "source": [
    "qe = QuadratureEvaluator{SymmetricTensor{2,2,Float64,3}}(buffer, calculate_stress)"
   ],
   "metadata": {},
   "execution_count": 11
  },
  {
   "cell_type": "markdown",
   "source": [
    "Finally, we'll setup the L2Projector that we will use"
   ],
   "metadata": {}
  },
  {
   "outputs": [
    {
     "output_type": "execute_result",
     "data": {
      "text/plain": "L2Projector\n  projection on:           400/400 cells in grid\n  function interpolation:  Lagrange{RefQuadrilateral, 1}()\n  geometric interpolation: Lagrange{RefQuadrilateral, 1}()\n"
     },
     "metadata": {},
     "execution_count": 12
    }
   ],
   "cell_type": "code",
   "source": [
    "proj = L2Projector(grid)\n",
    "add!(proj, 1:getncells(grid), ip; qr_rhs = qr)\n",
    "close!(proj)"
   ],
   "metadata": {},
   "execution_count": 12
  },
  {
   "cell_type": "markdown",
   "source": [
    "## Solving the nonlinear problem via time-stepping"
   ],
   "metadata": {}
  },
  {
   "outputs": [],
   "cell_type": "code",
   "source": [
    "function solve_nonlinear_timehistory(buffer, dh, ch, l2_proj, qp_evaluator; time_history)\n",
    "    maxiter = 10\n",
    "    tolerance = 1e-6\n",
    "    K = allocate_matrix(dh)\n",
    "    r = zeros(ndofs(dh))\n",
    "    a = zeros(ndofs(dh))\n",
    "    # Prepare postprocessing\n",
    "    pvd = paraview_collection(\"multiple_materials\")\n",
    "    for (n, t) in enumerate(time_history)\n",
    "        # Update and apply the Dirichlet boundary conditions\n",
    "        update!(ch, t)\n",
    "        apply!(a, ch)\n",
    "        for i in 1:maxiter\n",
    "            # Assemble the system\n",
    "            assembler = start_assemble(K, r)\n",
    "            work!(assembler, buffer; a=a)\n",
    "            # Apply boundary conditions\n",
    "            apply_zero!(K, r, ch)\n",
    "            # Check convergence\n",
    "            norm(r) < tolerance && break\n",
    "            i == maxiter && error(\"Did not converge\")\n",
    "            # Solve the linear system and update the dof vector\n",
    "            a .-= K \\ r\n",
    "            apply!(a, ch)\n",
    "        end\n",
    "\n",
    "        # If converged, update the old state variables to the current.\n",
    "        update_states!(buffer)\n",
    "\n",
    "        # Postprocess\n",
    "        work!(qp_evaluator, buffer; a=a)\n",
    "        stresses = project(l2_proj, qp_evaluator.data)\n",
    "        VTKGridFile(\"multiple_materials_$n\", dh) do vtk\n",
    "            write_solution(vtk, dh, a)\n",
    "            write_projection(vtk, l2_proj, stresses, \"stress\")\n",
    "            Ferrite.write_cellset(vtk, dh.grid, \"inclusion\")\n",
    "            pvd[t] = vtk\n",
    "        end\n",
    "    end\n",
    "    close(pvd)\n",
    "    return nothing\n",
    "end;\n",
    "solve_nonlinear_timehistory(buffer, dh, ch, proj, qe; time_history=collect(range(0, 1, 40)));"
   ],
   "metadata": {},
   "execution_count": 13
  },
  {
   "cell_type": "markdown",
   "source": [
    "---\n",
    "\n",
    "*This notebook was generated using [Literate.jl](https://github.com/fredrikekre/Literate.jl).*"
   ],
   "metadata": {}
  }
 ],
 "nbformat_minor": 3,
 "metadata": {
  "language_info": {
   "file_extension": ".jl",
   "mimetype": "application/julia",
   "name": "julia",
   "version": "1.10.5"
  },
  "kernelspec": {
   "name": "julia-1.10",
   "display_name": "Julia 1.10.5",
   "language": "julia"
  }
 },
 "nbformat": 4
}
