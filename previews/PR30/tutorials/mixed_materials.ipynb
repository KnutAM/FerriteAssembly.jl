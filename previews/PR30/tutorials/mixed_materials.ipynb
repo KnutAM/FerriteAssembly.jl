{
 "cells": [
  {
   "cell_type": "markdown",
   "source": [
    "# Multiple materials\n",
    "In this tutorial, we will see how we can assemble a domain and solve a problem\n",
    "where we have multiple material behaviors. In this simple case, we will consider\n",
    "an elastic inclusion, embedded in a plastically deforming matrix.\n",
    "For this example, we'll use material models defined in the\n",
    "![results](mixed_materials.png)\n",
    "**Figure 1:** Results showing the norm of the stress\n",
    "\n",
    "[`MechanicalMaterialModels.jl`](https://github.com/KnutAM/MechanicalMaterialModels.jl)\n",
    "package, which defines models according to the `MaterialModelsBase` interface.\n",
    "\n",
    "The full script without intermediate comments is available at the\n",
    "bottom of this page."
   ],
   "metadata": {}
  },
  {
   "outputs": [],
   "cell_type": "code",
   "source": [
    "using Ferrite, FerriteAssembly, MaterialModelsBase, MechanicalMaterialModels, WriteVTK"
   ],
   "metadata": {},
   "execution_count": 1
  },
  {
   "cell_type": "markdown",
   "source": [
    "## Setup Ferrite quantities\n",
    "We start by the grid with sets for the inclusion with\n",
    "radius 0.5 and the surrounding matrix."
   ],
   "metadata": {}
  },
  {
   "outputs": [],
   "cell_type": "code",
   "source": [
    "function create_grid_with_inclusion()\n",
    "    p1 = Vec((-1.0, -1.0))\n",
    "    p2 = Vec(( 1.0,  1.0))\n",
    "    grid = generate_grid(Quadrilateral, (100, 100), p1, p2)\n",
    "    addcellset!(grid, \"inclusion\", x -> norm(x) < 0.5)\n",
    "    addcellset!(grid, \"matrix\", setdiff(1:getncells(grid), getcellset(grid, \"inclusion\")))\n",
    "    return grid\n",
    "end\n",
    "grid = create_grid_with_inclusion();"
   ],
   "metadata": {},
   "execution_count": 2
  },
  {
   "cell_type": "markdown",
   "source": [
    "Define interpolation"
   ],
   "metadata": {}
  },
  {
   "outputs": [],
   "cell_type": "code",
   "source": [
    "ip = Lagrange{RefQuadrilateral,1}()^2;"
   ],
   "metadata": {},
   "execution_count": 3
  },
  {
   "cell_type": "markdown",
   "source": [
    "Followed by the dof handler"
   ],
   "metadata": {}
  },
  {
   "outputs": [],
   "cell_type": "code",
   "source": [
    "dh = DofHandler(grid)\n",
    "add!(dh, :u, ip)\n",
    "close!(dh);"
   ],
   "metadata": {},
   "execution_count": 4
  },
  {
   "cell_type": "markdown",
   "source": [
    "And then Dirichlet conditions"
   ],
   "metadata": {}
  },
  {
   "outputs": [],
   "cell_type": "code",
   "source": [
    "ch = ConstraintHandler(dh)\n",
    "add!(ch, Dirichlet(:u, getfacetset(grid,\"left\"), Returns(0.0), 1))\n",
    "add!(ch, Dirichlet(:u, getfacetset(grid,\"bottom\"), Returns(0.0), 2))\n",
    "f_dbc(x,t) = 0.01 * t # 1 % strain at t = 1\n",
    "add!(ch, Dirichlet(:u, getfacetset(grid, \"right\"), f_dbc, 1))\n",
    "close!(ch);"
   ],
   "metadata": {},
   "execution_count": 5
  },
  {
   "cell_type": "markdown",
   "source": [
    "Define cellvalues"
   ],
   "metadata": {}
  },
  {
   "outputs": [],
   "cell_type": "code",
   "source": [
    "qr = QuadratureRule{RefQuadrilateral}(2)\n",
    "cv = CellValues(qr, ip);"
   ],
   "metadata": {},
   "execution_count": 6
  },
  {
   "cell_type": "markdown",
   "source": [
    "## FerriteAssembly setup\n",
    "We first define the material models, and use the `ReducedStressState` to get a\n",
    "plane strain response."
   ],
   "metadata": {}
  },
  {
   "outputs": [],
   "cell_type": "code",
   "source": [
    "elastic_material = ReducedStressState(PlaneStrain(), LinearElastic(;E=210e3, ν=0.3))\n",
    "\n",
    "plastic_material = ReducedStressState(PlaneStrain(), Plastic(;\n",
    "    elastic   = LinearElastic(E = 210e3, ν = 0.3),\n",
    "    yield     = 100.0,\n",
    "    isotropic = Voce(;Hiso = 100e3, κ∞ = 1000.0),\n",
    "    kinematic = ArmstrongFrederick(;Hkin = 0.0, β∞ = 1.0) # No kinematic hardening\n",
    "    ));"
   ],
   "metadata": {},
   "execution_count": 7
  },
  {
   "cell_type": "markdown",
   "source": [
    "We need to create the domain buffers, where the difference from earlier tutorials\n",
    "is that we have multiple domains. The domain specification should then be a `Dict`\n",
    "with one entry for each domain:"
   ],
   "metadata": {}
  },
  {
   "outputs": [],
   "cell_type": "code",
   "source": [
    "domains = Dict(\n",
    "    \"elastic\"=>DomainSpec(dh, elastic_material, cv; set=getcellset(grid, \"inclusion\")),\n",
    "    \"plastic\"=>DomainSpec(dh, plastic_material, cv; set=getcellset(grid, \"matrix\")) );"
   ],
   "metadata": {},
   "execution_count": 8
  },
  {
   "cell_type": "markdown",
   "source": [
    "Now, we can call `setup_domainbuffers`, which accepts the same keyword arguments\n",
    "as `setup_domainbuffer`. Here, we accept the defaults."
   ],
   "metadata": {}
  },
  {
   "outputs": [],
   "cell_type": "code",
   "source": [
    "buffer = setup_domainbuffers(domains);"
   ],
   "metadata": {},
   "execution_count": 9
  },
  {
   "cell_type": "markdown",
   "source": [
    "### Postprocessing setup\n",
    "In this tutorial, we also demonstrate how the `QuadratureEvaluator` can be used\n",
    "to obtain quadrature point data which can be used to visualize the results, in this\n",
    "case the stresses. Specifically, we will use the evaluated data in combination with\n",
    "`Ferrite`'s `L2Projector`.\n",
    "\n",
    "First, we define a function to calculate the stresses for each material.\n",
    "Note that here we have to use some internals from `MechanicalMaterialModels.jl`,\n",
    "but this should be solved with\n",
    "[MaterialModelsBase#12](https://github.com/KnutAM/MaterialModelsBase.jl/issues/12)."
   ],
   "metadata": {}
  },
  {
   "outputs": [
    {
     "output_type": "execute_result",
     "data": {
      "text/plain": "calculate_stress (generic function with 3 methods)"
     },
     "metadata": {},
     "execution_count": 10
    }
   ],
   "cell_type": "code",
   "source": [
    "function calculate_stress(m::ReducedStressState, u, ∇u, qp_state)\n",
    "    ϵ = MaterialModelsBase.expand_tensordim(m.stress_state, symmetric(∇u))\n",
    "    σ = calculate_stress(m.material, ϵ, qp_state)\n",
    "    return MaterialModelsBase.reduce_tensordim(m.stress_state, σ)\n",
    "end\n",
    "calculate_stress(m::LinearElastic, ϵ, qp_state) = m.C ⊡ ϵ\n",
    "calculate_stress(m::Plastic, ϵ, qp_state) = calculate_stress(m.elastic, ϵ - qp_state.ϵp, qp_state)"
   ],
   "metadata": {},
   "execution_count": 10
  },
  {
   "cell_type": "markdown",
   "source": [
    "And then we create the QuadratureEvaluator including this function"
   ],
   "metadata": {}
  },
  {
   "outputs": [
    {
     "output_type": "execute_result",
     "data": {
      "text/plain": "QuadratureEvaluator{SymmetricTensor{2, 2, Float64, 3}, typeof(Main.var\"##232\".calculate_stress)}(SubArray{SymmetricTensor{2, 2, Float64, 3}, 1, Vector{SymmetricTensor{2, 2, Float64, 3}}, Tuple{UnitRange{Int64}}, true}[[[5.52850683e-316 5.6931374e-316; 5.6931374e-316 5.52850683e-316], [5.6931374e-316 0.0; 0.0 0.0], [0.0 0.0; 0.0 0.0], [0.0 1.1096546343350528; 1.1096546343350528 0.0]], [[0.0 0.0; 0.0 0.0], [0.0 0.0; 0.0 0.0], [0.0 0.0; 0.0 0.705697702959018], [-0.018757248368687814 0.0; 0.0 0.0]], [[-0.14666666666666606 -0.2933333333333321; -0.2933333333333321 -0.2914666666666606], [-0.3705124954281557 0.018757248368687807; 0.018757248368687807 -0.14666666666666603], [0.0021604939711933804 -0.16666667777777686; -0.16666667777777686 -0.0018666666666666385], [0.0 0.0; 0.0 -0.01875724836868779]], [[0.7128852531733131 0.0; 0.0 0.0], [0.0 0.3199999999999987; 0.3199999999999987 0.15999999999999662], [0.018757248368687807 -0.4112185663955368; -0.4112185663955368 0.31999999999999595], [0.14814815802469053 0.001944444574074042; 0.001944444574074042 0.15999999999999934]], [[0.0 0.0; 0.0 0.0], [0.0 1.1096546343350528; 1.1096546343350528 0.0], [0.0 0.0; 0.0 0.0], [0.0 0.0; 0.0 0.0]], [[0.0 0.0; 0.0 0.0], [0.0 0.0; 0.0 0.0], [0.0 0.0; 0.0 1.1096546343350528], [0.0 0.0; 0.0 0.0]], [[0.0 0.0; 0.0 0.0], [0.0 0.0; 0.0 0.0], [0.0 0.0; 0.0 -0.14666666666666606], [0.0 0.0; 0.0 0.0]], [[-4.224000563321571e-8 -2.1120002816607964e-8; -2.1120002816607964e-8 -2.1120002816607485e-8], [0.0 0.0; 0.0 -0.2933333333333321], [0.3199999999999987 0.0; 0.0 0.0], [-2.1120002816607964e-8 -1.256448167562562e-7; -1.256448167562562e-7 -4.1971205597367255e-8]], [[0.14666666666666606 -0.3199999999999987; -0.3199999999999987 -4.170240556152e-8], [-0.14479999999999943 0.0; 0.0 -2.0851202780760233e-8], [0.0 0.0; 0.0 -0.2914666666666606], [0.15999999999999662 0.0; 0.0 0.0]], [[-2.112000281660749e-8 -4.197120559736726e-8; -4.197120559736726e-8 -1.2618241682794978e-7], [-0.14666666666666606 -0.15999999999999662; -0.15999999999999662 -4.197120559736773e-8], [0.0 0.0; 0.0 -2.1120002816607485e-8], [-0.3705124954281557 0.018757248368687807; 0.018757248368687807 0.0]]  …  [[-0.2846338547757792 0.0006138735829751552; 0.0006138735829751552 -0.004800000000000623], [0.0010913308141782818 -0.3341068362701064; -0.3341068362701064 -0.3199999999999987], [0.018518519753086243 -0.15972223287036855; -0.15972223287036855 -0.15999999999999934], [0.0 0.0; 0.0 -0.15999999999999662]], [[-0.0017052043971533953 1.271367999634056; 1.271367999634056 2.6645352591003757e-15], [-0.018518519753086243 -0.14194445390740767; -0.14194445390740767 0.1599999999999993], [0.0 0.0; 0.0 0.15999999999999662], [0.0006138735829751274 -0.3339277898083973; -0.3339277898083973 0.31999999999999595]], [[-0.00853333333333467 0.31999999999999595; 0.31999999999999595 -4.170240556151966e-8], [-0.2205333333333275 0.1599999999999966; 0.1599999999999966 -4.143360552567158e-8], [0.0 0.0; 0.0 -4.1971205597367625e-8], [-3.774758283725532e-15 2.6645352591003757e-15; 2.6645352591003757e-15 -2.502144333691196e-7]], [[-0.2119999999999989 -0.1599999999999966; -0.1599999999999966 -4.143360552567238e-8], [0.0 0.0; 0.0 -4.1971205597367486e-8], [0.004799999999999444 -0.3199999999999986; -0.3199999999999986 -4.1702405561520334e-8], [-0.29087032066277363 0.0013474296088999693; 0.0013474296088999693 0.01040000000000059]], [[-0.17746914763374425 0.0185185197530863; 0.0185185197530863 0.21866666666666534], [-0.15771605989711962 -0.018518519753086243; -0.018518519753086243 -0.2119999999999989], [1.2432111110730997 -0.0022111665376818683; -0.0022111665376818683 -3.677613769070831e-15], [-0.15339507195473195 -0.018518519753086354; -0.018518519753086354 0.20826666666666593]], [[-0.17314815969135652 0.018518519753086327; 0.018518519753086327 -0.21866666666666285], [-0.2906123512333736 0.0008637369287818331; 0.0008637369287818331 -0.006666666666666432], [0.0013474296089000526 -0.34055609650141594; -0.34055609650141594 -0.3199999999999986], [0.018518519753086327 -0.15972223287036982; -0.15972223287036982 -0.1599999999999993]], [[-0.018518519753086327 -0.14194445390740767; -0.14194445390740767 -0.1599999999999966], [-0.002211166537681856 1.2764356157756283; 1.2764356157756283 2.7200464103316335e-15], [-0.018518519753086327 -0.13805556475925873; -0.13805556475925873 0.15999999999999934], [0.0185185197530863 -0.15583334372222085; -0.15583334372222085 0.15999999999999664]], [[0.0008637369287818331 -0.34032392401495504; -0.34032392401495504 0.31999999999999595], [-0.010400000000001686 0.31999999999999595; 0.31999999999999595 -4.1164805489824415e-8], [-0.21866666666666168 0.15999999999999662; 0.15999999999999662 -4.0896005453976165e-8], [0.212 0.1599999999999993; 0.1599999999999993 -4.143360552567238e-8]], [[-3.677613769070831e-15 2.7200464103316335e-15; 2.7200464103316335e-15 -2.469888329389472e-7], [-0.20826666666666485 -0.15999999999999662; -0.15999999999999662 -4.08960054539768e-8], [0.21866666666666654 -0.1599999999999993; -0.1599999999999993 -4.1433605525672084e-8], [0.006666666666665308 -0.3199999999999987; -0.3199999999999987 -4.116480548982476e-8]], [[-0.29706762931698216 0.001610306065485928; 0.001610306065485928 0.01226666666666762], [-0.17746914763374422 0.018518519753086327; 0.018518519753086327 0.21679999999999827], [-0.15339507195473195 -0.018518519753086327; -0.018518519753086327 -0.20826666666666485], [1.2469031613783998 -0.002730518980606349; -0.002730518980606349 -3.622102617839573e-15]]], Main.var\"##232\".calculate_stress)"
     },
     "metadata": {},
     "execution_count": 11
    }
   ],
   "cell_type": "code",
   "source": [
    "qe = QuadratureEvaluator{SymmetricTensor{2,2,Float64,3}}(buffer, calculate_stress)"
   ],
   "metadata": {},
   "execution_count": 11
  },
  {
   "cell_type": "markdown",
   "source": [
    "Finally, we'll setup the L2Projector that we will use"
   ],
   "metadata": {}
  },
  {
   "outputs": [
    {
     "output_type": "execute_result",
     "data": {
      "text/plain": "L2Projector\n  projection on:           10000/10000 cells in grid\n  function interpolation:  Lagrange{RefQuadrilateral, 1}()\n  geometric interpolation: Lagrange{RefQuadrilateral, 1}()\n"
     },
     "metadata": {},
     "execution_count": 12
    }
   ],
   "cell_type": "code",
   "source": [
    "proj = L2Projector(grid)\n",
    "add!(proj, 1:getncells(grid), ip; qr_rhs = qr)\n",
    "close!(proj)"
   ],
   "metadata": {},
   "execution_count": 12
  },
  {
   "cell_type": "markdown",
   "source": [
    "## Solving the nonlinear problem via time-stepping"
   ],
   "metadata": {}
  },
  {
   "outputs": [
    {
     "name": "stdout",
     "output_type": "stream",
     "text": [
      "(i, norm(r)) = (1, 0.0)\n",
      "(i, norm(r)) = (1, 1013.0396665382168)\n",
      "(i, norm(r)) = (2, 71.69775942584674)\n",
      "(i, norm(r)) = (3, 19.507028366079012)\n",
      "(i, norm(r)) = (4, 7.646246156771923)\n",
      "(i, norm(r)) = (5, 4.766598002699576)\n",
      "(i, norm(r)) = (6, 4.6607170871576615)\n",
      "(i, norm(r)) = (7, 4.723898982199312)\n",
      "(i, norm(r)) = (8, 4.691484315663304)\n",
      "(i, norm(r)) = (9, 4.600155921469466)\n",
      "(i, norm(r)) = (10, 4.4633616689125795)\n",
      "(i, norm(r)) = (11, 4.097478178732702)\n",
      "(i, norm(r)) = (12, 3.997884698224978)\n",
      "(i, norm(r)) = (13, 3.778271465051812)\n",
      "(i, norm(r)) = (14, 3.667071854731892)\n",
      "(i, norm(r)) = (15, 3.296006100114944)\n",
      "(i, norm(r)) = (16, 3.3103088956152917)\n",
      "(i, norm(r)) = (17, 3.0154178393253988)\n",
      "(i, norm(r)) = (18, 2.8812085915271264)\n",
      "(i, norm(r)) = (19, 2.4042233104075486)\n",
      "(i, norm(r)) = (20, 2.3885920495856814)\n",
      "(i, norm(r)) = (21, 1.804315981224312)\n",
      "(i, norm(r)) = (22, 1.5498265361815133)\n",
      "(i, norm(r)) = (23, 1.309173441633245e-12)\n",
      "(i, norm(r)) = (1, 1006.6391802500334)\n",
      "(i, norm(r)) = (2, 69.21989100174976)\n",
      "(i, norm(r)) = (3, 15.247388615023727)\n",
      "(i, norm(r)) = (4, 3.41127896630657)\n",
      "(i, norm(r)) = (5, 2.6476384574886556)\n",
      "(i, norm(r)) = (6, 1.7623247933817654)\n",
      "(i, norm(r)) = (7, 0.49793925222499286)\n",
      "(i, norm(r)) = (8, 0.03792778491630363)\n",
      "(i, norm(r)) = (9, 0.00022647504617379676)\n",
      "(i, norm(r)) = (10, 5.579260886960748e-9)\n",
      "(i, norm(r)) = (1, 1001.0154353341237)\n",
      "(i, norm(r)) = (2, 63.609168116749785)\n",
      "(i, norm(r)) = (3, 8.48327125456369)\n",
      "(i, norm(r)) = (4, 2.9869626363538244)\n",
      "(i, norm(r)) = (5, 1.6406868057424366)\n",
      "(i, norm(r)) = (6, 0.27962993670021635)\n",
      "(i, norm(r)) = (7, 0.017129272149711487)\n",
      "(i, norm(r)) = (8, 6.708071268971708e-5)\n",
      "(i, norm(r)) = (9, 1.0069630193319311e-9)\n",
      "(i, norm(r)) = (1, 999.8765129881765)\n",
      "(i, norm(r)) = (2, 63.037630780382116)\n",
      "(i, norm(r)) = (3, 8.505427615526388)\n",
      "(i, norm(r)) = (4, 3.534919793029558)\n",
      "(i, norm(r)) = (5, 2.104616361424009)\n",
      "(i, norm(r)) = (6, 0.5150031473339716)\n",
      "(i, norm(r)) = (7, 0.041734553109541606)\n",
      "(i, norm(r)) = (8, 0.00037196773399075865)\n",
      "(i, norm(r)) = (9, 2.686802117754478e-8)\n",
      "(i, norm(r)) = (1, 998.717998351202)\n",
      "(i, norm(r)) = (2, 62.934544650484014)\n",
      "(i, norm(r)) = (3, 8.708110182026218)\n",
      "(i, norm(r)) = (4, 4.06897801308848)\n",
      "(i, norm(r)) = (5, 2.6000977189434584)\n",
      "(i, norm(r)) = (6, 0.8444863975852521)\n",
      "(i, norm(r)) = (7, 0.08151476847899432)\n",
      "(i, norm(r)) = (8, 0.001046438813094071)\n",
      "(i, norm(r)) = (9, 1.8832479574851728e-7)\n",
      "(i, norm(r)) = (1, 997.5481155439368)\n",
      "(i, norm(r)) = (2, 62.39234497877402)\n",
      "(i, norm(r)) = (3, 8.804263127126607)\n",
      "(i, norm(r)) = (4, 4.613925822929027)\n",
      "(i, norm(r)) = (5, 3.091479964127221)\n",
      "(i, norm(r)) = (6, 1.2382120284203277)\n",
      "(i, norm(r)) = (7, 0.14368955864640762)\n",
      "(i, norm(r)) = (8, 0.0012061809943403443)\n",
      "(i, norm(r)) = (9, 2.226723637342524e-7)\n",
      "(i, norm(r)) = (1, 996.3744650622164)\n",
      "(i, norm(r)) = (2, 61.527165587696096)\n",
      "(i, norm(r)) = (3, 8.894745768860597)\n",
      "(i, norm(r)) = (4, 5.058951198242056)\n",
      "(i, norm(r)) = (5, 3.4849120251000105)\n",
      "(i, norm(r)) = (6, 1.563964809246237)\n",
      "(i, norm(r)) = (7, 0.21781412142356232)\n",
      "(i, norm(r)) = (8, 0.0024249577284123367)\n",
      "(i, norm(r)) = (9, 3.9156030587700096e-7)\n",
      "(i, norm(r)) = (1, 995.2026311964539)\n",
      "(i, norm(r)) = (2, 61.17148865519613)\n",
      "(i, norm(r)) = (3, 8.914902777535195)\n",
      "(i, norm(r)) = (4, 5.53925582245801)\n",
      "(i, norm(r)) = (5, 3.9394173761495153)\n",
      "(i, norm(r)) = (6, 1.9677763463110598)\n",
      "(i, norm(r)) = (7, 0.35766292779804637)\n",
      "(i, norm(r)) = (8, 0.010279368021841094)\n",
      "(i, norm(r)) = (9, 7.342440109271671e-6)\n",
      "(i, norm(r)) = (10, 1.0583758201335668e-11)\n",
      "(i, norm(r)) = (1, 994.0365772859614)\n",
      "(i, norm(r)) = (2, 60.468479565950744)\n",
      "(i, norm(r)) = (3, 8.976618038853536)\n",
      "(i, norm(r)) = (4, 6.00188907088205)\n",
      "(i, norm(r)) = (5, 4.411158919685252)\n",
      "(i, norm(r)) = (6, 2.417340029796407)\n",
      "(i, norm(r)) = (7, 0.5598324404830818)\n",
      "(i, norm(r)) = (8, 0.025673855284058602)\n",
      "(i, norm(r)) = (9, 4.7699737638598625e-5)\n",
      "(i, norm(r)) = (10, 2.216667115149497e-10)\n",
      "(i, norm(r)) = (1, 992.8791407181792)\n",
      "(i, norm(r)) = (2, 59.96817796454579)\n",
      "(i, norm(r)) = (3, 9.141498018161629)\n",
      "(i, norm(r)) = (4, 6.3694980521687095)\n",
      "(i, norm(r)) = (5, 4.7582437676239655)\n",
      "(i, norm(r)) = (6, 2.746661624730865)\n",
      "(i, norm(r)) = (7, 0.6770870896710698)\n",
      "(i, norm(r)) = (8, 0.03555061185892614)\n",
      "(i, norm(r)) = (9, 9.662374007960756e-5)\n",
      "(i, norm(r)) = (10, 8.289597367010558e-10)\n",
      "(i, norm(r)) = (1, 991.7323970928712)\n",
      "(i, norm(r)) = (2, 59.480185546542984)\n",
      "(i, norm(r)) = (3, 9.19976071133194)\n",
      "(i, norm(r)) = (4, 6.693044926474488)\n",
      "(i, norm(r)) = (5, 5.107930994230423)\n",
      "(i, norm(r)) = (6, 3.0736351130198765)\n",
      "(i, norm(r)) = (7, 0.8449093275989467)\n",
      "(i, norm(r)) = (8, 0.050525172402953504)\n",
      "(i, norm(r)) = (9, 0.00020862171828838592)\n",
      "(i, norm(r)) = (10, 3.3836662285818097e-9)\n",
      "(i, norm(r)) = (1, 990.5979038233154)\n",
      "(i, norm(r)) = (2, 58.67932845246229)\n",
      "(i, norm(r)) = (3, 9.403885538585998)\n",
      "(i, norm(r)) = (4, 6.933241320079727)\n",
      "(i, norm(r)) = (5, 5.292229999421292)\n",
      "(i, norm(r)) = (6, 3.2516421117427132)\n",
      "(i, norm(r)) = (7, 0.9379005076093986)\n",
      "(i, norm(r)) = (8, 0.05893155379932215)\n",
      "(i, norm(r)) = (9, 0.0002814681050662802)\n",
      "(i, norm(r)) = (10, 5.717397046818916e-9)\n",
      "(i, norm(r)) = (1, 989.4768600010674)\n",
      "(i, norm(r)) = (2, 58.13953784017133)\n",
      "(i, norm(r)) = (3, 9.32353528221089)\n",
      "(i, norm(r)) = (4, 7.053033491063777)\n",
      "(i, norm(r)) = (5, 5.472040728159041)\n",
      "(i, norm(r)) = (6, 3.3865877684313954)\n",
      "(i, norm(r)) = (7, 0.9803479234997194)\n",
      "(i, norm(r)) = (8, 0.06378721188400026)\n",
      "(i, norm(r)) = (9, 0.0003137183845047145)\n",
      "(i, norm(r)) = (10, 6.967235638492705e-9)\n",
      "(i, norm(r)) = (1, 988.3702118451652)\n",
      "(i, norm(r)) = (2, 57.623764242351555)\n",
      "(i, norm(r)) = (3, 9.353011976274786)\n",
      "(i, norm(r)) = (4, 6.999286253538275)\n",
      "(i, norm(r)) = (5, 5.417338041391973)\n",
      "(i, norm(r)) = (6, 3.1546137033051345)\n",
      "(i, norm(r)) = (7, 0.6097133168915301)\n",
      "(i, norm(r)) = (8, 0.025997997578263765)\n",
      "(i, norm(r)) = (9, 4.1580422256535115e-5)\n",
      "(i, norm(r)) = (10, 1.3894852914429514e-10)\n",
      "(i, norm(r)) = (1, 987.2787231568078)\n",
      "(i, norm(r)) = (2, 57.02072505257459)\n",
      "(i, norm(r)) = (3, 9.710973500980707)\n",
      "(i, norm(r)) = (4, 7.508002556607664)\n",
      "(i, norm(r)) = (5, 5.980919628282684)\n",
      "(i, norm(r)) = (6, 3.7965147562152612)\n",
      "(i, norm(r)) = (7, 1.16869609828842)\n",
      "(i, norm(r)) = (8, 0.19241822894412272)\n",
      "(i, norm(r)) = (9, 0.0012921310965863225)\n",
      "(i, norm(r)) = (10, 6.646432423235436e-8)\n",
      "(i, norm(r)) = (1, 986.2030231219568)\n",
      "(i, norm(r)) = (2, 56.405046761217235)\n",
      "(i, norm(r)) = (3, 9.531844123932794)\n",
      "(i, norm(r)) = (4, 7.23880341274189)\n",
      "(i, norm(r)) = (5, 5.473376828209583)\n",
      "(i, norm(r)) = (6, 3.1025475697228146)\n",
      "(i, norm(r)) = (7, 0.42447123437470347)\n",
      "(i, norm(r)) = (8, 0.00845960786929305)\n",
      "(i, norm(r)) = (9, 3.5316907588599093e-6)\n",
      "(i, norm(r)) = (10, 1.8519400738392335e-11)\n",
      "(i, norm(r)) = (1, 985.1436392276354)\n",
      "(i, norm(r)) = (2, 55.48239495126993)\n",
      "(i, norm(r)) = (3, 9.513274716247068)\n",
      "(i, norm(r)) = (4, 6.844896097696122)\n",
      "(i, norm(r)) = (5, 4.694688075994071)\n",
      "(i, norm(r)) = (6, 2.0205105656949103)\n",
      "(i, norm(r)) = (7, 0.2401068920792138)\n",
      "(i, norm(r)) = (8, 0.0026219160096225)\n",
      "(i, norm(r)) = (9, 8.597502917822103e-7)\n",
      "(i, norm(r)) = (1, 984.1010203119762)\n",
      "(i, norm(r)) = (2, 54.727866097461614)\n",
      "(i, norm(r)) = (3, 9.078560185151336)\n",
      "(i, norm(r)) = (4, 6.320053428448883)\n",
      "(i, norm(r)) = (5, 4.190260473353298)\n",
      "(i, norm(r)) = (6, 1.3167748329972704)\n",
      "(i, norm(r)) = (7, 0.20534900987016175)\n",
      "(i, norm(r)) = (8, 0.0030165841681629286)\n",
      "(i, norm(r)) = (9, 1.0747494693354236e-6)\n",
      "(i, norm(r)) = (10, 2.0645986880137408e-11)\n",
      "(i, norm(r)) = (1, 983.0755528229166)\n",
      "(i, norm(r)) = (2, 54.257449038048854)\n",
      "(i, norm(r)) = (3, 9.31890086737414)\n",
      "(i, norm(r)) = (4, 6.615409650649085)\n",
      "(i, norm(r)) = (5, 4.49481644048645)\n",
      "(i, norm(r)) = (6, 1.5275360278258143)\n",
      "(i, norm(r)) = (7, 0.22290530169731054)\n",
      "(i, norm(r)) = (8, 0.002779526238989292)\n",
      "(i, norm(r)) = (9, 9.289326020757742e-7)\n"
     ]
    }
   ],
   "cell_type": "code",
   "source": [
    "function solve_nonlinear_timehistory(buffer, dh, ch, l2_proj, qp_evaluator; time_history)\n",
    "    maxiter = 100\n",
    "    tolerance = 1e-6\n",
    "    K = allocate_matrix(dh)\n",
    "    r = zeros(ndofs(dh))\n",
    "    a = zeros(ndofs(dh))\n",
    "    # Prepare postprocessing\n",
    "    pvd = paraview_collection(\"multiple_materials\")\n",
    "    for (n, t) in enumerate(time_history)\n",
    "        # Update and apply the Dirichlet boundary conditions\n",
    "        update!(ch, t)\n",
    "        apply!(a, ch)\n",
    "        for i in 1:maxiter\n",
    "            # Assemble the system\n",
    "            assembler = start_assemble(K, r)\n",
    "            work!(assembler, buffer; a=a)\n",
    "            # Apply boundary conditions\n",
    "            apply_zero!(K, r, ch)\n",
    "            # Check convergence\n",
    "            @show (i, norm(r))\n",
    "            norm(r) < tolerance && break\n",
    "            i == maxiter && error(\"Did not converge\")\n",
    "            # Solve the linear system and update the dof vector\n",
    "            a .-= K \\ r\n",
    "            apply!(a, ch)\n",
    "        end\n",
    "\n",
    "        # If converged, update the old state variables to the current.\n",
    "        update_states!(buffer)\n",
    "\n",
    "        # Postprocess\n",
    "        work!(qp_evaluator, buffer; a=a)\n",
    "        stresses = project(l2_proj, qp_evaluator.data)\n",
    "        VTKGridFile(\"multiple_materials_$n\", dh) do vtk\n",
    "            write_solution(vtk, dh, a)\n",
    "            write_projection(vtk, l2_proj, stresses, \"stress\")\n",
    "            Ferrite.write_cellset(vtk, dh.grid, \"inclusion\")\n",
    "            pvd[t] = vtk\n",
    "        end\n",
    "    end\n",
    "    close(pvd)\n",
    "    return nothing\n",
    "end;\n",
    "solve_nonlinear_timehistory(buffer, dh, ch, proj, qe; time_history=collect(range(0, 1, 20)));"
   ],
   "metadata": {},
   "execution_count": 13
  },
  {
   "cell_type": "markdown",
   "source": [
    "---\n",
    "\n",
    "*This notebook was generated using [Literate.jl](https://github.com/fredrikekre/Literate.jl).*"
   ],
   "metadata": {}
  }
 ],
 "nbformat_minor": 3,
 "metadata": {
  "language_info": {
   "file_extension": ".jl",
   "mimetype": "application/julia",
   "name": "julia",
   "version": "1.10.5"
  },
  "kernelspec": {
   "name": "julia-1.10",
   "display_name": "Julia 1.10.5",
   "language": "julia"
  }
 },
 "nbformat": 4
}
