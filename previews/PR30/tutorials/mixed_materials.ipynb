{
 "cells": [
  {
   "cell_type": "markdown",
   "source": [
    "# Multiple materials\n",
    "In this tutorial, we will see how we can assemble a domain and solve a problem\n",
    "where we have multiple material behaviors. In this simple case, we will consider\n",
    "an elastic inclusion, embedded in a plastically deforming matrix.\n",
    "For this example, we'll use material models defined in the\n",
    "![results](mixed_materials.png)\n",
    "**Figure 1:** Results showing the norm of the stress\n",
    "\n",
    "[`MechanicalMaterialModels.jl`](https://github.com/KnutAM/MechanicalMaterialModels.jl)\n",
    "package, which defines models according to the `MaterialModelsBase` interface.\n",
    "\n",
    "The full script without intermediate comments is available at the\n",
    "bottom of this page."
   ],
   "metadata": {}
  },
  {
   "outputs": [],
   "cell_type": "code",
   "source": [
    "using Ferrite, FerriteAssembly, MaterialModelsBase, MechanicalMaterialModels, WriteVTK"
   ],
   "metadata": {},
   "execution_count": 1
  },
  {
   "cell_type": "markdown",
   "source": [
    "## Setup Ferrite quantities\n",
    "We start by the grid with sets for the inclusion with\n",
    "radius 0.5 and the surrounding matrix."
   ],
   "metadata": {}
  },
  {
   "outputs": [],
   "cell_type": "code",
   "source": [
    "function create_grid_with_inclusion()\n",
    "    p1 = Vec((-1.0, -1.0))\n",
    "    p2 = Vec(( 1.0,  1.0))\n",
    "    grid = generate_grid(Quadrilateral, (100, 100), p1, p2)\n",
    "    addcellset!(grid, \"inclusion\", x -> norm(x) < 0.5)\n",
    "    addcellset!(grid, \"matrix\", setdiff(1:getncells(grid), getcellset(grid, \"inclusion\")))\n",
    "    return grid\n",
    "end\n",
    "grid = create_grid_with_inclusion();"
   ],
   "metadata": {},
   "execution_count": 2
  },
  {
   "cell_type": "markdown",
   "source": [
    "Define interpolation"
   ],
   "metadata": {}
  },
  {
   "outputs": [],
   "cell_type": "code",
   "source": [
    "ip = Lagrange{RefQuadrilateral,1}()^2;"
   ],
   "metadata": {},
   "execution_count": 3
  },
  {
   "cell_type": "markdown",
   "source": [
    "Followed by the dof handler"
   ],
   "metadata": {}
  },
  {
   "outputs": [],
   "cell_type": "code",
   "source": [
    "dh = DofHandler(grid)\n",
    "add!(dh, :u, ip)\n",
    "close!(dh);"
   ],
   "metadata": {},
   "execution_count": 4
  },
  {
   "cell_type": "markdown",
   "source": [
    "And then Dirichlet conditions"
   ],
   "metadata": {}
  },
  {
   "outputs": [],
   "cell_type": "code",
   "source": [
    "ch = ConstraintHandler(dh)\n",
    "add!(ch, Dirichlet(:u, getfacetset(grid,\"left\"), Returns(0.0), 1))\n",
    "add!(ch, Dirichlet(:u, getfacetset(grid,\"bottom\"), Returns(0.0), 2))\n",
    "f_dbc(x,t) = 0.01 * t # 1 % strain at t = 1\n",
    "add!(ch, Dirichlet(:u, getfacetset(grid, \"right\"), f_dbc, 1))\n",
    "close!(ch);"
   ],
   "metadata": {},
   "execution_count": 5
  },
  {
   "cell_type": "markdown",
   "source": [
    "Define cellvalues"
   ],
   "metadata": {}
  },
  {
   "outputs": [],
   "cell_type": "code",
   "source": [
    "qr = QuadratureRule{RefQuadrilateral}(2)\n",
    "cv = CellValues(qr, ip);"
   ],
   "metadata": {},
   "execution_count": 6
  },
  {
   "cell_type": "markdown",
   "source": [
    "## FerriteAssembly setup\n",
    "We first define the material models, and use the `ReducedStressState` to get a\n",
    "plane strain response."
   ],
   "metadata": {}
  },
  {
   "outputs": [],
   "cell_type": "code",
   "source": [
    "elastic_material = ReducedStressState(PlaneStrain(), LinearElastic(;E=210e3, ν=0.3))\n",
    "\n",
    "plastic_material = ReducedStressState(PlaneStrain(), Plastic(;\n",
    "    elastic   = LinearElastic(E = 210e3, ν = 0.3),\n",
    "    yield     = 100.0,\n",
    "    isotropic = Voce(;Hiso = 100e3, κ∞ = 1000.0),\n",
    "    kinematic = ArmstrongFrederick(;Hkin = 0.0, β∞ = 1.0) # No kinematic hardening\n",
    "    ));"
   ],
   "metadata": {},
   "execution_count": 7
  },
  {
   "cell_type": "markdown",
   "source": [
    "We need to create the domain buffers, where the difference from earlier tutorials\n",
    "is that we have multiple domains. The domain specification should then be a `Dict`\n",
    "with one entry for each domain:"
   ],
   "metadata": {}
  },
  {
   "outputs": [],
   "cell_type": "code",
   "source": [
    "domains = Dict(\n",
    "    \"elastic\"=>DomainSpec(dh, elastic_material, cv; set=getcellset(grid, \"inclusion\")),\n",
    "    \"plastic\"=>DomainSpec(dh, plastic_material, cv; set=getcellset(grid, \"matrix\")) );"
   ],
   "metadata": {},
   "execution_count": 8
  },
  {
   "cell_type": "markdown",
   "source": [
    "Now, we can call `setup_domainbuffers`, which accepts the same keyword arguments\n",
    "as `setup_domainbuffer`. Here, we accept the defaults."
   ],
   "metadata": {}
  },
  {
   "outputs": [],
   "cell_type": "code",
   "source": [
    "buffer = setup_domainbuffers(domains);"
   ],
   "metadata": {},
   "execution_count": 9
  },
  {
   "cell_type": "markdown",
   "source": [
    "### Postprocessing setup\n",
    "In this tutorial, we also demonstrate how the `QuadratureEvaluator` can be used\n",
    "to obtain quadrature point data which can be used to visualize the results, in this\n",
    "case the stresses. Specifically, we will use the evaluated data in combination with\n",
    "`Ferrite`'s `L2Projector`.\n",
    "\n",
    "First, we define a function to calculate the stresses for each material.\n",
    "Note that here we have to use some internals from `MechanicalMaterialModels.jl`,\n",
    "but this should be solved with\n",
    "[MaterialModelsBase#12](https://github.com/KnutAM/MaterialModelsBase.jl/issues/12)."
   ],
   "metadata": {}
  },
  {
   "outputs": [],
   "cell_type": "code",
   "source": [
    "function calculate_stress(m::ReducedStressState, u, ∇u, qp_state)\n",
    "    ϵ = MaterialModelsBase.expand_tensordim(m.stress_state, symmetric(∇u))\n",
    "    σ = calculate_stress(m.material, ϵ, qp_state)\n",
    "    return MaterialModelsBase.reduce_tensordim(m.stress_state, σ)\n",
    "end\n",
    "calculate_stress(m::LinearElastic, ϵ, qp_state) = m.C ⊡ ϵ\n",
    "calculate_stress(m::Plastic, ϵ, qp_state) = calculate_stress(m.elastic, ϵ - qp_state.ϵp, qp_state);"
   ],
   "metadata": {},
   "execution_count": 10
  },
  {
   "cell_type": "markdown",
   "source": [
    "And then we create the QuadratureEvaluator including this function"
   ],
   "metadata": {}
  },
  {
   "outputs": [],
   "cell_type": "code",
   "source": [
    "qe = QuadratureEvaluator{SymmetricTensor{2,2,Float64,3}}(buffer, calculate_stress);"
   ],
   "metadata": {},
   "execution_count": 11
  },
  {
   "cell_type": "markdown",
   "source": [
    "Finally, we'll setup the L2Projector that we will use"
   ],
   "metadata": {}
  },
  {
   "outputs": [],
   "cell_type": "code",
   "source": [
    "proj = L2Projector(grid)\n",
    "add!(proj, 1:getncells(grid), ip; qr_rhs = qr)\n",
    "close!(proj);"
   ],
   "metadata": {},
   "execution_count": 12
  },
  {
   "cell_type": "markdown",
   "source": [
    "## Solving the nonlinear problem via time-stepping"
   ],
   "metadata": {}
  },
  {
   "outputs": [],
   "cell_type": "code",
   "source": [
    "function solve_nonlinear_timehistory(buffer, dh, ch, l2_proj, qp_evaluator; time_history)\n",
    "    maxiter = 100\n",
    "    tolerance = 1e-6\n",
    "    K = allocate_matrix(dh)\n",
    "    r = zeros(ndofs(dh))\n",
    "    a = zeros(ndofs(dh))\n",
    "    # Prepare postprocessing\n",
    "    pvd = paraview_collection(\"multiple_materials\")\n",
    "    for (n, t) in enumerate(time_history)\n",
    "        # Update and apply the Dirichlet boundary conditions\n",
    "        update!(ch, t)\n",
    "        apply!(a, ch)\n",
    "        for i in 1:maxiter\n",
    "            # Assemble the system\n",
    "            assembler = start_assemble(K, r)\n",
    "            work!(assembler, buffer; a=a)\n",
    "            # Apply boundary conditions\n",
    "            apply_zero!(K, r, ch)\n",
    "            # Check convergence\n",
    "            norm(r) < tolerance && break\n",
    "            i == maxiter && error(\"Did not converge\")\n",
    "            # Solve the linear system and update the dof vector\n",
    "            a .-= K \\ r\n",
    "            apply!(a, ch)\n",
    "        end\n",
    "\n",
    "        # If converged, update the old state variables to the current.\n",
    "        update_states!(buffer)\n",
    "\n",
    "        # Postprocess\n",
    "        work!(qp_evaluator, buffer; a=a)\n",
    "        stresses = project(l2_proj, qp_evaluator.data)\n",
    "        VTKGridFile(\"multiple_materials_$n\", dh) do vtk\n",
    "            write_solution(vtk, dh, a)\n",
    "            write_projection(vtk, l2_proj, stresses, \"stress\")\n",
    "            Ferrite.write_cellset(vtk, dh.grid, \"inclusion\")\n",
    "            pvd[t] = vtk\n",
    "        end\n",
    "    end\n",
    "    close(pvd)\n",
    "    return nothing\n",
    "end;\n",
    "solve_nonlinear_timehistory(buffer, dh, ch, proj, qe; time_history=collect(range(0, 1, 20)));"
   ],
   "metadata": {},
   "execution_count": 13
  },
  {
   "cell_type": "markdown",
   "source": [
    "---\n",
    "\n",
    "*This notebook was generated using [Literate.jl](https://github.com/fredrikekre/Literate.jl).*"
   ],
   "metadata": {}
  }
 ],
 "nbformat_minor": 3,
 "metadata": {
  "language_info": {
   "file_extension": ".jl",
   "mimetype": "application/julia",
   "name": "julia",
   "version": "1.10.5"
  },
  "kernelspec": {
   "name": "julia-1.10",
   "display_name": "Julia 1.10.5",
   "language": "julia"
  }
 },
 "nbformat": 4
}
