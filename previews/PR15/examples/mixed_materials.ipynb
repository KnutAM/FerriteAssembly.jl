{
 "cells": [
  {
   "cell_type": "markdown",
   "source": [
    "# Multiple materials\n",
    "This example shows how to use two different materials on a\n",
    "grid with the same cells everywhere. The key with this example is how\n",
    "* Setup multiple `AssemblyDomain`s\n",
    "* Run threaded assembly\n",
    "\n",
    "In addition to `J2Plasticity`, we setup a portion of the domain to use the `ElasticMaterial`\n",
    "that is also defined in [`J2Plasticity.jl`](J2Plasticity.jl) file."
   ],
   "metadata": {}
  },
  {
   "outputs": [],
   "cell_type": "code",
   "source": [
    "using Tensors, MaterialModelsBase, Ferrite, FerriteAssembly\n",
    "include(\"J2Plasticity.jl\");"
   ],
   "metadata": {},
   "execution_count": 1
  },
  {
   "cell_type": "markdown",
   "source": [
    "We start by setting up the"
   ],
   "metadata": {}
  },
  {
   "outputs": [],
   "cell_type": "code",
   "source": [
    "grid = generate_grid(Tetrahedron, (20,2,4), zero(Vec{3}), Vec((10.0,1.0,1.0)))\n",
    "cellvalues = CellVectorValues(\n",
    "    QuadratureRule{3,RefTetrahedron}(2), Lagrange{3, RefTetrahedron, 1}())\n",
    "dh = DofHandler(grid); add!(dh, :u, 3); close!(dh) # Create dofhandler\n",
    "K = create_sparsity_pattern(dh)\n",
    "r = zeros(ndofs(dh))\n",
    "a = zeros(ndofs(dh));"
   ],
   "metadata": {},
   "execution_count": 2
  },
  {
   "cell_type": "markdown",
   "source": [
    "In order to setup a simulation with multiple domains, we must use the\n",
    "`AssemblyDomain` structure to setup the simulation.\n",
    "We start by creating the elastic domain,"
   ],
   "metadata": {}
  },
  {
   "outputs": [],
   "cell_type": "code",
   "source": [
    "addcellset!(grid, \"elastic\", x -> x[1] <= 5.0+eps())\n",
    "elastic_material = ElasticMaterial(E=200.0e9, ν=0.3)\n",
    "elastic_domain = AssemblyDomain(\"elast\", dh, elastic_material, cellvalues; cellset=getcellset(grid, \"elastic\"));"
   ],
   "metadata": {},
   "execution_count": 3
  },
  {
   "cell_type": "markdown",
   "source": [
    "And then create the plastic domain"
   ],
   "metadata": {}
  },
  {
   "outputs": [],
   "cell_type": "code",
   "source": [
    "plastic_cellset = setdiff(1:getncells(grid), getcellset(grid,\"elastic\"))\n",
    "plastic_material = J2Plasticity(200.0e9, 0.3, 200.0e6, 10.0e9)\n",
    "plastic_domain = AssemblyDomain(\"plast\", dh, plastic_material, cellvalues; cellset=plastic_cellset);"
   ],
   "metadata": {},
   "execution_count": 4
  },
  {
   "cell_type": "markdown",
   "source": [
    "We can then setup the assembly, and in this case we would like to do the assembly threaded"
   ],
   "metadata": {}
  },
  {
   "outputs": [],
   "cell_type": "code",
   "source": [
    "buffers, old_states, new_states = setup_assembly([elastic_domain, plastic_domain]; threading=true);"
   ],
   "metadata": {},
   "execution_count": 5
  },
  {
   "cell_type": "markdown",
   "source": [
    "In this case, `buffers`, `old_states`, and `new_states` are `Dict{String}` with keys according to the\n",
    "names given to each `AssemblyDomain`. This is important for postprocessing, but for doing assembly,\n",
    "these can be passed directly:"
   ],
   "metadata": {}
  },
  {
   "outputs": [
    {
     "output_type": "execute_result",
     "data": {
      "text/plain": "\u001b[32m\u001b[1mTest Passed\u001b[22m\u001b[39m"
     },
     "metadata": {},
     "execution_count": 6
    }
   ],
   "cell_type": "code",
   "source": [
    "assembler = start_assemble(K, r)\n",
    "doassemble!(assembler, new_states, buffers; a=a, old_states=old_states);\n",
    "\n",
    "using Test #hide\n",
    "K_ref = create_sparsity_pattern(dh) #hide\n",
    "r_ref = zeros(ndofs(dh)) #hide\n",
    "a_ref = zeros(ndofs(dh)) #hide\n",
    "buffer, old_states, new_states = setup_assembly(dh, elastic_material, cellvalues) #hide\n",
    "assembler_ref = start_assemble(K_ref, r_ref)\n",
    "doassemble!(assembler_ref, new_states, buffer; a=a_ref, old_states=old_states) #hide\n",
    "@test K ≈ K_ref    #hide"
   ],
   "metadata": {},
   "execution_count": 6
  },
  {
   "cell_type": "markdown",
   "source": [
    "---\n",
    "\n",
    "*This notebook was generated using [Literate.jl](https://github.com/fredrikekre/Literate.jl).*"
   ],
   "metadata": {}
  }
 ],
 "nbformat_minor": 3,
 "metadata": {
  "language_info": {
   "file_extension": ".jl",
   "mimetype": "application/julia",
   "name": "julia",
   "version": "1.9.0"
  },
  "kernelspec": {
   "name": "julia-1.9",
   "display_name": "Julia 1.9.0",
   "language": "julia"
  }
 },
 "nbformat": 4
}
