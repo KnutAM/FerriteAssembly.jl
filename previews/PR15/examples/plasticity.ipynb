{
 "cells": [
  {
   "cell_type": "markdown",
   "source": [
    "# Plasticity\n",
    "This example shows how to assemble a plastic material following the\n",
    "[`MaterialModelsBase.jl`](https://github.com/KnutAM/MaterialModelsBase.jl)\n",
    "interface with `FerriteAssembly.jl`. The\n",
    "`element_routine!`)\n",
    "function implementation for any `MaterialModelsBase.AbstractMaterial` is already defined.\n",
    "This specific example shows how to\n",
    "* Assemble materials with state variables\n",
    "* Update state variables for the next time step\n",
    "\n",
    "## Implementation\n",
    "We start by the required packages"
   ],
   "metadata": {}
  },
  {
   "outputs": [],
   "cell_type": "code",
   "source": [
    "using Tensors, MaterialModelsBase, Ferrite, FerriteAssembly"
   ],
   "metadata": {},
   "execution_count": 1
  },
  {
   "cell_type": "markdown",
   "source": [
    "And then we define the `material_response` for the plasticity material in\n",
    "[`J2Plasticity.jl`](J2Plasticity.jl), which is basically the same as in\n",
    "[`Ferrite.jl`'s plasticity example](https://ferrite-fem.github.io/Ferrite.jl/stable/examples/plasticity/)"
   ],
   "metadata": {}
  },
  {
   "outputs": [],
   "cell_type": "code",
   "source": [
    "include(\"J2Plasticity.jl\");"
   ],
   "metadata": {},
   "execution_count": 2
  },
  {
   "cell_type": "markdown",
   "source": [
    "## Assembly\n",
    "With all required functions defined, we can now setup and assemble the finite element problem"
   ],
   "metadata": {}
  },
  {
   "outputs": [],
   "cell_type": "code",
   "source": [
    "material = J2Plasticity(200.0e9, 0.3, 200.0e6, 10.0e9);\n",
    "grid = generate_grid(Tetrahedron, (20,2,4), zero(Vec{3}), Vec((10.0,1.0,1.0)));\n",
    "cellvalues = CellVectorValues(\n",
    "    QuadratureRule{3,RefTetrahedron}(2), Lagrange{3, RefTetrahedron, 1}());\n",
    "dh = DofHandler(grid); add!(dh, :u, 3); close!(dh); # Create dofhandler\n",
    "K = create_sparsity_pattern(dh);\n",
    "r = zeros(ndofs(dh));"
   ],
   "metadata": {},
   "execution_count": 3
  },
  {
   "cell_type": "markdown",
   "source": [
    "Using the `setup_assembly` function,"
   ],
   "metadata": {}
  },
  {
   "outputs": [
    {
     "output_type": "execute_result",
     "data": {
      "text/plain": "(FerriteAssembly.DomainBuffer{false, FerriteAssembly.SubDofHandler{Ferrite.DofHandler{3, Ferrite.Grid{3, Ferrite.Tetrahedron, Float64}}, Nothing}, Vector{Int64}, FerriteAssembly.CellBuffer{3, Float64, Ferrite.CellVectorValues{3, Float64, Ferrite.RefTetrahedron, 9}, NamedTuple{(:u,), Tuple{UnitRange{Int64}}}, Main.var\"##313\".J2Plasticity{Float64, Tensors.SymmetricTensor{4, 3, Float64, 36}}, Vector{Main.var\"##313\".MaterialState{Float64, Tensors.SymmetricTensor{2, 3, Float64, 6}}}, Nothing, Nothing}, Nothing}(FerriteAssembly.SubDofHandler{Ferrite.DofHandler{3, Ferrite.Grid{3, Ferrite.Tetrahedron, Float64}}, Nothing}(Ferrite.DofHandler{3, Ferrite.Grid{3, Ferrite.Tetrahedron, Float64}}([:u], [3], Ferrite.Interpolation[Ferrite.Lagrange{3, Ferrite.RefTetrahedron, 1}()], [1, 2, 3, 4, 5, 6, 7, 8, 9, 10  …  690, 877, 878, 879, 943, 944, 945, 940, 941, 942], [1, 13, 25, 37, 49, 61, 73, 85, 97, 109  …  11413, 11425, 11437, 11449, 11461, 11473, 11485, 11497, 11509, 11521], Ferrite.ScalarWrapper{Bool}(true), Ferrite.Grid{3, Ferrite.Tetrahedron, Float64}(Ferrite.Tetrahedron[Ferrite.Tetrahedron((1, 2, 22, 85)), Ferrite.Tetrahedron((1, 64, 2, 85)), Ferrite.Tetrahedron((2, 23, 22, 85)), Ferrite.Tetrahedron((2, 86, 23, 85)), Ferrite.Tetrahedron((2, 64, 65, 85)), Ferrite.Tetrahedron((2, 65, 86, 85)), Ferrite.Tetrahedron((2, 3, 23, 86)), Ferrite.Tetrahedron((2, 65, 3, 86)), Ferrite.Tetrahedron((3, 24, 23, 86)), Ferrite.Tetrahedron((3, 87, 24, 86))  …  Ferrite.Tetrahedron((230, 251, 250, 313)), Ferrite.Tetrahedron((230, 314, 251, 313)), Ferrite.Tetrahedron((230, 292, 293, 313)), Ferrite.Tetrahedron((230, 293, 314, 313)), Ferrite.Tetrahedron((230, 231, 251, 314)), Ferrite.Tetrahedron((230, 293, 231, 314)), Ferrite.Tetrahedron((231, 252, 251, 314)), Ferrite.Tetrahedron((231, 315, 252, 314)), Ferrite.Tetrahedron((231, 293, 294, 314)), Ferrite.Tetrahedron((231, 294, 315, 314))], Ferrite.Node{3, Float64}[Ferrite.Node{3, Float64}([0.0, 0.0, 0.0]), Ferrite.Node{3, Float64}([0.5, 0.0, 0.0]), Ferrite.Node{3, Float64}([1.0, 0.0, 0.0]), Ferrite.Node{3, Float64}([1.5, 0.0, 0.0]), Ferrite.Node{3, Float64}([2.0, 0.0, 0.0]), Ferrite.Node{3, Float64}([2.5, 0.0, 0.0]), Ferrite.Node{3, Float64}([3.0, 0.0, 0.0]), Ferrite.Node{3, Float64}([3.5, 0.0, 0.0]), Ferrite.Node{3, Float64}([4.0, 0.0, 0.0]), Ferrite.Node{3, Float64}([4.5, 0.0, 0.0])  …  Ferrite.Node{3, Float64}([5.5, 1.0, 1.0]), Ferrite.Node{3, Float64}([6.0, 1.0, 1.0]), Ferrite.Node{3, Float64}([6.5, 1.0, 1.0]), Ferrite.Node{3, Float64}([7.0, 1.0, 1.0]), Ferrite.Node{3, Float64}([7.5, 1.0, 1.0]), Ferrite.Node{3, Float64}([8.0, 1.0, 1.0]), Ferrite.Node{3, Float64}([8.5, 1.0, 1.0]), Ferrite.Node{3, Float64}([9.0, 1.0, 1.0]), Ferrite.Node{3, Float64}([9.5, 1.0, 1.0]), Ferrite.Node{3, Float64}([10.0, 1.0, 1.0])], Dict{String, Set{Int64}}(), Dict{String, Set{Int64}}(), Dict{String, Set{Ferrite.FaceIndex}}(\"left\" => Set([Ferrite.FaceIndex((242, 2)), Ferrite.FaceIndex((482, 2)), Ferrite.FaceIndex((241, 4)), Ferrite.FaceIndex((362, 2)), Ferrite.FaceIndex((721, 4)), Ferrite.FaceIndex((481, 4)), Ferrite.FaceIndex((1, 4)), Ferrite.FaceIndex((361, 4)), Ferrite.FaceIndex((842, 2)), Ferrite.FaceIndex((601, 4)), Ferrite.FaceIndex((2, 2)), Ferrite.FaceIndex((121, 4)), Ferrite.FaceIndex((722, 2)), Ferrite.FaceIndex((122, 2)), Ferrite.FaceIndex((602, 2)), Ferrite.FaceIndex((841, 4))]), \"bottom\" => Set([Ferrite.FaceIndex((49, 1)), Ferrite.FaceIndex((25, 1)), Ferrite.FaceIndex((145, 1)), Ferrite.FaceIndex((223, 1)), Ferrite.FaceIndex((9, 1)), Ferrite.FaceIndex((147, 1)), Ferrite.FaceIndex((153, 1)), Ferrite.FaceIndex((97, 1)), Ferrite.FaceIndex((91, 1)), Ferrite.FaceIndex((117, 1))  …  Ferrite.FaceIndex((229, 1)), Ferrite.FaceIndex((31, 1)), Ferrite.FaceIndex((127, 1)), Ferrite.FaceIndex((21, 1)), Ferrite.FaceIndex((175, 1)), Ferrite.FaceIndex((51, 1)), Ferrite.FaceIndex((139, 1)), Ferrite.FaceIndex((123, 1)), Ferrite.FaceIndex((231, 1)), Ferrite.FaceIndex((199, 1))]), \"right\" => Set([Ferrite.FaceIndex((238, 1)), Ferrite.FaceIndex((598, 1)), Ferrite.FaceIndex((838, 1)), Ferrite.FaceIndex((120, 1)), Ferrite.FaceIndex((480, 1)), Ferrite.FaceIndex((358, 1)), Ferrite.FaceIndex((720, 1)), Ferrite.FaceIndex((240, 1)), Ferrite.FaceIndex((960, 1)), Ferrite.FaceIndex((360, 1)), Ferrite.FaceIndex((840, 1)), Ferrite.FaceIndex((478, 1)), Ferrite.FaceIndex((958, 1)), Ferrite.FaceIndex((600, 1)), Ferrite.FaceIndex((118, 1)), Ferrite.FaceIndex((718, 1))]), \"back\" => Set([Ferrite.FaceIndex((124, 3)), Ferrite.FaceIndex((850, 3)), Ferrite.FaceIndex((448, 3)), Ferrite.FaceIndex((189, 3)), Ferrite.FaceIndex((675, 3)), Ferrite.FaceIndex((843, 3)), Ferrite.FaceIndex((861, 3)), Ferrite.FaceIndex((634, 3)), Ferrite.FaceIndex((676, 3)), Ferrite.FaceIndex((381, 3))  …  Ferrite.FaceIndex((694, 3)), Ferrite.FaceIndex((616, 3)), Ferrite.FaceIndex((382, 3)), Ferrite.FaceIndex((147, 3)), Ferrite.FaceIndex((622, 3)), Ferrite.FaceIndex((231, 3)), Ferrite.FaceIndex((387, 3)), Ferrite.FaceIndex((195, 3)), Ferrite.FaceIndex((165, 3)), Ferrite.FaceIndex((388, 3))]), \"top\" => Set([Ferrite.FaceIndex((942, 3)), Ferrite.FaceIndex((725, 3)), Ferrite.FaceIndex((869, 3)), Ferrite.FaceIndex((815, 3)), Ferrite.FaceIndex((905, 3)), Ferrite.FaceIndex((947, 3)), Ferrite.FaceIndex((840, 3)), Ferrite.FaceIndex((774, 3)), Ferrite.FaceIndex((894, 3)), Ferrite.FaceIndex((912, 3))  …  Ferrite.FaceIndex((804, 3)), Ferrite.FaceIndex((864, 3)), Ferrite.FaceIndex((761, 3)), Ferrite.FaceIndex((827, 3)), Ferrite.FaceIndex((893, 3)), Ferrite.FaceIndex((780, 3)), Ferrite.FaceIndex((930, 3)), Ferrite.FaceIndex((863, 3)), Ferrite.FaceIndex((917, 3)), Ferrite.FaceIndex((845, 3))]), \"front\" => Set([Ferrite.FaceIndex((797, 1)), Ferrite.FaceIndex((302, 1)), Ferrite.FaceIndex((746, 1)), Ferrite.FaceIndex((836, 1)), Ferrite.FaceIndex((257, 1)), Ferrite.FaceIndex((290, 1)), Ferrite.FaceIndex((533, 1)), Ferrite.FaceIndex((761, 1)), Ferrite.FaceIndex((506, 1)), Ferrite.FaceIndex((485, 1))  …  Ferrite.FaceIndex((566, 1)), Ferrite.FaceIndex((809, 1)), Ferrite.FaceIndex((740, 1)), Ferrite.FaceIndex((56, 1)), Ferrite.FaceIndex((71, 1)), Ferrite.FaceIndex((749, 1)), Ferrite.FaceIndex((728, 1)), Ferrite.FaceIndex((260, 1)), Ferrite.FaceIndex((308, 1)), Ferrite.FaceIndex((542, 1))])), Dict{String, Set{Ferrite.EdgeIndex}}(), Dict{String, Set{Ferrite.VertexIndex}}(), sparse([1, 4, 1, 2, 1, 1, 1, 1, 1, 1  …  3, 3, 3, 3, 3, 1, 3, 3, 1, 3], [1, 1, 2, 2, 3, 5, 7, 8, 9, 11  …  951, 952, 953, 954, 957, 958, 958, 959, 960, 960], Bool[1, 1, 1, 1, 1, 1, 1, 1, 1, 1  …  1, 1, 1, 1, 1, 1, 1, 1, 1, 1], 4, 960)), Ferrite.ScalarWrapper{Int64}(945)), nothing), [1, 2, 3, 4, 5, 6, 7, 8, 9, 10  …  951, 952, 953, 954, 955, 956, 957, 958, 959, 960], FerriteAssembly.CellBuffer{3, Float64, Ferrite.CellVectorValues{3, Float64, Ferrite.RefTetrahedron, 9}, NamedTuple{(:u,), Tuple{UnitRange{Int64}}}, Main.var\"##313\".J2Plasticity{Float64, Tensors.SymmetricTensor{4, 3, Float64, 36}}, Vector{Main.var\"##313\".MaterialState{Float64, Tensors.SymmetricTensor{2, 3, Float64, 6}}}, Nothing, Nothing}([0.0, 0.0, 0.0, 0.0, 0.0, 0.0, 0.0, 0.0, 0.0, 0.0, 0.0, 0.0], [0.0, 0.0, 0.0, 0.0, 0.0, 0.0, 0.0, 0.0, 0.0, 0.0, 0.0, 0.0], [0.0, 0.0, 0.0, 0.0, 0.0, 0.0, 0.0, 0.0, 0.0, 0.0, 0.0, 0.0], [0.0 0.0 … 0.0 0.0; 0.0 0.0 … 0.0 0.0; … ; 0.0 0.0 … 0.0 0.0; 0.0 0.0 … 0.0 0.0], [0, 0, 0, 0, 0, 0, 0, 0, 0, 0, 0, 0], Tensors.Vec{3, Float64}[[0.0, 0.0, 0.0], [0.0, 0.0, 0.0], [0.0, 0.0, 0.0], [0.0, 0.0, 0.0]], Ferrite.CellVectorValues{3, Float64, Ferrite.RefTetrahedron, 9}(Tensors.Vec{3, Float64}[[0.13819660112501045, 0.0, 0.0] [0.13819660112501045, 0.0, 0.0] [0.13819660112501042, 0.0, 0.0] [0.5854101966249684, 0.0, 0.0]; [0.0, 0.13819660112501045, 0.0] [0.0, 0.13819660112501045, 0.0] [0.0, 0.13819660112501042, 0.0] [0.0, 0.5854101966249684, 0.0]; … ; [0.0, 0.1381966011250105, 0.0] [0.0, 0.1381966011250105, 0.0] [0.0, 0.5854101966249685, 0.0] [0.0, 0.1381966011250105, 0.0]; [0.0, 0.0, 0.1381966011250105] [0.0, 0.0, 0.1381966011250105] [0.0, 0.0, 0.5854101966249685] [0.0, 0.0, 0.1381966011250105]], Tensors.Tensor{2, 3, Float64, 9}[[0.0 0.0 -4.0; 0.0 0.0 0.0; 0.0 0.0 0.0] [0.0 0.0 -4.0; 0.0 0.0 0.0; 0.0 0.0 0.0] [0.0 0.0 -4.0; 0.0 0.0 0.0; 0.0 0.0 0.0] [0.0 0.0 -4.0; 0.0 0.0 0.0; 0.0 0.0 0.0]; [0.0 0.0 0.0; 0.0 0.0 -4.0; 0.0 0.0 0.0] [0.0 0.0 0.0; 0.0 0.0 -4.0; 0.0 0.0 0.0] [0.0 0.0 0.0; 0.0 0.0 -4.0; 0.0 0.0 0.0] [0.0 0.0 0.0; 0.0 0.0 -4.0; 0.0 0.0 0.0]; … ; [0.0 0.0 0.0; -2.0 0.0 0.0; 0.0 0.0 0.0] [0.0 0.0 0.0; -2.0 0.0 0.0; 0.0 0.0 0.0] [0.0 0.0 0.0; -2.0 0.0 0.0; 0.0 0.0 0.0] [0.0 0.0 0.0; -2.0 0.0 0.0; 0.0 0.0 0.0]; [0.0 0.0 0.0; 0.0 0.0 0.0; -2.0 0.0 0.0] [0.0 0.0 0.0; 0.0 0.0 0.0; -2.0 0.0 0.0] [0.0 0.0 0.0; 0.0 0.0 0.0; -2.0 0.0 0.0] [0.0 0.0 0.0; 0.0 0.0 0.0; -2.0 0.0 0.0]], Tensors.Tensor{2, 3, Float64, 9}[[-1.0 -1.0 -1.0; 0.0 0.0 0.0; 0.0 0.0 0.0] [-1.0 -1.0 -1.0; 0.0 0.0 0.0; 0.0 0.0 0.0] [-1.0 -1.0 -1.0; 0.0 0.0 0.0; 0.0 0.0 0.0] [-1.0 -1.0 -1.0; 0.0 0.0 0.0; 0.0 0.0 0.0]; [0.0 0.0 0.0; -1.0 -1.0 -1.0; 0.0 0.0 0.0] [0.0 0.0 0.0; -1.0 -1.0 -1.0; 0.0 0.0 0.0] [0.0 0.0 0.0; -1.0 -1.0 -1.0; 0.0 0.0 0.0] [0.0 0.0 0.0; -1.0 -1.0 -1.0; 0.0 0.0 0.0]; … ; [0.0 0.0 0.0; 0.0 0.0 1.0; 0.0 0.0 0.0] [0.0 0.0 0.0; 0.0 0.0 1.0; 0.0 0.0 0.0] [0.0 0.0 0.0; 0.0 0.0 1.0; 0.0 0.0 0.0] [0.0 0.0 0.0; 0.0 0.0 1.0; 0.0 0.0 0.0]; [0.0 0.0 0.0; 0.0 0.0 0.0; 0.0 0.0 1.0] [0.0 0.0 0.0; 0.0 0.0 0.0; 0.0 0.0 1.0] [0.0 0.0 0.0; 0.0 0.0 0.0; 0.0 0.0 1.0] [0.0 0.0 0.0; 0.0 0.0 0.0; 0.0 0.0 1.0]], [0.0026041666666666665, 0.0026041666666666665, 0.0026041666666666665, 0.0026041666666666665], [0.13819660112501045 0.13819660112501045 0.13819660112501042 0.5854101966249684; 0.5854101966249685 0.1381966011250105 0.1381966011250105 0.1381966011250105; 0.1381966011250105 0.5854101966249685 0.1381966011250105 0.1381966011250105; 0.1381966011250105 0.1381966011250105 0.5854101966249685 0.1381966011250105], Tensors.Vec{3, Float64}[[-1.0, -1.0, -1.0] [-1.0, -1.0, -1.0] [-1.0, -1.0, -1.0] [-1.0, -1.0, -1.0]; [1.0, 0.0, 0.0] [1.0, 0.0, 0.0] [1.0, 0.0, 0.0] [1.0, 0.0, 0.0]; [0.0, 1.0, 0.0] [0.0, 1.0, 0.0] [0.0, 1.0, 0.0] [0.0, 1.0, 0.0]; [0.0, 0.0, 1.0] [0.0, 0.0, 1.0] [0.0, 0.0, 1.0] [0.0, 0.0, 1.0]], Ferrite.QuadratureRule{3, Ferrite.RefTetrahedron, Float64}([0.041666666666666664, 0.041666666666666664, 0.041666666666666664, 0.041666666666666664], Tensors.Vec{3, Float64}[[0.5854101966249685, 0.1381966011250105, 0.1381966011250105], [0.1381966011250105, 0.5854101966249685, 0.1381966011250105], [0.1381966011250105, 0.1381966011250105, 0.5854101966249685], [0.1381966011250105, 0.1381966011250105, 0.1381966011250105]]), Ferrite.Lagrange{3, Ferrite.RefTetrahedron, 1}(), Ferrite.Lagrange{3, Ferrite.RefTetrahedron, 1}()), NaN, -1, (u = 1:12,), Main.var\"##313\".J2Plasticity{Float64, Tensors.SymmetricTensor{4, 3, Float64, 36}}(7.692307692307692e10, 1.6666666666666666e11, 2.0e8, 1.0e10, [2.6923076923076923e11 0.0 0.0; 0.0 1.1538461538461536e11 0.0; 0.0 0.0 1.1538461538461536e11;;; 0.0 7.692307692307692e10 0.0; 7.692307692307692e10 0.0 0.0; 0.0 0.0 0.0;;; 0.0 0.0 7.692307692307692e10; 0.0 0.0 0.0; 7.692307692307692e10 0.0 0.0;;;; 0.0 7.692307692307692e10 0.0; 7.692307692307692e10 0.0 0.0; 0.0 0.0 0.0;;; 1.1538461538461536e11 0.0 0.0; 0.0 2.6923076923076923e11 0.0; 0.0 0.0 1.1538461538461536e11;;; 0.0 0.0 0.0; 0.0 0.0 7.692307692307692e10; 0.0 7.692307692307692e10 0.0;;;; 0.0 0.0 7.692307692307692e10; 0.0 0.0 0.0; 7.692307692307692e10 0.0 0.0;;; 0.0 0.0 0.0; 0.0 0.0 7.692307692307692e10; 0.0 7.692307692307692e10 0.0;;; 1.1538461538461536e11 0.0 0.0; 0.0 1.1538461538461536e11 0.0; 0.0 0.0 2.6923076923076923e11]), Main.var\"##313\".MaterialState{Float64, Tensors.SymmetricTensor{2, 3, Float64, 6}}[Main.var\"##313\".MaterialState{Float64, Tensors.SymmetricTensor{2, 3, Float64, 6}}([0.0 0.0 0.0; 0.0 0.0 0.0; 0.0 0.0 0.0], [0.0 0.0 0.0; 0.0 0.0 0.0; 0.0 0.0 0.0], 0.0), Main.var\"##313\".MaterialState{Float64, Tensors.SymmetricTensor{2, 3, Float64, 6}}([0.0 0.0 0.0; 0.0 0.0 0.0; 0.0 0.0 0.0], [0.0 0.0 0.0; 0.0 0.0 0.0; 0.0 0.0 0.0], 0.0), Main.var\"##313\".MaterialState{Float64, Tensors.SymmetricTensor{2, 3, Float64, 6}}([0.0 0.0 0.0; 0.0 0.0 0.0; 0.0 0.0 0.0], [0.0 0.0 0.0; 0.0 0.0 0.0; 0.0 0.0 0.0], 0.0), Main.var\"##313\".MaterialState{Float64, Tensors.SymmetricTensor{2, 3, Float64, 6}}([0.0 0.0 0.0; 0.0 0.0 0.0; 0.0 0.0 0.0], [0.0 0.0 0.0; 0.0 0.0 0.0; 0.0 0.0 0.0], 0.0)], nothing, nothing), nothing, Nothing[]), Dict{Int64, Vector{Main.var\"##313\".MaterialState{Float64, Tensors.SymmetricTensor{2, 3, Float64, 6}}}}(719 => [Main.var\"##313\".MaterialState{Float64, Tensors.SymmetricTensor{2, 3, Float64, 6}}([0.0 0.0 0.0; 0.0 0.0 0.0; 0.0 0.0 0.0], [0.0 0.0 0.0; 0.0 0.0 0.0; 0.0 0.0 0.0], 0.0), Main.var\"##313\".MaterialState{Float64, Tensors.SymmetricTensor{2, 3, Float64, 6}}([0.0 0.0 0.0; 0.0 0.0 0.0; 0.0 0.0 0.0], [0.0 0.0 0.0; 0.0 0.0 0.0; 0.0 0.0 0.0], 0.0), Main.var\"##313\".MaterialState{Float64, Tensors.SymmetricTensor{2, 3, Float64, 6}}([0.0 0.0 0.0; 0.0 0.0 0.0; 0.0 0.0 0.0], [0.0 0.0 0.0; 0.0 0.0 0.0; 0.0 0.0 0.0], 0.0), Main.var\"##313\".MaterialState{Float64, Tensors.SymmetricTensor{2, 3, Float64, 6}}([0.0 0.0 0.0; 0.0 0.0 0.0; 0.0 0.0 0.0], [0.0 0.0 0.0; 0.0 0.0 0.0; 0.0 0.0 0.0], 0.0)], 858 => [Main.var\"##313\".MaterialState{Float64, Tensors.SymmetricTensor{2, 3, Float64, 6}}([0.0 0.0 0.0; 0.0 0.0 0.0; 0.0 0.0 0.0], [0.0 0.0 0.0; 0.0 0.0 0.0; 0.0 0.0 0.0], 0.0), Main.var\"##313\".MaterialState{Float64, Tensors.SymmetricTensor{2, 3, Float64, 6}}([0.0 0.0 0.0; 0.0 0.0 0.0; 0.0 0.0 0.0], [0.0 0.0 0.0; 0.0 0.0 0.0; 0.0 0.0 0.0], 0.0), Main.var\"##313\".MaterialState{Float64, Tensors.SymmetricTensor{2, 3, Float64, 6}}([0.0 0.0 0.0; 0.0 0.0 0.0; 0.0 0.0 0.0], [0.0 0.0 0.0; 0.0 0.0 0.0; 0.0 0.0 0.0], 0.0), Main.var\"##313\".MaterialState{Float64, Tensors.SymmetricTensor{2, 3, Float64, 6}}([0.0 0.0 0.0; 0.0 0.0 0.0; 0.0 0.0 0.0], [0.0 0.0 0.0; 0.0 0.0 0.0; 0.0 0.0 0.0], 0.0)], 699 => [Main.var\"##313\".MaterialState{Float64, Tensors.SymmetricTensor{2, 3, Float64, 6}}([0.0 0.0 0.0; 0.0 0.0 0.0; 0.0 0.0 0.0], [0.0 0.0 0.0; 0.0 0.0 0.0; 0.0 0.0 0.0], 0.0), Main.var\"##313\".MaterialState{Float64, Tensors.SymmetricTensor{2, 3, Float64, 6}}([0.0 0.0 0.0; 0.0 0.0 0.0; 0.0 0.0 0.0], [0.0 0.0 0.0; 0.0 0.0 0.0; 0.0 0.0 0.0], 0.0), Main.var\"##313\".MaterialState{Float64, Tensors.SymmetricTensor{2, 3, Float64, 6}}([0.0 0.0 0.0; 0.0 0.0 0.0; 0.0 0.0 0.0], [0.0 0.0 0.0; 0.0 0.0 0.0; 0.0 0.0 0.0], 0.0), Main.var\"##313\".MaterialState{Float64, Tensors.SymmetricTensor{2, 3, Float64, 6}}([0.0 0.0 0.0; 0.0 0.0 0.0; 0.0 0.0 0.0], [0.0 0.0 0.0; 0.0 0.0 0.0; 0.0 0.0 0.0], 0.0)], 831 => [Main.var\"##313\".MaterialState{Float64, Tensors.SymmetricTensor{2, 3, Float64, 6}}([0.0 0.0 0.0; 0.0 0.0 0.0; 0.0 0.0 0.0], [0.0 0.0 0.0; 0.0 0.0 0.0; 0.0 0.0 0.0], 0.0), Main.var\"##313\".MaterialState{Float64, Tensors.SymmetricTensor{2, 3, Float64, 6}}([0.0 0.0 0.0; 0.0 0.0 0.0; 0.0 0.0 0.0], [0.0 0.0 0.0; 0.0 0.0 0.0; 0.0 0.0 0.0], 0.0), Main.var\"##313\".MaterialState{Float64, Tensors.SymmetricTensor{2, 3, Float64, 6}}([0.0 0.0 0.0; 0.0 0.0 0.0; 0.0 0.0 0.0], [0.0 0.0 0.0; 0.0 0.0 0.0; 0.0 0.0 0.0], 0.0), Main.var\"##313\".MaterialState{Float64, Tensors.SymmetricTensor{2, 3, Float64, 6}}([0.0 0.0 0.0; 0.0 0.0 0.0; 0.0 0.0 0.0], [0.0 0.0 0.0; 0.0 0.0 0.0; 0.0 0.0 0.0], 0.0)], 673 => [Main.var\"##313\".MaterialState{Float64, Tensors.SymmetricTensor{2, 3, Float64, 6}}([0.0 0.0 0.0; 0.0 0.0 0.0; 0.0 0.0 0.0], [0.0 0.0 0.0; 0.0 0.0 0.0; 0.0 0.0 0.0], 0.0), Main.var\"##313\".MaterialState{Float64, Tensors.SymmetricTensor{2, 3, Float64, 6}}([0.0 0.0 0.0; 0.0 0.0 0.0; 0.0 0.0 0.0], [0.0 0.0 0.0; 0.0 0.0 0.0; 0.0 0.0 0.0], 0.0), Main.var\"##313\".MaterialState{Float64, Tensors.SymmetricTensor{2, 3, Float64, 6}}([0.0 0.0 0.0; 0.0 0.0 0.0; 0.0 0.0 0.0], [0.0 0.0 0.0; 0.0 0.0 0.0; 0.0 0.0 0.0], 0.0), Main.var\"##313\".MaterialState{Float64, Tensors.SymmetricTensor{2, 3, Float64, 6}}([0.0 0.0 0.0; 0.0 0.0 0.0; 0.0 0.0 0.0], [0.0 0.0 0.0; 0.0 0.0 0.0; 0.0 0.0 0.0], 0.0)], 73 => [Main.var\"##313\".MaterialState{Float64, Tensors.SymmetricTensor{2, 3, Float64, 6}}([0.0 0.0 0.0; 0.0 0.0 0.0; 0.0 0.0 0.0], [0.0 0.0 0.0; 0.0 0.0 0.0; 0.0 0.0 0.0], 0.0), Main.var\"##313\".MaterialState{Float64, Tensors.SymmetricTensor{2, 3, Float64, 6}}([0.0 0.0 0.0; 0.0 0.0 0.0; 0.0 0.0 0.0], [0.0 0.0 0.0; 0.0 0.0 0.0; 0.0 0.0 0.0], 0.0), Main.var\"##313\".MaterialState{Float64, Tensors.SymmetricTensor{2, 3, Float64, 6}}([0.0 0.0 0.0; 0.0 0.0 0.0; 0.0 0.0 0.0], [0.0 0.0 0.0; 0.0 0.0 0.0; 0.0 0.0 0.0], 0.0), Main.var\"##313\".MaterialState{Float64, Tensors.SymmetricTensor{2, 3, Float64, 6}}([0.0 0.0 0.0; 0.0 0.0 0.0; 0.0 0.0 0.0], [0.0 0.0 0.0; 0.0 0.0 0.0; 0.0 0.0 0.0], 0.0)], 319 => [Main.var\"##313\".MaterialState{Float64, Tensors.SymmetricTensor{2, 3, Float64, 6}}([0.0 0.0 0.0; 0.0 0.0 0.0; 0.0 0.0 0.0], [0.0 0.0 0.0; 0.0 0.0 0.0; 0.0 0.0 0.0], 0.0), Main.var\"##313\".MaterialState{Float64, Tensors.SymmetricTensor{2, 3, Float64, 6}}([0.0 0.0 0.0; 0.0 0.0 0.0; 0.0 0.0 0.0], [0.0 0.0 0.0; 0.0 0.0 0.0; 0.0 0.0 0.0], 0.0), Main.var\"##313\".MaterialState{Float64, Tensors.SymmetricTensor{2, 3, Float64, 6}}([0.0 0.0 0.0; 0.0 0.0 0.0; 0.0 0.0 0.0], [0.0 0.0 0.0; 0.0 0.0 0.0; 0.0 0.0 0.0], 0.0), Main.var\"##313\".MaterialState{Float64, Tensors.SymmetricTensor{2, 3, Float64, 6}}([0.0 0.0 0.0; 0.0 0.0 0.0; 0.0 0.0 0.0], [0.0 0.0 0.0; 0.0 0.0 0.0; 0.0 0.0 0.0], 0.0)], 251 => [Main.var\"##313\".MaterialState{Float64, Tensors.SymmetricTensor{2, 3, Float64, 6}}([0.0 0.0 0.0; 0.0 0.0 0.0; 0.0 0.0 0.0], [0.0 0.0 0.0; 0.0 0.0 0.0; 0.0 0.0 0.0], 0.0), Main.var\"##313\".MaterialState{Float64, Tensors.SymmetricTensor{2, 3, Float64, 6}}([0.0 0.0 0.0; 0.0 0.0 0.0; 0.0 0.0 0.0], [0.0 0.0 0.0; 0.0 0.0 0.0; 0.0 0.0 0.0], 0.0), Main.var\"##313\".MaterialState{Float64, Tensors.SymmetricTensor{2, 3, Float64, 6}}([0.0 0.0 0.0; 0.0 0.0 0.0; 0.0 0.0 0.0], [0.0 0.0 0.0; 0.0 0.0 0.0; 0.0 0.0 0.0], 0.0), Main.var\"##313\".MaterialState{Float64, Tensors.SymmetricTensor{2, 3, Float64, 6}}([0.0 0.0 0.0; 0.0 0.0 0.0; 0.0 0.0 0.0], [0.0 0.0 0.0; 0.0 0.0 0.0; 0.0 0.0 0.0], 0.0)], 687 => [Main.var\"##313\".MaterialState{Float64, Tensors.SymmetricTensor{2, 3, Float64, 6}}([0.0 0.0 0.0; 0.0 0.0 0.0; 0.0 0.0 0.0], [0.0 0.0 0.0; 0.0 0.0 0.0; 0.0 0.0 0.0], 0.0), Main.var\"##313\".MaterialState{Float64, Tensors.SymmetricTensor{2, 3, Float64, 6}}([0.0 0.0 0.0; 0.0 0.0 0.0; 0.0 0.0 0.0], [0.0 0.0 0.0; 0.0 0.0 0.0; 0.0 0.0 0.0], 0.0), Main.var\"##313\".MaterialState{Float64, Tensors.SymmetricTensor{2, 3, Float64, 6}}([0.0 0.0 0.0; 0.0 0.0 0.0; 0.0 0.0 0.0], [0.0 0.0 0.0; 0.0 0.0 0.0; 0.0 0.0 0.0], 0.0), Main.var\"##313\".MaterialState{Float64, Tensors.SymmetricTensor{2, 3, Float64, 6}}([0.0 0.0 0.0; 0.0 0.0 0.0; 0.0 0.0 0.0], [0.0 0.0 0.0; 0.0 0.0 0.0; 0.0 0.0 0.0], 0.0)], 115 => [Main.var\"##313\".MaterialState{Float64, Tensors.SymmetricTensor{2, 3, Float64, 6}}([0.0 0.0 0.0; 0.0 0.0 0.0; 0.0 0.0 0.0], [0.0 0.0 0.0; 0.0 0.0 0.0; 0.0 0.0 0.0], 0.0), Main.var\"##313\".MaterialState{Float64, Tensors.SymmetricTensor{2, 3, Float64, 6}}([0.0 0.0 0.0; 0.0 0.0 0.0; 0.0 0.0 0.0], [0.0 0.0 0.0; 0.0 0.0 0.0; 0.0 0.0 0.0], 0.0), Main.var\"##313\".MaterialState{Float64, Tensors.SymmetricTensor{2, 3, Float64, 6}}([0.0 0.0 0.0; 0.0 0.0 0.0; 0.0 0.0 0.0], [0.0 0.0 0.0; 0.0 0.0 0.0; 0.0 0.0 0.0], 0.0), Main.var\"##313\".MaterialState{Float64, Tensors.SymmetricTensor{2, 3, Float64, 6}}([0.0 0.0 0.0; 0.0 0.0 0.0; 0.0 0.0 0.0], [0.0 0.0 0.0; 0.0 0.0 0.0; 0.0 0.0 0.0], 0.0)]…), Dict{Int64, Vector{Main.var\"##313\".MaterialState{Float64, Tensors.SymmetricTensor{2, 3, Float64, 6}}}}(719 => [Main.var\"##313\".MaterialState{Float64, Tensors.SymmetricTensor{2, 3, Float64, 6}}([0.0 0.0 0.0; 0.0 0.0 0.0; 0.0 0.0 0.0], [0.0 0.0 0.0; 0.0 0.0 0.0; 0.0 0.0 0.0], 0.0), Main.var\"##313\".MaterialState{Float64, Tensors.SymmetricTensor{2, 3, Float64, 6}}([0.0 0.0 0.0; 0.0 0.0 0.0; 0.0 0.0 0.0], [0.0 0.0 0.0; 0.0 0.0 0.0; 0.0 0.0 0.0], 0.0), Main.var\"##313\".MaterialState{Float64, Tensors.SymmetricTensor{2, 3, Float64, 6}}([0.0 0.0 0.0; 0.0 0.0 0.0; 0.0 0.0 0.0], [0.0 0.0 0.0; 0.0 0.0 0.0; 0.0 0.0 0.0], 0.0), Main.var\"##313\".MaterialState{Float64, Tensors.SymmetricTensor{2, 3, Float64, 6}}([0.0 0.0 0.0; 0.0 0.0 0.0; 0.0 0.0 0.0], [0.0 0.0 0.0; 0.0 0.0 0.0; 0.0 0.0 0.0], 0.0)], 858 => [Main.var\"##313\".MaterialState{Float64, Tensors.SymmetricTensor{2, 3, Float64, 6}}([0.0 0.0 0.0; 0.0 0.0 0.0; 0.0 0.0 0.0], [0.0 0.0 0.0; 0.0 0.0 0.0; 0.0 0.0 0.0], 0.0), Main.var\"##313\".MaterialState{Float64, Tensors.SymmetricTensor{2, 3, Float64, 6}}([0.0 0.0 0.0; 0.0 0.0 0.0; 0.0 0.0 0.0], [0.0 0.0 0.0; 0.0 0.0 0.0; 0.0 0.0 0.0], 0.0), Main.var\"##313\".MaterialState{Float64, Tensors.SymmetricTensor{2, 3, Float64, 6}}([0.0 0.0 0.0; 0.0 0.0 0.0; 0.0 0.0 0.0], [0.0 0.0 0.0; 0.0 0.0 0.0; 0.0 0.0 0.0], 0.0), Main.var\"##313\".MaterialState{Float64, Tensors.SymmetricTensor{2, 3, Float64, 6}}([0.0 0.0 0.0; 0.0 0.0 0.0; 0.0 0.0 0.0], [0.0 0.0 0.0; 0.0 0.0 0.0; 0.0 0.0 0.0], 0.0)], 699 => [Main.var\"##313\".MaterialState{Float64, Tensors.SymmetricTensor{2, 3, Float64, 6}}([0.0 0.0 0.0; 0.0 0.0 0.0; 0.0 0.0 0.0], [0.0 0.0 0.0; 0.0 0.0 0.0; 0.0 0.0 0.0], 0.0), Main.var\"##313\".MaterialState{Float64, Tensors.SymmetricTensor{2, 3, Float64, 6}}([0.0 0.0 0.0; 0.0 0.0 0.0; 0.0 0.0 0.0], [0.0 0.0 0.0; 0.0 0.0 0.0; 0.0 0.0 0.0], 0.0), Main.var\"##313\".MaterialState{Float64, Tensors.SymmetricTensor{2, 3, Float64, 6}}([0.0 0.0 0.0; 0.0 0.0 0.0; 0.0 0.0 0.0], [0.0 0.0 0.0; 0.0 0.0 0.0; 0.0 0.0 0.0], 0.0), Main.var\"##313\".MaterialState{Float64, Tensors.SymmetricTensor{2, 3, Float64, 6}}([0.0 0.0 0.0; 0.0 0.0 0.0; 0.0 0.0 0.0], [0.0 0.0 0.0; 0.0 0.0 0.0; 0.0 0.0 0.0], 0.0)], 831 => [Main.var\"##313\".MaterialState{Float64, Tensors.SymmetricTensor{2, 3, Float64, 6}}([0.0 0.0 0.0; 0.0 0.0 0.0; 0.0 0.0 0.0], [0.0 0.0 0.0; 0.0 0.0 0.0; 0.0 0.0 0.0], 0.0), Main.var\"##313\".MaterialState{Float64, Tensors.SymmetricTensor{2, 3, Float64, 6}}([0.0 0.0 0.0; 0.0 0.0 0.0; 0.0 0.0 0.0], [0.0 0.0 0.0; 0.0 0.0 0.0; 0.0 0.0 0.0], 0.0), Main.var\"##313\".MaterialState{Float64, Tensors.SymmetricTensor{2, 3, Float64, 6}}([0.0 0.0 0.0; 0.0 0.0 0.0; 0.0 0.0 0.0], [0.0 0.0 0.0; 0.0 0.0 0.0; 0.0 0.0 0.0], 0.0), Main.var\"##313\".MaterialState{Float64, Tensors.SymmetricTensor{2, 3, Float64, 6}}([0.0 0.0 0.0; 0.0 0.0 0.0; 0.0 0.0 0.0], [0.0 0.0 0.0; 0.0 0.0 0.0; 0.0 0.0 0.0], 0.0)], 673 => [Main.var\"##313\".MaterialState{Float64, Tensors.SymmetricTensor{2, 3, Float64, 6}}([0.0 0.0 0.0; 0.0 0.0 0.0; 0.0 0.0 0.0], [0.0 0.0 0.0; 0.0 0.0 0.0; 0.0 0.0 0.0], 0.0), Main.var\"##313\".MaterialState{Float64, Tensors.SymmetricTensor{2, 3, Float64, 6}}([0.0 0.0 0.0; 0.0 0.0 0.0; 0.0 0.0 0.0], [0.0 0.0 0.0; 0.0 0.0 0.0; 0.0 0.0 0.0], 0.0), Main.var\"##313\".MaterialState{Float64, Tensors.SymmetricTensor{2, 3, Float64, 6}}([0.0 0.0 0.0; 0.0 0.0 0.0; 0.0 0.0 0.0], [0.0 0.0 0.0; 0.0 0.0 0.0; 0.0 0.0 0.0], 0.0), Main.var\"##313\".MaterialState{Float64, Tensors.SymmetricTensor{2, 3, Float64, 6}}([0.0 0.0 0.0; 0.0 0.0 0.0; 0.0 0.0 0.0], [0.0 0.0 0.0; 0.0 0.0 0.0; 0.0 0.0 0.0], 0.0)], 73 => [Main.var\"##313\".MaterialState{Float64, Tensors.SymmetricTensor{2, 3, Float64, 6}}([0.0 0.0 0.0; 0.0 0.0 0.0; 0.0 0.0 0.0], [0.0 0.0 0.0; 0.0 0.0 0.0; 0.0 0.0 0.0], 0.0), Main.var\"##313\".MaterialState{Float64, Tensors.SymmetricTensor{2, 3, Float64, 6}}([0.0 0.0 0.0; 0.0 0.0 0.0; 0.0 0.0 0.0], [0.0 0.0 0.0; 0.0 0.0 0.0; 0.0 0.0 0.0], 0.0), Main.var\"##313\".MaterialState{Float64, Tensors.SymmetricTensor{2, 3, Float64, 6}}([0.0 0.0 0.0; 0.0 0.0 0.0; 0.0 0.0 0.0], [0.0 0.0 0.0; 0.0 0.0 0.0; 0.0 0.0 0.0], 0.0), Main.var\"##313\".MaterialState{Float64, Tensors.SymmetricTensor{2, 3, Float64, 6}}([0.0 0.0 0.0; 0.0 0.0 0.0; 0.0 0.0 0.0], [0.0 0.0 0.0; 0.0 0.0 0.0; 0.0 0.0 0.0], 0.0)], 319 => [Main.var\"##313\".MaterialState{Float64, Tensors.SymmetricTensor{2, 3, Float64, 6}}([0.0 0.0 0.0; 0.0 0.0 0.0; 0.0 0.0 0.0], [0.0 0.0 0.0; 0.0 0.0 0.0; 0.0 0.0 0.0], 0.0), Main.var\"##313\".MaterialState{Float64, Tensors.SymmetricTensor{2, 3, Float64, 6}}([0.0 0.0 0.0; 0.0 0.0 0.0; 0.0 0.0 0.0], [0.0 0.0 0.0; 0.0 0.0 0.0; 0.0 0.0 0.0], 0.0), Main.var\"##313\".MaterialState{Float64, Tensors.SymmetricTensor{2, 3, Float64, 6}}([0.0 0.0 0.0; 0.0 0.0 0.0; 0.0 0.0 0.0], [0.0 0.0 0.0; 0.0 0.0 0.0; 0.0 0.0 0.0], 0.0), Main.var\"##313\".MaterialState{Float64, Tensors.SymmetricTensor{2, 3, Float64, 6}}([0.0 0.0 0.0; 0.0 0.0 0.0; 0.0 0.0 0.0], [0.0 0.0 0.0; 0.0 0.0 0.0; 0.0 0.0 0.0], 0.0)], 251 => [Main.var\"##313\".MaterialState{Float64, Tensors.SymmetricTensor{2, 3, Float64, 6}}([0.0 0.0 0.0; 0.0 0.0 0.0; 0.0 0.0 0.0], [0.0 0.0 0.0; 0.0 0.0 0.0; 0.0 0.0 0.0], 0.0), Main.var\"##313\".MaterialState{Float64, Tensors.SymmetricTensor{2, 3, Float64, 6}}([0.0 0.0 0.0; 0.0 0.0 0.0; 0.0 0.0 0.0], [0.0 0.0 0.0; 0.0 0.0 0.0; 0.0 0.0 0.0], 0.0), Main.var\"##313\".MaterialState{Float64, Tensors.SymmetricTensor{2, 3, Float64, 6}}([0.0 0.0 0.0; 0.0 0.0 0.0; 0.0 0.0 0.0], [0.0 0.0 0.0; 0.0 0.0 0.0; 0.0 0.0 0.0], 0.0), Main.var\"##313\".MaterialState{Float64, Tensors.SymmetricTensor{2, 3, Float64, 6}}([0.0 0.0 0.0; 0.0 0.0 0.0; 0.0 0.0 0.0], [0.0 0.0 0.0; 0.0 0.0 0.0; 0.0 0.0 0.0], 0.0)], 687 => [Main.var\"##313\".MaterialState{Float64, Tensors.SymmetricTensor{2, 3, Float64, 6}}([0.0 0.0 0.0; 0.0 0.0 0.0; 0.0 0.0 0.0], [0.0 0.0 0.0; 0.0 0.0 0.0; 0.0 0.0 0.0], 0.0), Main.var\"##313\".MaterialState{Float64, Tensors.SymmetricTensor{2, 3, Float64, 6}}([0.0 0.0 0.0; 0.0 0.0 0.0; 0.0 0.0 0.0], [0.0 0.0 0.0; 0.0 0.0 0.0; 0.0 0.0 0.0], 0.0), Main.var\"##313\".MaterialState{Float64, Tensors.SymmetricTensor{2, 3, Float64, 6}}([0.0 0.0 0.0; 0.0 0.0 0.0; 0.0 0.0 0.0], [0.0 0.0 0.0; 0.0 0.0 0.0; 0.0 0.0 0.0], 0.0), Main.var\"##313\".MaterialState{Float64, Tensors.SymmetricTensor{2, 3, Float64, 6}}([0.0 0.0 0.0; 0.0 0.0 0.0; 0.0 0.0 0.0], [0.0 0.0 0.0; 0.0 0.0 0.0; 0.0 0.0 0.0], 0.0)], 115 => [Main.var\"##313\".MaterialState{Float64, Tensors.SymmetricTensor{2, 3, Float64, 6}}([0.0 0.0 0.0; 0.0 0.0 0.0; 0.0 0.0 0.0], [0.0 0.0 0.0; 0.0 0.0 0.0; 0.0 0.0 0.0], 0.0), Main.var\"##313\".MaterialState{Float64, Tensors.SymmetricTensor{2, 3, Float64, 6}}([0.0 0.0 0.0; 0.0 0.0 0.0; 0.0 0.0 0.0], [0.0 0.0 0.0; 0.0 0.0 0.0; 0.0 0.0 0.0], 0.0), Main.var\"##313\".MaterialState{Float64, Tensors.SymmetricTensor{2, 3, Float64, 6}}([0.0 0.0 0.0; 0.0 0.0 0.0; 0.0 0.0 0.0], [0.0 0.0 0.0; 0.0 0.0 0.0; 0.0 0.0 0.0], 0.0), Main.var\"##313\".MaterialState{Float64, Tensors.SymmetricTensor{2, 3, Float64, 6}}([0.0 0.0 0.0; 0.0 0.0 0.0; 0.0 0.0 0.0], [0.0 0.0 0.0; 0.0 0.0 0.0; 0.0 0.0 0.0], 0.0)]…))"
     },
     "metadata": {},
     "execution_count": 4
    }
   ],
   "cell_type": "code",
   "source": [
    "buffer, states_old, states_new = setup_assembly(dh, material, cellvalues)"
   ],
   "metadata": {},
   "execution_count": 4
  },
  {
   "cell_type": "markdown",
   "source": [
    "we setup the `buffer`, old state variables, and new state variables.\n",
    "The state variables are created via the `create_cell_state`\n",
    "function that is already defined for `MaterialModelsBase.AbstractMaterial`"
   ],
   "metadata": {}
  },
  {
   "cell_type": "markdown",
   "source": [
    "We can now just provide an initial guess for the degree of freedom vector,`a`,\n",
    "and do the assembly"
   ],
   "metadata": {}
  },
  {
   "outputs": [],
   "cell_type": "code",
   "source": [
    "a = zeros(ndofs(dh))\n",
    "doassemble!(K, r, states_new, states_old, buffer; a=a);"
   ],
   "metadata": {},
   "execution_count": 5
  },
  {
   "cell_type": "markdown",
   "source": [
    "If we would have a rate-dependent material, such that the time increment mattered,\n",
    "we can also supply that (but that is not required in this example)"
   ],
   "metadata": {}
  },
  {
   "outputs": [],
   "cell_type": "code",
   "source": [
    "doassemble!(K, r, states_new, states_old, buffer; a=a, Δt=1.0);"
   ],
   "metadata": {},
   "execution_count": 6
  },
  {
   "cell_type": "markdown",
   "source": [
    "In a full FE-program we iterate until convergence to find `a`. When converged,\n",
    "we go to the next time step, and would like to set the old state equal to the\n",
    "current state, which we can do by calling"
   ],
   "metadata": {}
  },
  {
   "outputs": [],
   "cell_type": "code",
   "source": [
    "update_states!(states_old, states_new)"
   ],
   "metadata": {},
   "execution_count": 7
  },
  {
   "cell_type": "markdown",
   "source": [
    "If we would like to access the states in any cell, states_old and states_new can be\n",
    "indexed with the cell number."
   ],
   "metadata": {}
  },
  {
   "cell_type": "markdown",
   "source": [
    "---\n",
    "\n",
    "*This notebook was generated using [Literate.jl](https://github.com/fredrikekre/Literate.jl).*"
   ],
   "metadata": {}
  }
 ],
 "nbformat_minor": 3,
 "metadata": {
  "language_info": {
   "file_extension": ".jl",
   "mimetype": "application/julia",
   "name": "julia",
   "version": "1.8.5"
  },
  "kernelspec": {
   "name": "julia-1.8",
   "display_name": "Julia 1.8.5",
   "language": "julia"
  }
 },
 "nbformat": 4
}
