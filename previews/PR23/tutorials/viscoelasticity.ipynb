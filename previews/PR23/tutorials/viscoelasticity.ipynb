{
 "cells": [
  {
   "cell_type": "markdown",
   "source": [
    "# Viscoelasticity with state variables\n",
    "In this example, we will use a generalization of the so-called\n",
    "Zener viscoelastic material model, which can be illustrated by\n",
    "the following rheological model\n",
    "\n",
    "![Zener](zener.svg)\n",
    "\n",
    "We assume a volumetric-deviatoric split of the strain,\n",
    "and consider isotropic behavior, such that the model\n",
    "can be described as\n",
    "$$\n",
    "\\begin{aligned}\n",
    "\\boldsymbol{\\sigma} &= \\boldsymbol{\\sigma}^\\mathrm{vol} + \\boldsymbol{\\sigma}^\\mathrm{dev} \\\\\n",
    "\\boldsymbol{\\sigma}^\\mathrm{vol} &= K\\boldsymbol{\\epsilon}^\\mathrm{vol}\\\\\n",
    "\\boldsymbol{\\sigma}^\\mathrm{dev} &= 2G_1 \\boldsymbol{\\epsilon}^\\mathrm{dev} + 2G_2 \\boldsymbol{\\epsilon}^\\mathrm{dev}_\\mathrm{e} \\\\\n",
    "2G_2 \\boldsymbol{\\epsilon}^\\mathrm{dev}_\\mathrm{e} &= \\eta \\dot{\\boldsymbol{\\epsilon}}_\\mathrm{v}^\\mathrm{dev} \\\\\n",
    "\\boldsymbol{\\epsilon}^\\mathrm{dev} &= \\boldsymbol{\\epsilon}^\\mathrm{dev}_\\mathrm{e} + \\boldsymbol{\\epsilon}^\\mathrm{dev}_\\mathrm{v}\n",
    "\\end{aligned}\n",
    "$$\n",
    "where we have the bulk modulus, $K$, shear modulii $G_1$ and $G_2$ (such that $\\mathsf{E}_i=2G_i\\mathsf{I}^\\mathrm{dev}$),\n",
    "and viscosity $\\eta$ (such that $\\mathsf{V}=\\eta\\mathsf{I}$)\n",
    "Solving this equation system using the old viscous strain, $\\boldsymbol{\\epsilon}^\\mathrm{dev}$, as a state variable,\n",
    "we obtain\n",
    "$$\n",
    "\\begin{aligned}\n",
    "\\boldsymbol{\\epsilon}^\\mathrm{dev}_\\mathrm{v} &=\n",
    "\\frac{2\\Delta t*G_2*\\boldsymbol{\\epsilon}^\\mathrm{dev} + \\eta {}^\\mathrm{n}\\boldsymbol{\\epsilon}^\\mathrm{dev}_\\mathrm{v}}{\\eta + 2\\Delta t G_2} \\\\\n",
    "\\boldsymbol{\\sigma} &= K \\boldsymbol{\\epsilon}^\\mathrm{vol} + 2G_1 \\boldsymbol{\\epsilon}^\\mathrm{dev} + 2G_2 [\\boldsymbol{\\epsilon}^\\mathrm{dev}-\\boldsymbol{\\epsilon}^\\mathrm{dev}_\\mathrm{v}]\n",
    "\\end{aligned}\n",
    "$$\n",
    "\n",
    "The full script without intermediate comments is available at the\n",
    "bottom of this page.\n",
    "\n",
    "We start by loading required packages"
   ],
   "metadata": {}
  },
  {
   "outputs": [],
   "cell_type": "code",
   "source": [
    "using Ferrite, Tensors\n",
    "using FerriteAssembly\n",
    "import CairoMakie as CM"
   ],
   "metadata": {},
   "execution_count": 1
  },
  {
   "cell_type": "markdown",
   "source": [
    "## Material modeling\n",
    "The easiest way to implement this behavior, would be to use the existing interface from\n",
    "[MaterialModelsBase.jl](https://github.com/KnutAM/MaterialModelsBase.jl). But for the purpose\n",
    "of this tutorial, we will do it from scratch to show how to handle state variables in the\n",
    "finite element code. To start the material modeling, we define a material struct with all\n",
    "parameters."
   ],
   "metadata": {}
  },
  {
   "outputs": [],
   "cell_type": "code",
   "source": [
    "Base.@kwdef struct ZenerMaterial{T}\n",
    "    K::T =5.0   # Bulk modulus\n",
    "    G1::T=1.0   # Shear modulus, parallel\n",
    "    G2::T=50.   # Shear modulus, series\n",
    "    η::T =5.0   # Damping modulus\n",
    "end;"
   ],
   "metadata": {},
   "execution_count": 2
  },
  {
   "cell_type": "markdown",
   "source": [
    "We then define how to the initial state variables should look like, which also defines the structure\n",
    "of the state variables. In this case, we will just have states being a single tensor (viscous strain)\n",
    "for each integration point"
   ],
   "metadata": {}
  },
  {
   "outputs": [],
   "cell_type": "code",
   "source": [
    "function FerriteAssembly.create_cell_state(::ZenerMaterial, cv::CellValues, args...)\n",
    "    ϵ_template = shape_symmetric_gradient(cv, 1, 1) # ::SymmetricTensor\n",
    "    return [zero(ϵ_template) for _ in 1:getnquadpoints(cv)]\n",
    "end;"
   ],
   "metadata": {},
   "execution_count": 3
  },
  {
   "cell_type": "markdown",
   "source": [
    "Following this, we define the `element_residual!` function (we will use automatic differentiation\n",
    "to calculate the element stiffness)."
   ],
   "metadata": {}
  },
  {
   "outputs": [],
   "cell_type": "code",
   "source": [
    "function FerriteAssembly.element_residual!(re, state, ae, m::ZenerMaterial, cv::CellValues, buffer)\n",
    "    Δt = FerriteAssembly.get_time_increment(buffer)\n",
    "    old_ϵvs = FerriteAssembly.get_old_state(buffer)\n",
    "    for q_point in 1:getnquadpoints(cv)\n",
    "        old_ϵv = old_ϵvs[q_point]\n",
    "        dΩ = getdetJdV(cv, q_point)\n",
    "        ϵ = function_symmetric_gradient(cv, q_point, ae)\n",
    "        ϵdev = dev(ϵ)\n",
    "        ϵv = (Δt*2*m.G2*ϵdev + m.η*old_ϵv)/(m.η + Δt*2*m.G2)\n",
    "        σ = (m.G1+m.G2)*2*ϵdev - 2*m.G2*ϵv + m.K*vol(ϵ)\n",
    "        for i in 1:getnbasefunctions(cv)\n",
    "            δ∇N = shape_symmetric_gradient(cv, q_point, i)\n",
    "            re[i] += (δ∇N⊡σ)*dΩ\n",
    "        end\n",
    "        # Note that to save the state by mutation, we need to extract the value from the dual\n",
    "        # number. Consequently, we do this before assigning to the state vector. Note that\n",
    "        # if the state was a scalar, we should use `ForwardDiff.value` instead.\n",
    "        state[q_point] = Tensors._extract_value(ϵv)\n",
    "    end\n",
    "end;"
   ],
   "metadata": {},
   "execution_count": 4
  },
  {
   "cell_type": "markdown",
   "source": [
    "## Finite element setup\n",
    "To setup our problem, we use a simple grid and define all interpolations, quadrature rules,\n",
    "etc. as normally for `Ferrite` simulations. We also define the `Zener` material and create the\n",
    "domain buffer."
   ],
   "metadata": {}
  },
  {
   "outputs": [],
   "cell_type": "code",
   "source": [
    "grid = generate_grid(Quadrilateral, (2,2))\n",
    "ip = Ferrite.default_interpolation(Quadrilateral)\n",
    "dh = DofHandler(grid)\n",
    "add!(dh, :u, ip^2)\n",
    "close!(dh)\n",
    "qr = QuadratureRule{RefQuadrilateral}(2)\n",
    "cv = CellValues(qr, ip^2, ip)\n",
    "m = ZenerMaterial()\n",
    "domain = DomainSpec(dh, m, cv)\n",
    "buffer = setup_domainbuffer(domain);"
   ],
   "metadata": {},
   "execution_count": 5
  },
  {
   "cell_type": "markdown",
   "source": [
    "Simple sliding boundary conditions are used to ensure a uniaxial response."
   ],
   "metadata": {}
  },
  {
   "outputs": [],
   "cell_type": "code",
   "source": [
    "ch = ConstraintHandler(dh)\n",
    "add!(ch, Dirichlet(:u, getfaceset(grid, \"left\"), Returns(0.0), 1))\n",
    "add!(ch, Dirichlet(:u, getfaceset(grid, \"bottom\"), Returns(0.0), 2))\n",
    "close!(ch)\n",
    "update!(ch, 0.0);"
   ],
   "metadata": {},
   "execution_count": 6
  },
  {
   "cell_type": "markdown",
   "source": [
    "We use `FerriteAssembly`'s `LoadHandler` to apply the Neumann boundary conditions,\n",
    "which consist of a ramp followed by a hold."
   ],
   "metadata": {}
  },
  {
   "outputs": [],
   "cell_type": "code",
   "source": [
    "lh = LoadHandler(dh)\n",
    "traction(t) = clamp(t, 0, 1)*Vec((1.0, 0.0))\n",
    "add!(lh, Neumann(:u, 2, getfaceset(grid, \"right\"), (x, t, n) -> traction(t)));"
   ],
   "metadata": {},
   "execution_count": 7
  },
  {
   "cell_type": "markdown",
   "source": [
    "## Finite element solution\n",
    "Given this setup, we define a function that steps through the time history,\n",
    "and for each time step, iterates to find the correct solution. After convergence,\n",
    "we update the state variables."
   ],
   "metadata": {}
  },
  {
   "outputs": [],
   "cell_type": "code",
   "source": [
    "function solve_nonlinear_timehistory(buffer, dh, ch, lh; time_history)\n",
    "    maxiter = 10\n",
    "    tolerance = 1e-6\n",
    "    K = create_sparsity_pattern(dh)\n",
    "    r = zeros(ndofs(dh))\n",
    "    f = zeros(ndofs(dh))\n",
    "    a = zeros(ndofs(dh))\n",
    "    t_force = [0.0]\n",
    "    u1_max = [0.0]\n",
    "    told = 0.0\n",
    "    for t in time_history\n",
    "        # Update and apply the Dirichlet boundary conditions\n",
    "        update!(ch, t)\n",
    "        apply!(a, ch)\n",
    "        # Update and apply the Neumann boundary conditions\n",
    "        fill!(f, 0)\n",
    "        apply!(f, lh, t)\n",
    "        # Update the time increment (passed to `element_residual!`)\n",
    "        set_time_increment!(buffer, t-told)\n",
    "        for i in 1:maxiter\n",
    "            # Assemble the system\n",
    "            assembler = start_assemble(K, r)\n",
    "            work!(assembler, buffer; a=a)\n",
    "            r .-= f\n",
    "            # Apply boundary conditions\n",
    "            apply_zero!(K, r, ch)\n",
    "            # Check convergence\n",
    "            norm(r) < tolerance && break\n",
    "            i == maxiter && error(\"Did not converge\")\n",
    "            # Solve the linear system and update the dof vector\n",
    "            a .-= K\\r\n",
    "            apply!(a, ch) # Make sure Dirichlet BC are exactly fullfilled\n",
    "        end\n",
    "        # If converged, update the old state variables to the current.\n",
    "        update_states!(buffer)\n",
    "\n",
    "        # Save values for postprocessing\n",
    "        push!(t_force, norm(traction(t)))\n",
    "        push!(u1_max, maximum(a))\n",
    "        told = t\n",
    "    end\n",
    "    return u1_max, t_force\n",
    "end;"
   ],
   "metadata": {},
   "execution_count": 8
  },
  {
   "cell_type": "markdown",
   "source": [
    "Define a time history with uneven time steps (shorter in the beginning)"
   ],
   "metadata": {}
  },
  {
   "outputs": [],
   "cell_type": "code",
   "source": [
    "time_history = collect(range(0,1,10)).^2\n",
    "append!(time_history, 1 .+ collect(range(0,1,10)[2:end]).^2)\n",
    "\n",
    "u1_max, t_force = solve_nonlinear_timehistory(buffer, dh, ch, lh; time_history=time_history[2:end]);"
   ],
   "metadata": {},
   "execution_count": 9
  },
  {
   "cell_type": "markdown",
   "source": [
    "## Plot the results"
   ],
   "metadata": {}
  },
  {
   "outputs": [
    {
     "output_type": "execute_result",
     "data": {
      "text/plain": "Figure()",
      "image/png": "[encoded data removed]"
     },
     "metadata": {},
     "execution_count": 10
    }
   ],
   "cell_type": "code",
   "source": [
    "fig = CM.Figure()\n",
    "ax_t = CM.Axis(fig[1,1]; xlabel=\"time\", ylabel=\"traction\")\n",
    "ax_d = CM.Axis(fig[2,1]; xlabel=\"time\", ylabel=\"displacement\")\n",
    "CM.lines!(ax_t, time_history, t_force)\n",
    "CM.scatter!(ax_t, time_history, t_force)\n",
    "CM.lines!(ax_d, time_history, u1_max)\n",
    "CM.scatter!(ax_d, time_history, u1_max)\n",
    "fig"
   ],
   "metadata": {},
   "execution_count": 10
  },
  {
   "cell_type": "markdown",
   "source": [
    "---\n",
    "\n",
    "*This notebook was generated using [Literate.jl](https://github.com/fredrikekre/Literate.jl).*"
   ],
   "metadata": {}
  }
 ],
 "nbformat_minor": 3,
 "metadata": {
  "language_info": {
   "file_extension": ".jl",
   "mimetype": "application/julia",
   "name": "julia",
   "version": "1.9.4"
  },
  "kernelspec": {
   "name": "julia-1.9",
   "display_name": "Julia 1.9.4",
   "language": "julia"
  }
 },
 "nbformat": 4
}
