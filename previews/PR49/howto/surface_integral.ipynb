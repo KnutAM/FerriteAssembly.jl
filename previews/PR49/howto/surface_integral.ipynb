{
 "cells": [
  {
   "cell_type": "markdown",
   "source": [
    "# Surface integration"
   ],
   "metadata": {}
  },
  {
   "outputs": [],
   "cell_type": "code",
   "source": [
    "using Ferrite, FerriteAssembly"
   ],
   "metadata": {},
   "execution_count": 1
  },
  {
   "cell_type": "markdown",
   "source": [
    "This how-to shows integration of the normal flux\n",
    "on a surface. As usual, we need the basic Ferrite\n",
    "building blocks, in this case a grid, dofhandler,\n",
    "and facetvalues"
   ],
   "metadata": {}
  },
  {
   "outputs": [],
   "cell_type": "code",
   "source": [
    "grid = generate_grid(Hexahedron, (5,5,5))\n",
    "ip = Lagrange{RefHexahedron,1}()\n",
    "dh = DofHandler(grid); add!(dh, :u, ip); close!(dh)\n",
    "qr = FacetQuadratureRule{RefHexahedron}(2);\n",
    "fv = FacetValues(qr, ip);"
   ],
   "metadata": {},
   "execution_count": 2
  },
  {
   "cell_type": "markdown",
   "source": [
    "We also need a solution vector to integrate,\n",
    "unless we only calculate geometric properties."
   ],
   "metadata": {}
  },
  {
   "outputs": [],
   "cell_type": "code",
   "source": [
    "a = zeros(ndofs(dh))\n",
    "apply_analytical!(a, dh, :u, norm); # f(x)=norm(x)"
   ],
   "metadata": {},
   "execution_count": 3
  },
  {
   "cell_type": "markdown",
   "source": [
    "And then we decide which facets to integrate over"
   ],
   "metadata": {}
  },
  {
   "outputs": [],
   "cell_type": "code",
   "source": [
    "domainbuffer = setup_domainbuffer(DomainSpec(dh, nothing, fv; set=getfacetset(grid, \"right\")));"
   ],
   "metadata": {},
   "execution_count": 4
  },
  {
   "cell_type": "markdown",
   "source": [
    "## Using `SimpleIntegrator`\n",
    "Using the simple interface, `SimpleIntegrator`, we simply\n",
    "give it the function, `(u,∇u,n)->∇u⋅n`, and the initial value"
   ],
   "metadata": {}
  },
  {
   "outputs": [],
   "cell_type": "code",
   "source": [
    "s_integrator = SimpleIntegrator((u,∇u,n)->∇u⋅n, 0.0);"
   ],
   "metadata": {},
   "execution_count": 5
  },
  {
   "cell_type": "markdown",
   "source": [
    "And then let it do its work"
   ],
   "metadata": {}
  },
  {
   "outputs": [
    {
     "name": "stdout",
     "output_type": "stream",
     "text": [
      "Flux: ∫qₙ dA = 2.8636826734618444\n"
     ]
    }
   ],
   "cell_type": "code",
   "source": [
    "work!(s_integrator, domainbuffer; a=a);\n",
    "\n",
    "println(\"Flux: ∫qₙ dA = \", s_integrator.val)"
   ],
   "metadata": {},
   "execution_count": 6
  },
  {
   "cell_type": "markdown",
   "source": [
    "## Using `Integrator`\n",
    "To demonstrate how the full-fledged interface can be used, we\n",
    "perform the same task by using the `Integrator`.\n",
    "To do that, we have to define an integrand, let's call it `NormalFlux`,\n",
    "and overload the facet integration function"
   ],
   "metadata": {}
  },
  {
   "outputs": [],
   "cell_type": "code",
   "source": [
    "mutable struct NormalFlux{T}\n",
    "    qn::T\n",
    "end\n",
    "function FerriteAssembly.integrate_facet!(nf::NormalFlux, ae, material, fv, facetbuffer)\n",
    "    for q_point in 1:getnquadpoints(fv)\n",
    "        dA = getdetJdV(fv, q_point)\n",
    "        ∇u = function_gradient(fv, q_point, ae)\n",
    "        n = getnormal(fv, q_point)\n",
    "        nf.qn += (∇u⋅n)*dA\n",
    "    end\n",
    "end;"
   ],
   "metadata": {},
   "execution_count": 7
  },
  {
   "cell_type": "markdown",
   "source": [
    "To do the actual integration, we define an instance of the integrand,\n",
    "create an `Integrator`, and do the work."
   ],
   "metadata": {}
  },
  {
   "outputs": [
    {
     "name": "stdout",
     "output_type": "stream",
     "text": [
      "Flux: ∫qₙ dA = 2.8636826734618444\n"
     ]
    }
   ],
   "cell_type": "code",
   "source": [
    "nf = NormalFlux(0.0)\n",
    "integrator = Integrator(nf)\n",
    "work!(integrator, domainbuffer; a=a)\n",
    "\n",
    "println(\"Flux: ∫qₙ dA = \", nf.qn)"
   ],
   "metadata": {},
   "execution_count": 8
  },
  {
   "cell_type": "markdown",
   "source": [
    "---\n",
    "\n",
    "*This notebook was generated using [Literate.jl](https://github.com/fredrikekre/Literate.jl).*"
   ],
   "metadata": {}
  }
 ],
 "nbformat_minor": 3,
 "metadata": {
  "language_info": {
   "file_extension": ".jl",
   "mimetype": "application/julia",
   "name": "julia",
   "version": "1.11.5"
  },
  "kernelspec": {
   "name": "julia-1.11",
   "display_name": "Julia 1.11.5",
   "language": "julia"
  }
 },
 "nbformat": 4
}
